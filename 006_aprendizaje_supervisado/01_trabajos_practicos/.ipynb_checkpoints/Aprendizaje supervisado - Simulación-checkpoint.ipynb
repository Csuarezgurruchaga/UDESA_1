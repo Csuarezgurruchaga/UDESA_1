{
 "cells": [
  {
   "cell_type": "code",
   "execution_count": 91,
   "id": "c4304422",
   "metadata": {},
   "outputs": [],
   "source": [
    "import numpy as np\n",
    "import sklearn\n",
    "from sklearn.discriminant_analysis import LinearDiscriminantAnalysis\n",
    "import matplotlib.pyplot as plt\n",
    "from sklearn.metrics import confusion_matrix\n",
    "from sklearn.metrics import accuracy_score\n",
    "from sklearn.discriminant_analysis import QuadraticDiscriminantAnalysis\n",
    "from sklearn.naive_bayes import GaussianNB\n",
    "from sklearn import tree"
   ]
  },
  {
   "cell_type": "code",
   "execution_count": 68,
   "id": "f9ba71ce",
   "metadata": {},
   "outputs": [],
   "source": [
    "### Distribucion1"
   ]
  },
  {
   "cell_type": "code",
   "execution_count": 46,
   "id": "08348e0f",
   "metadata": {},
   "outputs": [],
   "source": [
    "c_1 = 2\n",
    "mean1_1 = [1,1,1]\n",
    "mean2_1 = [c_1*1,c_1*1,1]\n",
    "cor_1 = 0\n",
    "cov_1 = [[1,cor_1,0],[cor_1,1,0],[0,0,1]]\n",
    "x_train_1 = np.random.multivariate_normal(mean1_1,cov_1,100)\n",
    "y_train_1 = np.random.choice(2,100)\n",
    "x_test_1 = np.random.multivariate_normal(mean2_1,cov_1,100)\n",
    "y_test_1 = np.random.choice(2,100)"
   ]
  },
  {
   "cell_type": "code",
   "execution_count": 79,
   "id": "0c37b996",
   "metadata": {},
   "outputs": [
    {
     "data": {
      "text/plain": [
       "0.47"
      ]
     },
     "execution_count": 79,
     "metadata": {},
     "output_type": "execute_result"
    }
   ],
   "source": [
    "##LDA\n",
    "#Paso 1: armo el modelo\n",
    "lda_simulation_1 = LinearDiscriminantAnalysis()\n",
    "lda_simulation_1.fit(x_train_1,y_train_1)\n",
    "\n",
    "#Paso 2: predigo/clasifico\n",
    "lda_y_pred_1 = lda_simulation_1.predict(x_test_1)\n",
    "lda_y_pred_1\n",
    "\n",
    "#Paso 3: armo matriz de confusión\n",
    "lda_confusion_1 = confusion_matrix(y_test_1,lda_y_pred_1)\n",
    "lda_confusion_1\n",
    "\n",
    "#Paso 4: elijo una métrica y la calculo. Accuracy\n",
    "lda_accuracy_1 = accuracy_score(y_test_1,lda_y_pred_1)\n",
    "lda_accuracy_1"
   ]
  },
  {
   "cell_type": "code",
   "execution_count": 83,
   "id": "bc8bb9bb",
   "metadata": {},
   "outputs": [
    {
     "data": {
      "text/plain": [
       "0.5"
      ]
     },
     "execution_count": 83,
     "metadata": {},
     "output_type": "execute_result"
    }
   ],
   "source": [
    "##QDA\n",
    "#Paso 1: armo el modelo\n",
    "qda_simulation_1 = QuadraticDiscriminantAnalysis()\n",
    "qda_simulation_1.fit(x_train_1,y_train_1)\n",
    "\n",
    "#Paso 2: predigo/clasifico\n",
    "qda_y_pred_1 = qda_simulation_1.predict(x_test_1)\n",
    "qda_y_pred_1\n",
    "\n",
    "#Paso 3: armo matriz de confusión\n",
    "qda_confusion_1 = confusion_matrix(y_test_1,qda_y_pred_1)\n",
    "qda_confusion_1\n",
    "\n",
    "#Paso 4: elijo una métrica y la calculo. Accuracy\n",
    "qda_accuracy_1 = accuracy_score(y_test_1,qda_y_pred_1)\n",
    "qda_accuracy_1"
   ]
  },
  {
   "cell_type": "code",
   "execution_count": 88,
   "id": "570219cf",
   "metadata": {},
   "outputs": [
    {
     "data": {
      "text/plain": [
       "0.45"
      ]
     },
     "execution_count": 88,
     "metadata": {},
     "output_type": "execute_result"
    }
   ],
   "source": [
    "##NaiveBayes\n",
    "#Paso 1: armo el modelo\n",
    "nb_simulation_1 = GaussianNB()\n",
    "nb_simulation_1.fit(x_train_1,y_train_1)\n",
    "\n",
    "#Paso 2: predigo/clasifico\n",
    "nb_y_pred_1 = nb_simulation_1.predict(x_test_1)\n",
    "nb_y_pred_1\n",
    "\n",
    "#Paso 3: armo matriz de confusión\n",
    "nb_confusion_1 = confusion_matrix(y_test_1,nb_y_pred_1)\n",
    "nb_confusion_1\n",
    "\n",
    "#Paso 4: elijo una métrica y la calculo. Accuracy\n",
    "nb_accuracy_1 = accuracy_score(y_test_1,nb_y_pred_1)\n",
    "nb_accuracy_1"
   ]
  },
  {
   "cell_type": "code",
   "execution_count": 92,
   "id": "412b6c32",
   "metadata": {},
   "outputs": [
    {
     "data": {
      "text/plain": [
       "0.49"
      ]
     },
     "execution_count": 92,
     "metadata": {},
     "output_type": "execute_result"
    }
   ],
   "source": [
    "##DecisionTree\n",
    "#Paso 1: armo el modelo\n",
    "tr_simulation_1 = tree.DecisionTreeClassifier()\n",
    "tr_simulation_1.fit(x_train_1,y_train_1)\n",
    "\n",
    "#Paso 2: predigo/clasifico\n",
    "tr_y_pred_1 = tr_simulation_1.predict(x_test_1)\n",
    "tr_y_pred_1\n",
    "\n",
    "#Paso 3: armo matriz de confusión\n",
    "tr_confusion_1 = confusion_matrix(y_test_1,tr_y_pred_1)\n",
    "tr_confusion_1\n",
    "\n",
    "#Paso 4: elijo una métrica y la calculo. Accuracy\n",
    "tr_accuracy_1 = accuracy_score(y_test_1,tr_y_pred_1)\n",
    "tr_accuracy_1"
   ]
  },
  {
   "cell_type": "code",
   "execution_count": 93,
   "id": "f1a357e9",
   "metadata": {},
   "outputs": [
    {
     "data": {
      "text/plain": [
       "[Text(98.8875, 208.38, 'X[1] <= 0.808\\ngini = 0.493\\nsamples = 100\\nvalue = [56, 44]'),\n",
       " Text(43.2, 190.26, 'X[2] <= -0.076\\ngini = 0.486\\nsamples = 36\\nvalue = [15, 21]'),\n",
       " Text(21.6, 172.14, 'X[0] <= 1.629\\ngini = 0.375\\nsamples = 4\\nvalue = [3, 1]'),\n",
       " Text(10.8, 154.01999999999998, 'gini = 0.0\\nsamples = 1\\nvalue = [0, 1]'),\n",
       " Text(32.400000000000006, 154.01999999999998, 'gini = 0.0\\nsamples = 3\\nvalue = [3, 0]'),\n",
       " Text(64.80000000000001, 172.14, 'X[2] <= 0.151\\ngini = 0.469\\nsamples = 32\\nvalue = [12, 20]'),\n",
       " Text(54.0, 154.01999999999998, 'gini = 0.0\\nsamples = 5\\nvalue = [0, 5]'),\n",
       " Text(75.60000000000001, 154.01999999999998, 'X[0] <= 1.979\\ngini = 0.494\\nsamples = 27\\nvalue = [12, 15]'),\n",
       " Text(64.80000000000001, 135.89999999999998, 'X[0] <= -1.033\\ngini = 0.499\\nsamples = 23\\nvalue = [12, 11]'),\n",
       " Text(54.0, 117.77999999999999, 'gini = 0.0\\nsamples = 2\\nvalue = [0, 2]'),\n",
       " Text(75.60000000000001, 117.77999999999999, 'X[0] <= -0.302\\ngini = 0.49\\nsamples = 21\\nvalue = [12, 9]'),\n",
       " Text(64.80000000000001, 99.66, 'gini = 0.0\\nsamples = 4\\nvalue = [4, 0]'),\n",
       " Text(86.4, 99.66, 'X[0] <= 0.677\\ngini = 0.498\\nsamples = 17\\nvalue = [8, 9]'),\n",
       " Text(75.60000000000001, 81.53999999999999, 'gini = 0.0\\nsamples = 4\\nvalue = [0, 4]'),\n",
       " Text(97.2, 81.53999999999999, 'X[2] <= 1.859\\ngini = 0.473\\nsamples = 13\\nvalue = [8, 5]'),\n",
       " Text(86.4, 63.41999999999999, 'X[2] <= 1.349\\ngini = 0.5\\nsamples = 10\\nvalue = [5, 5]'),\n",
       " Text(75.60000000000001, 45.29999999999998, 'X[1] <= -0.365\\ngini = 0.408\\nsamples = 7\\nvalue = [5, 2]'),\n",
       " Text(64.80000000000001, 27.17999999999998, 'gini = 0.0\\nsamples = 1\\nvalue = [0, 1]'),\n",
       " Text(86.4, 27.17999999999998, 'X[1] <= 0.553\\ngini = 0.278\\nsamples = 6\\nvalue = [5, 1]'),\n",
       " Text(75.60000000000001, 9.059999999999974, 'gini = 0.0\\nsamples = 5\\nvalue = [5, 0]'),\n",
       " Text(97.2, 9.059999999999974, 'gini = 0.0\\nsamples = 1\\nvalue = [0, 1]'),\n",
       " Text(97.2, 45.29999999999998, 'gini = 0.0\\nsamples = 3\\nvalue = [0, 3]'),\n",
       " Text(108.0, 63.41999999999999, 'gini = 0.0\\nsamples = 3\\nvalue = [3, 0]'),\n",
       " Text(86.4, 135.89999999999998, 'gini = 0.0\\nsamples = 4\\nvalue = [0, 4]'),\n",
       " Text(154.57500000000002, 190.26, 'X[0] <= 0.467\\ngini = 0.46\\nsamples = 64\\nvalue = [41, 23]'),\n",
       " Text(108.0, 172.14, 'X[1] <= 2.387\\ngini = 0.231\\nsamples = 15\\nvalue = [13, 2]'),\n",
       " Text(97.2, 154.01999999999998, 'gini = 0.0\\nsamples = 12\\nvalue = [12, 0]'),\n",
       " Text(118.80000000000001, 154.01999999999998, 'X[1] <= 2.533\\ngini = 0.444\\nsamples = 3\\nvalue = [1, 2]'),\n",
       " Text(108.0, 135.89999999999998, 'gini = 0.0\\nsamples = 2\\nvalue = [0, 2]'),\n",
       " Text(129.60000000000002, 135.89999999999998, 'gini = 0.0\\nsamples = 1\\nvalue = [1, 0]'),\n",
       " Text(201.15, 172.14, 'X[0] <= 0.689\\ngini = 0.49\\nsamples = 49\\nvalue = [28, 21]'),\n",
       " Text(162.0, 154.01999999999998, 'X[2] <= 1.616\\ngini = 0.278\\nsamples = 6\\nvalue = [1, 5]'),\n",
       " Text(151.20000000000002, 135.89999999999998, 'gini = 0.0\\nsamples = 5\\nvalue = [0, 5]'),\n",
       " Text(172.8, 135.89999999999998, 'gini = 0.0\\nsamples = 1\\nvalue = [1, 0]'),\n",
       " Text(240.3, 154.01999999999998, 'X[0] <= 1.466\\ngini = 0.467\\nsamples = 43\\nvalue = [27, 16]'),\n",
       " Text(194.4, 135.89999999999998, 'X[1] <= 1.582\\ngini = 0.231\\nsamples = 15\\nvalue = [13, 2]'),\n",
       " Text(183.60000000000002, 117.77999999999999, 'gini = 0.0\\nsamples = 9\\nvalue = [9, 0]'),\n",
       " Text(205.20000000000002, 117.77999999999999, 'X[2] <= 1.081\\ngini = 0.444\\nsamples = 6\\nvalue = [4, 2]'),\n",
       " Text(194.4, 99.66, 'X[0] <= 1.285\\ngini = 0.444\\nsamples = 3\\nvalue = [1, 2]'),\n",
       " Text(183.60000000000002, 81.53999999999999, 'gini = 0.0\\nsamples = 2\\nvalue = [0, 2]'),\n",
       " Text(205.20000000000002, 81.53999999999999, 'gini = 0.0\\nsamples = 1\\nvalue = [1, 0]'),\n",
       " Text(216.0, 99.66, 'gini = 0.0\\nsamples = 3\\nvalue = [3, 0]'),\n",
       " Text(286.20000000000005, 135.89999999999998, 'X[1] <= 2.205\\ngini = 0.5\\nsamples = 28\\nvalue = [14, 14]'),\n",
       " Text(259.20000000000005, 117.77999999999999, 'X[1] <= 1.663\\ngini = 0.483\\nsamples = 22\\nvalue = [9, 13]'),\n",
       " Text(237.60000000000002, 99.66, 'X[0] <= 2.341\\ngini = 0.498\\nsamples = 15\\nvalue = [8, 7]'),\n",
       " Text(226.8, 81.53999999999999, 'X[1] <= 1.488\\ngini = 0.486\\nsamples = 12\\nvalue = [5, 7]'),\n",
       " Text(216.0, 63.41999999999999, 'X[1] <= 0.952\\ngini = 0.346\\nsamples = 9\\nvalue = [2, 7]'),\n",
       " Text(205.20000000000002, 45.29999999999998, 'X[1] <= 0.842\\ngini = 0.444\\nsamples = 3\\nvalue = [2, 1]'),\n",
       " Text(194.4, 27.17999999999998, 'gini = 0.0\\nsamples = 1\\nvalue = [1, 0]'),\n",
       " Text(216.0, 27.17999999999998, 'X[0] <= 1.865\\ngini = 0.5\\nsamples = 2\\nvalue = [1, 1]'),\n",
       " Text(205.20000000000002, 9.059999999999974, 'gini = 0.0\\nsamples = 1\\nvalue = [1, 0]'),\n",
       " Text(226.8, 9.059999999999974, 'gini = 0.0\\nsamples = 1\\nvalue = [0, 1]'),\n",
       " Text(226.8, 45.29999999999998, 'gini = 0.0\\nsamples = 6\\nvalue = [0, 6]'),\n",
       " Text(237.60000000000002, 63.41999999999999, 'gini = 0.0\\nsamples = 3\\nvalue = [3, 0]'),\n",
       " Text(248.4, 81.53999999999999, 'gini = 0.0\\nsamples = 3\\nvalue = [3, 0]'),\n",
       " Text(280.8, 99.66, 'X[2] <= 1.13\\ngini = 0.245\\nsamples = 7\\nvalue = [1, 6]'),\n",
       " Text(270.0, 81.53999999999999, 'gini = 0.0\\nsamples = 4\\nvalue = [0, 4]'),\n",
       " Text(291.6, 81.53999999999999, 'X[2] <= 1.629\\ngini = 0.444\\nsamples = 3\\nvalue = [1, 2]'),\n",
       " Text(280.8, 63.41999999999999, 'gini = 0.0\\nsamples = 1\\nvalue = [1, 0]'),\n",
       " Text(302.40000000000003, 63.41999999999999, 'gini = 0.0\\nsamples = 2\\nvalue = [0, 2]'),\n",
       " Text(313.20000000000005, 117.77999999999999, 'X[0] <= 1.712\\ngini = 0.278\\nsamples = 6\\nvalue = [5, 1]'),\n",
       " Text(302.40000000000003, 99.66, 'gini = 0.0\\nsamples = 1\\nvalue = [0, 1]'),\n",
       " Text(324.0, 99.66, 'gini = 0.0\\nsamples = 5\\nvalue = [5, 0]')]"
      ]
     },
     "execution_count": 93,
     "metadata": {},
     "output_type": "execute_result"
    },
    {
     "data": {
      "image/png": "[encoded data removed]",
      "text/plain": [
       "<Figure size 432x288 with 1 Axes>"
      ]
     },
     "metadata": {
      "needs_background": "light"
     },
     "output_type": "display_data"
    }
   ],
   "source": [
    "tree.plot_tree(tr_simulation_1)"
   ]
  },
  {
   "cell_type": "code",
   "execution_count": 69,
   "id": "85d8ee50",
   "metadata": {},
   "outputs": [],
   "source": [
    "###Distribucion2"
   ]
  },
  {
   "cell_type": "code",
   "execution_count": 50,
   "id": "468a3863",
   "metadata": {},
   "outputs": [],
   "source": [
    "c_2 = 2\n",
    "mean1_2 = [1,1,1]\n",
    "mean2_2 = [c_2*1,c_2*1,1]\n",
    "cor_2 = 0.8\n",
    "cov_2 = [[1,cor_2,0],[cor_2,1,0],[0,0,1]]\n",
    "x_train_2 = np.random.multivariate_normal(mean1_2,cov_2,100)\n",
    "y_train_2 = np.random.choice(2,100)\n",
    "x_test_2 = np.random.multivariate_normal(mean2_2,cov_2,100)\n",
    "y_test_2 = np.random.choice(2,100)"
   ]
  },
  {
   "cell_type": "code",
   "execution_count": 82,
   "id": "f1f66c26",
   "metadata": {},
   "outputs": [
    {
     "data": {
      "text/plain": [
       "0.59"
      ]
     },
     "execution_count": 82,
     "metadata": {},
     "output_type": "execute_result"
    }
   ],
   "source": [
    "##LDA\n",
    "#Paso 1: armo el modelo\n",
    "lda_simulation_2 = LinearDiscriminantAnalysis()\n",
    "lda_simulation_2.fit(x_train_2,y_train_2)\n",
    "\n",
    "#Paso 2: predigo/clasifico\n",
    "lda_y_pred_2 = lda_simulation_2.predict(x_test_2)\n",
    "lda_y_pred_2\n",
    "\n",
    "#Paso 3: armo matriz de confusión\n",
    "lda_confusion_2 = confusion_matrix(y_test_2,lda_y_pred_2)\n",
    "lda_confusion_2\n",
    "\n",
    "#Paso 4: elijo una métrica y la calculo. Accuracy\n",
    "lda_accuracy_2 = accuracy_score(y_test_2,lda_y_pred_2)\n",
    "lda_accuracy_2"
   ]
  },
  {
   "cell_type": "code",
   "execution_count": 84,
   "id": "e6238809",
   "metadata": {},
   "outputs": [
    {
     "data": {
      "text/plain": [
       "0.57"
      ]
     },
     "execution_count": 84,
     "metadata": {},
     "output_type": "execute_result"
    }
   ],
   "source": [
    "##QDA\n",
    "#Paso 1: armo el modelo\n",
    "qda_simulation_2 = QuadraticDiscriminantAnalysis()\n",
    "qda_simulation_2.fit(x_train_2,y_train_2)\n",
    "\n",
    "#Paso 2: predigo/clasifico\n",
    "qda_y_pred_2 = qda_simulation_2.predict(x_test_2)\n",
    "qda_y_pred_2\n",
    "\n",
    "#Paso 3: armo matriz de confusión\n",
    "qda_confusion_2 = confusion_matrix(y_test_2,qda_y_pred_2)\n",
    "qda_confusion_2\n",
    "\n",
    "#Paso 4: elijo una métrica y la calculo. Accuracy\n",
    "qda_accuracy_2 = accuracy_score(y_test_2,qda_y_pred_2)\n",
    "qda_accuracy_2"
   ]
  },
  {
   "cell_type": "code",
   "execution_count": 89,
   "id": "39e5adae",
   "metadata": {},
   "outputs": [
    {
     "data": {
      "text/plain": [
       "0.6"
      ]
     },
     "execution_count": 89,
     "metadata": {},
     "output_type": "execute_result"
    }
   ],
   "source": [
    "##NaiveBayes\n",
    "#Paso 1: armo el modelo\n",
    "nb_simulation_2 = GaussianNB()\n",
    "nb_simulation_2.fit(x_train_2,y_train_2)\n",
    "\n",
    "#Paso 2: predigo/clasifico\n",
    "nb_y_pred_2 = nb_simulation_2.predict(x_test_2)\n",
    "nb_y_pred_2\n",
    "\n",
    "#Paso 3: armo matriz de confusión\n",
    "nb_confusion_2 = confusion_matrix(y_test_2,nb_y_pred_2)\n",
    "nb_confusion_2\n",
    "\n",
    "#Paso 4: elijo una métrica y la calculo. Accuracy\n",
    "nb_accuracy_2 = accuracy_score(y_test_2,nb_y_pred_2)\n",
    "nb_accuracy_2"
   ]
  },
  {
   "cell_type": "code",
   "execution_count": 94,
   "id": "f63b70ec",
   "metadata": {},
   "outputs": [
    {
     "data": {
      "text/plain": [
       "0.5"
      ]
     },
     "execution_count": 94,
     "metadata": {},
     "output_type": "execute_result"
    }
   ],
   "source": [
    "##DecisionTree\n",
    "#Paso 1: armo el modelo\n",
    "tr_simulation_2 = tree.DecisionTreeClassifier()\n",
    "tr_simulation_2.fit(x_train_2,y_train_2)\n",
    "\n",
    "#Paso 2: predigo/clasifico\n",
    "tr_y_pred_2 = tr_simulation_2.predict(x_test_2)\n",
    "tr_y_pred_2\n",
    "\n",
    "#Paso 3: armo matriz de confusión\n",
    "tr_confusion_2 = confusion_matrix(y_test_2,tr_y_pred_2)\n",
    "tr_confusion_2\n",
    "\n",
    "#Paso 4: elijo una métrica y la calculo. Accuracy\n",
    "tr_accuracy_2 = accuracy_score(y_test_2,tr_y_pred_2)\n",
    "tr_accuracy_2"
   ]
  },
  {
   "cell_type": "code",
   "execution_count": 95,
   "id": "ab56ecdf",
   "metadata": {},
   "outputs": [
    {
     "data": {
      "text/plain": [
       "[Text(59.805912162162166, 209.07692307692307, 'X[1] <= -0.24\\ngini = 0.498\\nsamples = 100\\nvalue = [47, 53]'),\n",
       " Text(27.145945945945947, 192.35076923076923, 'X[1] <= -0.996\\ngini = 0.18\\nsamples = 10\\nvalue = [1, 9]'),\n",
       " Text(18.0972972972973, 175.62461538461537, 'X[2] <= -0.65\\ngini = 0.5\\nsamples = 2\\nvalue = [1, 1]'),\n",
       " Text(9.04864864864865, 158.89846153846153, 'gini = 0.0\\nsamples = 1\\nvalue = [0, 1]'),\n",
       " Text(27.145945945945947, 158.89846153846153, 'gini = 0.0\\nsamples = 1\\nvalue = [1, 0]'),\n",
       " Text(36.1945945945946, 175.62461538461537, 'gini = 0.0\\nsamples = 8\\nvalue = [0, 8]'),\n",
       " Text(92.46587837837839, 192.35076923076923, 'X[2] <= -0.194\\ngini = 0.5\\nsamples = 90\\nvalue = [46, 44]'),\n",
       " Text(54.29189189189189, 175.62461538461537, 'X[1] <= 3.279\\ngini = 0.346\\nsamples = 9\\nvalue = [2, 7]'),\n",
       " Text(45.24324324324325, 158.89846153846153, 'X[2] <= -0.978\\ngini = 0.219\\nsamples = 8\\nvalue = [1, 7]'),\n",
       " Text(36.1945945945946, 142.1723076923077, 'X[0] <= 1.064\\ngini = 0.5\\nsamples = 2\\nvalue = [1, 1]'),\n",
       " Text(27.145945945945947, 125.44615384615385, 'gini = 0.0\\nsamples = 1\\nvalue = [0, 1]'),\n",
       " Text(45.24324324324325, 125.44615384615385, 'gini = 0.0\\nsamples = 1\\nvalue = [1, 0]'),\n",
       " Text(54.29189189189189, 142.1723076923077, 'gini = 0.0\\nsamples = 6\\nvalue = [0, 6]'),\n",
       " Text(63.340540540540545, 158.89846153846153, 'gini = 0.0\\nsamples = 1\\nvalue = [1, 0]'),\n",
       " Text(130.63986486486488, 175.62461538461537, 'X[2] <= 0.279\\ngini = 0.496\\nsamples = 81\\nvalue = [44, 37]'),\n",
       " Text(81.43783783783785, 158.89846153846153, 'X[0] <= -0.313\\ngini = 0.391\\nsamples = 15\\nvalue = [11, 4]'),\n",
       " Text(72.3891891891892, 142.1723076923077, 'gini = 0.0\\nsamples = 1\\nvalue = [0, 1]'),\n",
       " Text(90.4864864864865, 142.1723076923077, 'X[0] <= 0.802\\ngini = 0.337\\nsamples = 14\\nvalue = [11, 3]'),\n",
       " Text(81.43783783783785, 125.44615384615385, 'gini = 0.0\\nsamples = 6\\nvalue = [6, 0]'),\n",
       " Text(99.53513513513515, 125.44615384615385, 'X[2] <= -0.05\\ngini = 0.469\\nsamples = 8\\nvalue = [5, 3]'),\n",
       " Text(90.4864864864865, 108.72, 'gini = 0.0\\nsamples = 1\\nvalue = [0, 1]'),\n",
       " Text(108.58378378378379, 108.72, 'X[0] <= 1.348\\ngini = 0.408\\nsamples = 7\\nvalue = [5, 2]'),\n",
       " Text(99.53513513513515, 91.99384615384615, 'X[1] <= 1.061\\ngini = 0.444\\nsamples = 3\\nvalue = [1, 2]'),\n",
       " Text(90.4864864864865, 75.2676923076923, 'gini = 0.0\\nsamples = 2\\nvalue = [0, 2]'),\n",
       " Text(108.58378378378379, 75.2676923076923, 'gini = 0.0\\nsamples = 1\\nvalue = [1, 0]'),\n",
       " Text(117.63243243243244, 91.99384615384615, 'gini = 0.0\\nsamples = 4\\nvalue = [4, 0]'),\n",
       " Text(179.84189189189192, 158.89846153846153, 'X[2] <= 0.687\\ngini = 0.5\\nsamples = 66\\nvalue = [33, 33]'),\n",
       " Text(144.7783783783784, 142.1723076923077, 'X[0] <= -0.257\\ngini = 0.278\\nsamples = 12\\nvalue = [2, 10]'),\n",
       " Text(135.72972972972974, 125.44615384615385, 'gini = 0.0\\nsamples = 1\\nvalue = [1, 0]'),\n",
       " Text(153.82702702702704, 125.44615384615385, 'X[0] <= 1.299\\ngini = 0.165\\nsamples = 11\\nvalue = [1, 10]'),\n",
       " Text(144.7783783783784, 108.72, 'X[1] <= 1.541\\ngini = 0.375\\nsamples = 4\\nvalue = [1, 3]'),\n",
       " Text(135.72972972972974, 91.99384615384615, 'gini = 0.0\\nsamples = 3\\nvalue = [0, 3]'),\n",
       " Text(153.82702702702704, 91.99384615384615, 'gini = 0.0\\nsamples = 1\\nvalue = [1, 0]'),\n",
       " Text(162.8756756756757, 108.72, 'gini = 0.0\\nsamples = 7\\nvalue = [0, 7]'),\n",
       " Text(214.90540540540542, 142.1723076923077, 'X[1] <= 1.014\\ngini = 0.489\\nsamples = 54\\nvalue = [31, 23]'),\n",
       " Text(190.02162162162165, 125.44615384615385, 'X[1] <= 0.726\\ngini = 0.483\\nsamples = 22\\nvalue = [9, 13]'),\n",
       " Text(180.972972972973, 108.72, 'X[2] <= 1.044\\ngini = 0.459\\nsamples = 14\\nvalue = [9, 5]'),\n",
       " Text(171.92432432432435, 91.99384615384615, 'gini = 0.0\\nsamples = 5\\nvalue = [5, 0]'),\n",
       " Text(190.02162162162165, 91.99384615384615, 'X[2] <= 1.725\\ngini = 0.494\\nsamples = 9\\nvalue = [4, 5]'),\n",
       " Text(180.972972972973, 75.2676923076923, 'gini = 0.0\\nsamples = 3\\nvalue = [0, 3]'),\n",
       " Text(199.0702702702703, 75.2676923076923, 'X[1] <= 0.47\\ngini = 0.444\\nsamples = 6\\nvalue = [4, 2]'),\n",
       " Text(190.02162162162165, 58.541538461538465, 'gini = 0.0\\nsamples = 3\\nvalue = [3, 0]'),\n",
       " Text(208.11891891891895, 58.541538461538465, 'X[1] <= 0.588\\ngini = 0.444\\nsamples = 3\\nvalue = [1, 2]'),\n",
       " Text(199.0702702702703, 41.81538461538463, 'gini = 0.0\\nsamples = 2\\nvalue = [0, 2]'),\n",
       " Text(217.16756756756757, 41.81538461538463, 'gini = 0.0\\nsamples = 1\\nvalue = [1, 0]'),\n",
       " Text(199.0702702702703, 108.72, 'gini = 0.0\\nsamples = 8\\nvalue = [0, 8]'),\n",
       " Text(239.78918918918922, 125.44615384615385, 'X[1] <= 1.471\\ngini = 0.43\\nsamples = 32\\nvalue = [22, 10]'),\n",
       " Text(217.16756756756757, 108.72, 'X[2] <= 0.718\\ngini = 0.18\\nsamples = 10\\nvalue = [9, 1]'),\n",
       " Text(208.11891891891895, 91.99384615384615, 'gini = 0.0\\nsamples = 1\\nvalue = [0, 1]'),\n",
       " Text(226.21621621621622, 91.99384615384615, 'gini = 0.0\\nsamples = 9\\nvalue = [9, 0]'),\n",
       " Text(262.41081081081086, 108.72, 'X[1] <= 1.887\\ngini = 0.483\\nsamples = 22\\nvalue = [13, 9]'),\n",
       " Text(244.31351351351353, 91.99384615384615, 'X[1] <= 1.564\\ngini = 0.408\\nsamples = 7\\nvalue = [2, 5]'),\n",
       " Text(235.26486486486488, 75.2676923076923, 'X[0] <= 1.433\\ngini = 0.444\\nsamples = 3\\nvalue = [2, 1]'),\n",
       " Text(226.21621621621622, 58.541538461538465, 'gini = 0.0\\nsamples = 2\\nvalue = [2, 0]'),\n",
       " Text(244.31351351351353, 58.541538461538465, 'gini = 0.0\\nsamples = 1\\nvalue = [0, 1]'),\n",
       " Text(253.36216216216218, 75.2676923076923, 'gini = 0.0\\nsamples = 4\\nvalue = [0, 4]'),\n",
       " Text(280.50810810810816, 91.99384615384615, 'X[2] <= 0.785\\ngini = 0.391\\nsamples = 15\\nvalue = [11, 4]'),\n",
       " Text(271.4594594594595, 75.2676923076923, 'gini = 0.0\\nsamples = 3\\nvalue = [3, 0]'),\n",
       " Text(289.5567567567568, 75.2676923076923, 'X[2] <= 0.855\\ngini = 0.444\\nsamples = 12\\nvalue = [8, 4]'),\n",
       " Text(280.50810810810816, 58.541538461538465, 'gini = 0.0\\nsamples = 1\\nvalue = [0, 1]'),\n",
       " Text(298.6054054054054, 58.541538461538465, 'X[1] <= 2.252\\ngini = 0.397\\nsamples = 11\\nvalue = [8, 3]'),\n",
       " Text(280.50810810810816, 41.81538461538463, 'X[0] <= 2.375\\ngini = 0.219\\nsamples = 8\\nvalue = [7, 1]'),\n",
       " Text(271.4594594594595, 25.089230769230767, 'gini = 0.0\\nsamples = 6\\nvalue = [6, 0]'),\n",
       " Text(289.5567567567568, 25.089230769230767, 'X[1] <= 2.113\\ngini = 0.5\\nsamples = 2\\nvalue = [1, 1]'),\n",
       " Text(280.50810810810816, 8.363076923076932, 'gini = 0.0\\nsamples = 1\\nvalue = [0, 1]'),\n",
       " Text(298.6054054054054, 8.363076923076932, 'gini = 0.0\\nsamples = 1\\nvalue = [1, 0]'),\n",
       " Text(316.7027027027027, 41.81538461538463, 'X[0] <= 3.417\\ngini = 0.444\\nsamples = 3\\nvalue = [1, 2]'),\n",
       " Text(307.6540540540541, 25.089230769230767, 'gini = 0.0\\nsamples = 2\\nvalue = [0, 2]'),\n",
       " Text(325.7513513513514, 25.089230769230767, 'gini = 0.0\\nsamples = 1\\nvalue = [1, 0]')]"
      ]
     },
     "execution_count": 95,
     "metadata": {},
     "output_type": "execute_result"
    },
    {
     "data": {
      "image/png": "[encoded data removed]",
      "text/plain": [
       "<Figure size 432x288 with 1 Axes>"
      ]
     },
     "metadata": {
      "needs_background": "light"
     },
     "output_type": "display_data"
    }
   ],
   "source": [
    "tree.plot_tree(tr_simulation_2)"
   ]
  },
  {
   "cell_type": "code",
   "execution_count": 70,
   "id": "85c115e2",
   "metadata": {},
   "outputs": [],
   "source": [
    "###Distribucion3"
   ]
  },
  {
   "cell_type": "code",
   "execution_count": 56,
   "id": "be745847",
   "metadata": {},
   "outputs": [],
   "source": [
    "c_3 = 2\n",
    "mean1_3 = [1,1,1]\n",
    "mean2_3 = [c_3*1,c_3*1,1]\n",
    "cov1_3 = [[1,0.5,0],[0.5,1,0],[0,0,1]]\n",
    "cov2_3 = [[1,0.9,0],[0.9,1,0],[0,0,1]]\n",
    "x_train_3 = np.random.multivariate_normal(mean1_3,cov1_3,100)\n",
    "y_train_3 = np.random.choice(2,100)\n",
    "x_test_3 = np.random.multivariate_normal(mean2_3,cov2_3,100)\n",
    "y_test_3 = np.random.choice(2,100)"
   ]
  },
  {
   "cell_type": "code",
   "execution_count": 85,
   "id": "26ebfb1d",
   "metadata": {},
   "outputs": [
    {
     "data": {
      "text/plain": [
       "0.54"
      ]
     },
     "execution_count": 85,
     "metadata": {},
     "output_type": "execute_result"
    }
   ],
   "source": [
    "##LDA\n",
    "#Paso 1: armo el modelo\n",
    "lda_simulation_3 = LinearDiscriminantAnalysis()\n",
    "lda_simulation_3.fit(x_train_3,y_train_3)\n",
    "\n",
    "#Paso 2: predigo/clasifico\n",
    "lda_y_pred_3 = lda_simulation_3.predict(x_test_3)\n",
    "lda_y_pred_3\n",
    "\n",
    "#Paso 3: armo matriz de confusión\n",
    "lda_confusion_3 = confusion_matrix(y_test_3,lda_y_pred_3)\n",
    "lda_confusion_3\n",
    "\n",
    "#Paso 4: elijo una métrica y la calculo. Accuracy\n",
    "lda_accuracy_3 = accuracy_score(y_test_3,lda_y_pred_3)\n",
    "lda_accuracy_3"
   ]
  },
  {
   "cell_type": "code",
   "execution_count": 86,
   "id": "233c246c",
   "metadata": {},
   "outputs": [
    {
     "data": {
      "text/plain": [
       "0.45"
      ]
     },
     "execution_count": 86,
     "metadata": {},
     "output_type": "execute_result"
    }
   ],
   "source": [
    "##QDA\n",
    "#Paso 1: armo el modelo\n",
    "qda_simulation_3 = QuadraticDiscriminantAnalysis()\n",
    "qda_simulation_3.fit(x_train_3,y_train_3)\n",
    "\n",
    "#Paso 2: predigo/clasifico\n",
    "qda_y_pred_3 = qda_simulation_3.predict(x_test_3)\n",
    "qda_y_pred_3\n",
    "\n",
    "#Paso 3: armo matriz de confusión\n",
    "qda_confusion_3 = confusion_matrix(y_test_3,qda_y_pred_3)\n",
    "qda_confusion_3\n",
    "\n",
    "#Paso 4: elijo una métrica y la calculo. Accuracy\n",
    "qda_accuracy_3 = accuracy_score(y_test_3,qda_y_pred_3)\n",
    "qda_accuracy_3"
   ]
  },
  {
   "cell_type": "code",
   "execution_count": 90,
   "id": "6e8345ec",
   "metadata": {},
   "outputs": [
    {
     "data": {
      "text/plain": [
       "0.51"
      ]
     },
     "execution_count": 90,
     "metadata": {},
     "output_type": "execute_result"
    }
   ],
   "source": [
    "##NaiveBayes\n",
    "#Paso 1: armo el modelo\n",
    "nb_simulation_3 = GaussianNB()\n",
    "nb_simulation_3.fit(x_train_3,y_train_3)\n",
    "\n",
    "#Paso 2: predigo/clasifico\n",
    "nb_y_pred_3 = nb_simulation_3.predict(x_test_3)\n",
    "nb_y_pred_3\n",
    "\n",
    "#Paso 3: armo matriz de confusión\n",
    "nb_confusion_3 = confusion_matrix(y_test_3,nb_y_pred_3)\n",
    "nb_confusion_3\n",
    "\n",
    "#Paso 4: elijo una métrica y la calculo. Accuracy\n",
    "nb_accuracy_3 = accuracy_score(y_test_3,nb_y_pred_3)\n",
    "nb_accuracy_3"
   ]
  },
  {
   "cell_type": "code",
   "execution_count": 96,
   "id": "e620d0ec",
   "metadata": {},
   "outputs": [
    {
     "data": {
      "text/plain": [
       "0.46"
      ]
     },
     "execution_count": 96,
     "metadata": {},
     "output_type": "execute_result"
    }
   ],
   "source": [
    "##DecisionTree\n",
    "#Paso 1: armo el modelo\n",
    "tr_simulation_3 = tree.DecisionTreeClassifier()\n",
    "tr_simulation_3.fit(x_train_3,y_train_3)\n",
    "\n",
    "#Paso 2: predigo/clasifico\n",
    "tr_y_pred_3 = tr_simulation_3.predict(x_test_3)\n",
    "tr_y_pred_3\n",
    "\n",
    "#Paso 3: armo matriz de confusión\n",
    "tr_confusion_3 = confusion_matrix(y_test_3,tr_y_pred_3)\n",
    "tr_confusion_3\n",
    "\n",
    "#Paso 4: elijo una métrica y la calculo. Accuracy\n",
    "tr_accuracy_3 = accuracy_score(y_test_3,tr_y_pred_3)\n",
    "tr_accuracy_3"
   ]
  },
  {
   "cell_type": "code",
   "execution_count": 97,
   "id": "659f27a6",
   "metadata": {},
   "outputs": [
    {
     "data": {
      "text/plain": [
       "[Text(207.64038461538462, 209.07692307692307, 'X[1] <= 1.687\\ngini = 0.497\\nsamples = 100\\nvalue = [46, 54]'),\n",
       " Text(106.23461538461538, 192.35076923076923, 'X[2] <= 0.396\\ngini = 0.473\\nsamples = 73\\nvalue = [28, 45]'),\n",
       " Text(64.38461538461539, 175.62461538461537, 'X[1] <= 1.383\\ngini = 0.43\\nsamples = 16\\nvalue = [11, 5]'),\n",
       " Text(51.50769230769231, 158.89846153846153, 'X[1] <= -0.336\\ngini = 0.26\\nsamples = 13\\nvalue = [11, 2]'),\n",
       " Text(25.753846153846155, 142.1723076923077, 'X[1] <= -1.433\\ngini = 0.5\\nsamples = 2\\nvalue = [1, 1]'),\n",
       " Text(12.876923076923077, 125.44615384615385, 'gini = 0.0\\nsamples = 1\\nvalue = [1, 0]'),\n",
       " Text(38.63076923076923, 125.44615384615385, 'gini = 0.0\\nsamples = 1\\nvalue = [0, 1]'),\n",
       " Text(77.26153846153846, 142.1723076923077, 'X[0] <= 2.108\\ngini = 0.165\\nsamples = 11\\nvalue = [10, 1]'),\n",
       " Text(64.38461538461539, 125.44615384615385, 'gini = 0.0\\nsamples = 9\\nvalue = [9, 0]'),\n",
       " Text(90.13846153846154, 125.44615384615385, 'X[0] <= 2.379\\ngini = 0.5\\nsamples = 2\\nvalue = [1, 1]'),\n",
       " Text(77.26153846153846, 108.72, 'gini = 0.0\\nsamples = 1\\nvalue = [0, 1]'),\n",
       " Text(103.01538461538462, 108.72, 'gini = 0.0\\nsamples = 1\\nvalue = [1, 0]'),\n",
       " Text(77.26153846153846, 158.89846153846153, 'gini = 0.0\\nsamples = 3\\nvalue = [0, 3]'),\n",
       " Text(148.0846153846154, 175.62461538461537, 'X[1] <= -0.21\\ngini = 0.419\\nsamples = 57\\nvalue = [17, 40]'),\n",
       " Text(115.8923076923077, 158.89846153846153, 'X[2] <= 1.569\\ngini = 0.32\\nsamples = 5\\nvalue = [4, 1]'),\n",
       " Text(103.01538461538462, 142.1723076923077, 'gini = 0.0\\nsamples = 4\\nvalue = [4, 0]'),\n",
       " Text(128.76923076923077, 142.1723076923077, 'gini = 0.0\\nsamples = 1\\nvalue = [0, 1]'),\n",
       " Text(180.27692307692308, 158.89846153846153, 'X[1] <= 0.448\\ngini = 0.375\\nsamples = 52\\nvalue = [13, 39]'),\n",
       " Text(154.52307692307693, 142.1723076923077, 'X[1] <= 0.1\\ngini = 0.117\\nsamples = 16\\nvalue = [1, 15]'),\n",
       " Text(141.64615384615385, 125.44615384615385, 'X[1] <= 0.04\\ngini = 0.375\\nsamples = 4\\nvalue = [1, 3]'),\n",
       " Text(128.76923076923077, 108.72, 'gini = 0.0\\nsamples = 3\\nvalue = [0, 3]'),\n",
       " Text(154.52307692307693, 108.72, 'gini = 0.0\\nsamples = 1\\nvalue = [1, 0]'),\n",
       " Text(167.4, 125.44615384615385, 'gini = 0.0\\nsamples = 12\\nvalue = [0, 12]'),\n",
       " Text(206.03076923076924, 142.1723076923077, 'X[1] <= 1.571\\ngini = 0.444\\nsamples = 36\\nvalue = [12, 24]'),\n",
       " Text(193.15384615384616, 125.44615384615385, 'X[1] <= 1.437\\ngini = 0.469\\nsamples = 32\\nvalue = [12, 20]'),\n",
       " Text(180.27692307692308, 108.72, 'X[2] <= 1.229\\ngini = 0.428\\nsamples = 29\\nvalue = [9, 20]'),\n",
       " Text(154.52307692307693, 91.99384615384615, 'X[2] <= 0.504\\ngini = 0.497\\nsamples = 13\\nvalue = [6, 7]'),\n",
       " Text(141.64615384615385, 75.2676923076923, 'gini = 0.0\\nsamples = 3\\nvalue = [0, 3]'),\n",
       " Text(167.4, 75.2676923076923, 'X[2] <= 0.762\\ngini = 0.48\\nsamples = 10\\nvalue = [6, 4]'),\n",
       " Text(154.52307692307693, 58.541538461538465, 'gini = 0.0\\nsamples = 3\\nvalue = [3, 0]'),\n",
       " Text(180.27692307692308, 58.541538461538465, 'X[0] <= 1.253\\ngini = 0.49\\nsamples = 7\\nvalue = [3, 4]'),\n",
       " Text(167.4, 41.81538461538463, 'X[0] <= 0.666\\ngini = 0.48\\nsamples = 5\\nvalue = [3, 2]'),\n",
       " Text(154.52307692307693, 25.089230769230767, 'X[2] <= 1.028\\ngini = 0.444\\nsamples = 3\\nvalue = [1, 2]'),\n",
       " Text(141.64615384615385, 8.363076923076932, 'gini = 0.0\\nsamples = 2\\nvalue = [0, 2]'),\n",
       " Text(167.4, 8.363076923076932, 'gini = 0.0\\nsamples = 1\\nvalue = [1, 0]'),\n",
       " Text(180.27692307692308, 25.089230769230767, 'gini = 0.0\\nsamples = 2\\nvalue = [2, 0]'),\n",
       " Text(193.15384615384616, 41.81538461538463, 'gini = 0.0\\nsamples = 2\\nvalue = [0, 2]'),\n",
       " Text(206.03076923076924, 91.99384615384615, 'X[1] <= 0.494\\ngini = 0.305\\nsamples = 16\\nvalue = [3, 13]'),\n",
       " Text(193.15384615384616, 75.2676923076923, 'gini = 0.0\\nsamples = 1\\nvalue = [1, 0]'),\n",
       " Text(218.90769230769232, 75.2676923076923, 'X[2] <= 2.096\\ngini = 0.231\\nsamples = 15\\nvalue = [2, 13]'),\n",
       " Text(206.03076923076924, 58.541538461538465, 'gini = 0.0\\nsamples = 9\\nvalue = [0, 9]'),\n",
       " Text(231.7846153846154, 58.541538461538465, 'X[1] <= 0.807\\ngini = 0.444\\nsamples = 6\\nvalue = [2, 4]'),\n",
       " Text(218.90769230769232, 41.81538461538463, 'X[2] <= 3.011\\ngini = 0.444\\nsamples = 3\\nvalue = [2, 1]'),\n",
       " Text(206.03076923076924, 25.089230769230767, 'gini = 0.0\\nsamples = 2\\nvalue = [2, 0]'),\n",
       " Text(231.7846153846154, 25.089230769230767, 'gini = 0.0\\nsamples = 1\\nvalue = [0, 1]'),\n",
       " Text(244.66153846153847, 41.81538461538463, 'gini = 0.0\\nsamples = 3\\nvalue = [0, 3]'),\n",
       " Text(206.03076923076924, 108.72, 'gini = 0.0\\nsamples = 3\\nvalue = [3, 0]'),\n",
       " Text(218.90769230769232, 125.44615384615385, 'gini = 0.0\\nsamples = 4\\nvalue = [0, 4]'),\n",
       " Text(309.04615384615386, 192.35076923076923, 'X[2] <= 1.769\\ngini = 0.444\\nsamples = 27\\nvalue = [18, 9]'),\n",
       " Text(296.1692307692308, 175.62461538461537, 'X[2] <= 1.396\\ngini = 0.483\\nsamples = 22\\nvalue = [13, 9]'),\n",
       " Text(283.2923076923077, 158.89846153846153, 'X[0] <= 2.131\\ngini = 0.455\\nsamples = 20\\nvalue = [13, 7]'),\n",
       " Text(270.4153846153846, 142.1723076923077, 'X[0] <= 1.548\\ngini = 0.492\\nsamples = 16\\nvalue = [9, 7]'),\n",
       " Text(244.66153846153847, 125.44615384615385, 'X[1] <= 2.211\\ngini = 0.42\\nsamples = 10\\nvalue = [7, 3]'),\n",
       " Text(231.7846153846154, 108.72, 'gini = 0.0\\nsamples = 4\\nvalue = [4, 0]'),\n",
       " Text(257.53846153846155, 108.72, 'X[2] <= 0.145\\ngini = 0.5\\nsamples = 6\\nvalue = [3, 3]'),\n",
       " Text(244.66153846153847, 91.99384615384615, 'gini = 0.0\\nsamples = 2\\nvalue = [2, 0]'),\n",
       " Text(270.4153846153846, 91.99384615384615, 'X[2] <= 1.144\\ngini = 0.375\\nsamples = 4\\nvalue = [1, 3]'),\n",
       " Text(257.53846153846155, 75.2676923076923, 'gini = 0.0\\nsamples = 3\\nvalue = [0, 3]'),\n",
       " Text(283.2923076923077, 75.2676923076923, 'gini = 0.0\\nsamples = 1\\nvalue = [1, 0]'),\n",
       " Text(296.1692307692308, 125.44615384615385, 'X[1] <= 2.09\\ngini = 0.444\\nsamples = 6\\nvalue = [2, 4]'),\n",
       " Text(283.2923076923077, 108.72, 'gini = 0.0\\nsamples = 4\\nvalue = [0, 4]'),\n",
       " Text(309.04615384615386, 108.72, 'gini = 0.0\\nsamples = 2\\nvalue = [2, 0]'),\n",
       " Text(296.1692307692308, 142.1723076923077, 'gini = 0.0\\nsamples = 4\\nvalue = [4, 0]'),\n",
       " Text(309.04615384615386, 158.89846153846153, 'gini = 0.0\\nsamples = 2\\nvalue = [0, 2]'),\n",
       " Text(321.9230769230769, 175.62461538461537, 'gini = 0.0\\nsamples = 5\\nvalue = [5, 0]')]"
      ]
     },
     "execution_count": 97,
     "metadata": {},
     "output_type": "execute_result"
    },
    {
     "data": {
      "image/png": "[encoded data removed]",
      "text/plain": [
       "<Figure size 432x288 with 1 Axes>"
      ]
     },
     "metadata": {
      "needs_background": "light"
     },
     "output_type": "display_data"
    }
   ],
   "source": [
    "tree.plot_tree(tr_simulation_3)"
   ]
  },
  {
   "cell_type": "code",
   "execution_count": null,
   "id": "56f0217d",
   "metadata": {},
   "outputs": [],
   "source": []
  }
 ],
 "metadata": {
  "kernelspec": {
   "display_name": "Python 3 (ipykernel)",
   "language": "python",
   "name": "python3"
  },
  "language_info": {
   "codemirror_mode": {
    "name": "ipython",
    "version": 3
   },
   "file_extension": ".py",
   "mimetype": "text/x-python",
   "name": "python",
   "nbconvert_exporter": "python",
   "pygments_lexer": "ipython3",
   "version": "3.9.7"
  }
 },
 "nbformat": 4,
 "nbformat_minor": 5
}
