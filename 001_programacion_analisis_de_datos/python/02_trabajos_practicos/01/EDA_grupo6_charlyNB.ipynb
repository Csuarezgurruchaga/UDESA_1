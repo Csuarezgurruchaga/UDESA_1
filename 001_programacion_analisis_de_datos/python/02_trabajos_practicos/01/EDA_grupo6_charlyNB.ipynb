{
 "cells": [
  {
   "cell_type": "markdown",
   "id": "62c9c390-d3a7-4b62-9986-6c3944a80841",
   "metadata": {},
   "source": [
    "# EDA ANALISIS"
   ]
  },
  {
   "cell_type": "code",
   "execution_count": 1,
   "id": "8ed070e7-698a-4f69-9ed4-cc9676fb433d",
   "metadata": {},
   "outputs": [],
   "source": [
    "# importamos las librerias que vamos a utilizar\n",
    "\n",
    "import pandas as pd\n",
    "import numpy as np\n",
    "from datetime import datetime\n",
    "import seaborn as sns\n",
    "import pickle\n",
    "import matplotlib.pyplot as plt\n",
    "\n",
    "plt.style.use('fivethirtyeight')\n",
    "pd.options.display.float_format = '{:.2f}'.format"
   ]
  },
  {
   "cell_type": "code",
   "execution_count": 2,
   "id": "6145fcc0-7cbe-4f5c-aa59-7521629fe4b6",
   "metadata": {},
   "outputs": [],
   "source": [
    "# cargamos el pickle generado en la notebook de preprocesamiento\n",
    "# en una variable \"df\", para trabajar.\n",
    "\n",
    "with open('NYC_processed.pkl','rb') as p:\n",
    "    diccionario_pickle = pickle.load(p)\n",
    "    df = diccionario_pickle['data']\n",
    "    aux_zonas_decoder = diccionario_pickle['zonas_decoder']\n",
    "    aux_borough_decoder = diccionario_pickle['borough_decoder']\n",
    "# # df.head()    \n",
    "# # df['PUzone'] = df['PUzone'].map(aux_zonas_decoder)\n",
    "# # df['DOzone'] = df['DOzone'].map(aux_zonas_decoder)\n",
    "\n",
    "# df['DOborough'] = df['DOborough'].map(aux_borough_decoder)\n",
    "# df['PUborough'] = df['PUborough'].map(aux_borough_decoder)"
   ]
  },
  {
   "cell_type": "code",
   "execution_count": 3,
   "id": "854b9e9d-8f49-4b9f-8ce4-7502237728de",
   "metadata": {},
   "outputs": [
    {
     "name": "stdout",
     "output_type": "stream",
     "text": [
      "<class 'pandas.core.frame.DataFrame'>\n",
      "Int64Index: 1200000 entries, 160347 to 2095287\n",
      "Data columns (total 26 columns):\n",
      " #   Column                 Non-Null Count    Dtype         \n",
      "---  ------                 --------------    -----         \n",
      " 0   VendorID               1200000 non-null  int8          \n",
      " 1   tpep_pickup_datetime   1200000 non-null  datetime64[ns]\n",
      " 2   tpep_dropoff_datetime  1200000 non-null  datetime64[ns]\n",
      " 3   passenger_count        1200000 non-null  int8          \n",
      " 4   trip_distance          1200000 non-null  float32       \n",
      " 5   RatecodeID             1200000 non-null  int8          \n",
      " 6   store_and_fwd_flag     1200000 non-null  category      \n",
      " 7   payment_type           1200000 non-null  int8          \n",
      " 8   fare_amount            1200000 non-null  float16       \n",
      " 9   extra                  1200000 non-null  float16       \n",
      " 10  mta_tax                1200000 non-null  float16       \n",
      " 11  tip_amount             1200000 non-null  float16       \n",
      " 12  tolls_amount           1200000 non-null  float16       \n",
      " 13  improvement_surcharge  1200000 non-null  float16       \n",
      " 14  total_amount           1200000 non-null  float16       \n",
      " 15  PUborough              1200000 non-null  int16         \n",
      " 16  PUzone                 1200000 non-null  int16         \n",
      " 17  DOborough              1200000 non-null  int16         \n",
      " 18  DOzone                 1200000 non-null  int16         \n",
      " 19  PUgeometry             600000 non-null   geometry      \n",
      " 20  DOgeometry             600000 non-null   geometry      \n",
      " 21  TRIP_DURATION          1200000 non-null  float32       \n",
      " 22  MILE_PER_MIN           1200000 non-null  float16       \n",
      " 23  AMOUNT_PER_MILE        1200000 non-null  float32       \n",
      " 24  INTRAZONE_TRIP         1200000 non-null  int8          \n",
      " 25  INTRABOROUGH_TRIP      1200000 non-null  int8          \n",
      "dtypes: category(1), datetime64[ns](2), float16(8), float32(3), geometry(2), int16(4), int8(6)\n",
      "memory usage: 95.0 MB\n"
     ]
    }
   ],
   "source": [
    "df.info()"
   ]
  },
  {
   "cell_type": "code",
   "execution_count": 4,
   "id": "da6ca237-02f6-48f2-b9e2-e43bb04b5d39",
   "metadata": {},
   "outputs": [],
   "source": [
    "# realizamos algunas conversiones de tipos de datos, ya que el metodo .describe(), \n",
    "# no interpreta correctamente float16.\n",
    "\n",
    "colum_float = list(df.columns[8:15])\n",
    "df['trip_distance']= df.trip_distance.astype('float')\n",
    "df[colum_float] = df[colum_float].astype('float')"
   ]
  },
  {
   "cell_type": "code",
   "execution_count": 5,
   "id": "eff342b1-5e43-43ae-9b8c-c264dd5d85f3",
   "metadata": {},
   "outputs": [
    {
     "data": {
      "text/html": [
       "<div>\n",
       "<style scoped>\n",
       "    .dataframe tbody tr th:only-of-type {\n",
       "        vertical-align: middle;\n",
       "    }\n",
       "\n",
       "    .dataframe tbody tr th {\n",
       "        vertical-align: top;\n",
       "    }\n",
       "\n",
       "    .dataframe thead th {\n",
       "        text-align: right;\n",
       "    }\n",
       "</style>\n",
       "<table border=\"1\" class=\"dataframe\">\n",
       "  <thead>\n",
       "    <tr style=\"text-align: right;\">\n",
       "      <th></th>\n",
       "      <th>count</th>\n",
       "      <th>mean</th>\n",
       "      <th>std</th>\n",
       "      <th>min</th>\n",
       "      <th>25%</th>\n",
       "      <th>50%</th>\n",
       "      <th>75%</th>\n",
       "      <th>max</th>\n",
       "    </tr>\n",
       "    <tr>\n",
       "      <th>tpep_pickup_datetime</th>\n",
       "      <th></th>\n",
       "      <th></th>\n",
       "      <th></th>\n",
       "      <th></th>\n",
       "      <th></th>\n",
       "      <th></th>\n",
       "      <th></th>\n",
       "      <th></th>\n",
       "    </tr>\n",
       "  </thead>\n",
       "  <tbody>\n",
       "    <tr>\n",
       "      <th>Friday</th>\n",
       "      <td>185487.00</td>\n",
       "      <td>16.49</td>\n",
       "      <td>13.06</td>\n",
       "      <td>0.00</td>\n",
       "      <td>8.80</td>\n",
       "      <td>12.30</td>\n",
       "      <td>18.36</td>\n",
       "      <td>215.75</td>\n",
       "    </tr>\n",
       "    <tr>\n",
       "      <th>Monday</th>\n",
       "      <td>153276.00</td>\n",
       "      <td>16.29</td>\n",
       "      <td>13.46</td>\n",
       "      <td>0.00</td>\n",
       "      <td>8.75</td>\n",
       "      <td>11.80</td>\n",
       "      <td>17.77</td>\n",
       "      <td>165.38</td>\n",
       "    </tr>\n",
       "    <tr>\n",
       "      <th>Saturday</th>\n",
       "      <td>182109.00</td>\n",
       "      <td>15.18</td>\n",
       "      <td>11.48</td>\n",
       "      <td>0.30</td>\n",
       "      <td>8.30</td>\n",
       "      <td>11.76</td>\n",
       "      <td>17.30</td>\n",
       "      <td>231.75</td>\n",
       "    </tr>\n",
       "    <tr>\n",
       "      <th>Sunday</th>\n",
       "      <td>158753.00</td>\n",
       "      <td>15.92</td>\n",
       "      <td>12.99</td>\n",
       "      <td>0.00</td>\n",
       "      <td>8.30</td>\n",
       "      <td>11.75</td>\n",
       "      <td>17.80</td>\n",
       "      <td>305.75</td>\n",
       "    </tr>\n",
       "    <tr>\n",
       "      <th>Thursday</th>\n",
       "      <td>179938.00</td>\n",
       "      <td>16.75</td>\n",
       "      <td>13.17</td>\n",
       "      <td>0.00</td>\n",
       "      <td>8.80</td>\n",
       "      <td>12.36</td>\n",
       "      <td>18.80</td>\n",
       "      <td>157.00</td>\n",
       "    </tr>\n",
       "    <tr>\n",
       "      <th>Tuesday</th>\n",
       "      <td>167407.00</td>\n",
       "      <td>16.22</td>\n",
       "      <td>12.76</td>\n",
       "      <td>0.00</td>\n",
       "      <td>8.80</td>\n",
       "      <td>12.30</td>\n",
       "      <td>17.88</td>\n",
       "      <td>152.38</td>\n",
       "    </tr>\n",
       "    <tr>\n",
       "      <th>Wednesday</th>\n",
       "      <td>173030.00</td>\n",
       "      <td>16.41</td>\n",
       "      <td>12.79</td>\n",
       "      <td>0.30</td>\n",
       "      <td>8.80</td>\n",
       "      <td>12.35</td>\n",
       "      <td>18.34</td>\n",
       "      <td>181.75</td>\n",
       "    </tr>\n",
       "  </tbody>\n",
       "</table>\n",
       "</div>"
      ],
      "text/plain": [
       "                         count  mean   std  min  25%   50%   75%    max\n",
       "tpep_pickup_datetime                                                   \n",
       "Friday               185487.00 16.49 13.06 0.00 8.80 12.30 18.36 215.75\n",
       "Monday               153276.00 16.29 13.46 0.00 8.75 11.80 17.77 165.38\n",
       "Saturday             182109.00 15.18 11.48 0.30 8.30 11.76 17.30 231.75\n",
       "Sunday               158753.00 15.92 12.99 0.00 8.30 11.75 17.80 305.75\n",
       "Thursday             179938.00 16.75 13.17 0.00 8.80 12.36 18.80 157.00\n",
       "Tuesday              167407.00 16.22 12.76 0.00 8.80 12.30 17.88 152.38\n",
       "Wednesday            173030.00 16.41 12.79 0.30 8.80 12.35 18.34 181.75"
      ]
     },
     "execution_count": 5,
     "metadata": {},
     "output_type": "execute_result"
    }
   ],
   "source": [
    "# realizamos un describe para tener una primera mirada de nuestros datos numericos\n",
    "\n",
    "df.groupby(df.tpep_pickup_datetime.dt.day_name())['total_amount'].describe()"
   ]
  },
  {
   "cell_type": "markdown",
   "id": "804f8194-5031-4a03-9bb3-70e4b2ed54d2",
   "metadata": {},
   "source": [
    "### Distribucion de cantidad de pasajeros en los viajes en taxi"
   ]
  },
  {
   "cell_type": "code",
   "execution_count": 6,
   "id": "5a3fefa7-44db-4d8a-80a4-f2ef71bf11bb",
   "metadata": {},
   "outputs": [
    {
     "data": {
      "text/html": [
       "<div>\n",
       "<style scoped>\n",
       "    .dataframe tbody tr th:only-of-type {\n",
       "        vertical-align: middle;\n",
       "    }\n",
       "\n",
       "    .dataframe tbody tr th {\n",
       "        vertical-align: top;\n",
       "    }\n",
       "\n",
       "    .dataframe thead th {\n",
       "        text-align: right;\n",
       "    }\n",
       "</style>\n",
       "<table border=\"1\" class=\"dataframe\">\n",
       "  <thead>\n",
       "    <tr style=\"text-align: right;\">\n",
       "      <th></th>\n",
       "      <th>count</th>\n",
       "      <th>mean</th>\n",
       "      <th>std</th>\n",
       "      <th>min</th>\n",
       "      <th>10%</th>\n",
       "      <th>40%</th>\n",
       "      <th>50%</th>\n",
       "      <th>70%</th>\n",
       "      <th>100%</th>\n",
       "      <th>max</th>\n",
       "    </tr>\n",
       "    <tr>\n",
       "      <th>passenger_count</th>\n",
       "      <th></th>\n",
       "      <th></th>\n",
       "      <th></th>\n",
       "      <th></th>\n",
       "      <th></th>\n",
       "      <th></th>\n",
       "      <th></th>\n",
       "      <th></th>\n",
       "      <th></th>\n",
       "      <th></th>\n",
       "    </tr>\n",
       "  </thead>\n",
       "  <tbody>\n",
       "    <tr>\n",
       "      <th>1</th>\n",
       "      <td>927851.00</td>\n",
       "      <td>16.01</td>\n",
       "      <td>12.62</td>\n",
       "      <td>0.00</td>\n",
       "      <td>6.80</td>\n",
       "      <td>10.55</td>\n",
       "      <td>11.80</td>\n",
       "      <td>16.30</td>\n",
       "      <td>231.75</td>\n",
       "      <td>231.75</td>\n",
       "    </tr>\n",
       "    <tr>\n",
       "      <th>2</th>\n",
       "      <td>190630.00</td>\n",
       "      <td>16.84</td>\n",
       "      <td>13.62</td>\n",
       "      <td>0.00</td>\n",
       "      <td>6.95</td>\n",
       "      <td>10.80</td>\n",
       "      <td>12.30</td>\n",
       "      <td>16.80</td>\n",
       "      <td>305.75</td>\n",
       "      <td>305.75</td>\n",
       "    </tr>\n",
       "    <tr>\n",
       "      <th>3</th>\n",
       "      <td>54760.00</td>\n",
       "      <td>16.49</td>\n",
       "      <td>13.06</td>\n",
       "      <td>0.00</td>\n",
       "      <td>6.85</td>\n",
       "      <td>10.80</td>\n",
       "      <td>12.30</td>\n",
       "      <td>16.62</td>\n",
       "      <td>215.75</td>\n",
       "      <td>215.75</td>\n",
       "    </tr>\n",
       "    <tr>\n",
       "      <th>4</th>\n",
       "      <td>26759.00</td>\n",
       "      <td>16.61</td>\n",
       "      <td>13.20</td>\n",
       "      <td>0.30</td>\n",
       "      <td>6.96</td>\n",
       "      <td>10.80</td>\n",
       "      <td>12.30</td>\n",
       "      <td>16.80</td>\n",
       "      <td>176.12</td>\n",
       "      <td>176.12</td>\n",
       "    </tr>\n",
       "  </tbody>\n",
       "</table>\n",
       "</div>"
      ],
      "text/plain": [
       "                    count  mean   std  min  10%   40%   50%   70%   100%  \\\n",
       "passenger_count                                                            \n",
       "1               927851.00 16.01 12.62 0.00 6.80 10.55 11.80 16.30 231.75   \n",
       "2               190630.00 16.84 13.62 0.00 6.95 10.80 12.30 16.80 305.75   \n",
       "3                54760.00 16.49 13.06 0.00 6.85 10.80 12.30 16.62 215.75   \n",
       "4                26759.00 16.61 13.20 0.30 6.96 10.80 12.30 16.80 176.12   \n",
       "\n",
       "                   max  \n",
       "passenger_count         \n",
       "1               231.75  \n",
       "2               305.75  \n",
       "3               215.75  \n",
       "4               176.12  "
      ]
     },
     "execution_count": 6,
     "metadata": {},
     "output_type": "execute_result"
    }
   ],
   "source": [
    "# observamos como varia la facturacion total de los viajes, respecto a la cantidad de pasajeros.\n",
    "\n",
    "df.groupby(df.passenger_count).describe(percentiles=list(np.linspace(0.1,1,4)))['total_amount']"
   ]
  },
  {
   "cell_type": "code",
   "execution_count": 7,
   "id": "4f8c4bcc-69ff-4eca-834e-d072cc7f6abd",
   "metadata": {},
   "outputs": [
    {
     "data": {
      "text/html": [
       "<div>\n",
       "<style scoped>\n",
       "    .dataframe tbody tr th:only-of-type {\n",
       "        vertical-align: middle;\n",
       "    }\n",
       "\n",
       "    .dataframe tbody tr th {\n",
       "        vertical-align: top;\n",
       "    }\n",
       "\n",
       "    .dataframe thead th {\n",
       "        text-align: right;\n",
       "    }\n",
       "</style>\n",
       "<table border=\"1\" class=\"dataframe\">\n",
       "  <thead>\n",
       "    <tr style=\"text-align: right;\">\n",
       "      <th></th>\n",
       "      <th>CANTIDAD DE VIAJES</th>\n",
       "      <th>ACUMULADO PORCENTUAL [%]</th>\n",
       "    </tr>\n",
       "    <tr>\n",
       "      <th>CANTIDAD DE PASAJEROS</th>\n",
       "      <th></th>\n",
       "      <th></th>\n",
       "    </tr>\n",
       "  </thead>\n",
       "  <tbody>\n",
       "    <tr>\n",
       "      <th>1</th>\n",
       "      <td>927851</td>\n",
       "      <td>77.32</td>\n",
       "    </tr>\n",
       "    <tr>\n",
       "      <th>2</th>\n",
       "      <td>190630</td>\n",
       "      <td>93.21</td>\n",
       "    </tr>\n",
       "    <tr>\n",
       "      <th>3</th>\n",
       "      <td>54760</td>\n",
       "      <td>97.77</td>\n",
       "    </tr>\n",
       "    <tr>\n",
       "      <th>4</th>\n",
       "      <td>26759</td>\n",
       "      <td>100.00</td>\n",
       "    </tr>\n",
       "  </tbody>\n",
       "</table>\n",
       "</div>"
      ],
      "text/plain": [
       "                       CANTIDAD DE VIAJES  ACUMULADO PORCENTUAL [%]\n",
       "CANTIDAD DE PASAJEROS                                              \n",
       "1                                  927851                     77.32\n",
       "2                                  190630                     93.21\n",
       "3                                   54760                     97.77\n",
       "4                                   26759                    100.00"
      ]
     },
     "execution_count": 7,
     "metadata": {},
     "output_type": "execute_result"
    }
   ],
   "source": [
    "cant_pasajeros_df = df.groupby('passenger_count').count()['VendorID'].to_frame()\n",
    "cant_pasajeros_df = cant_pasajeros_df.join(df.passenger_count.value_counts(normalize=True).to_frame().cumsum()*100)\n",
    "\n",
    "cant_pasajeros_df.columns = ['CANTIDAD DE VIAJES','ACUMULADO PORCENTUAL [%]']\n",
    "\n",
    "cant_pasajeros_df.index.name = 'CANTIDAD DE PASAJEROS'\n",
    "cant_pasajeros_df"
   ]
  },
  {
   "cell_type": "markdown",
   "id": "c44c3da0-13ac-49e6-ae48-f7b5623f4840",
   "metadata": {},
   "source": [
    "## ¿CUANTO SE FACTURA EN PROMEDIO POR MES? Y QUE MES ES EL MAS PROVECHOSO?"
   ]
  },
  {
   "cell_type": "code",
   "execution_count": 8,
   "id": "2215b4e2-4216-4a72-bf2f-f1db28bcdf0b",
   "metadata": {},
   "outputs": [
    {
     "data": {
      "text/html": [
       "<div>\n",
       "<style scoped>\n",
       "    .dataframe tbody tr th:only-of-type {\n",
       "        vertical-align: middle;\n",
       "    }\n",
       "\n",
       "    .dataframe tbody tr th {\n",
       "        vertical-align: top;\n",
       "    }\n",
       "\n",
       "    .dataframe thead th {\n",
       "        text-align: right;\n",
       "    }\n",
       "</style>\n",
       "<table border=\"1\" class=\"dataframe\">\n",
       "  <thead>\n",
       "    <tr style=\"text-align: right;\">\n",
       "      <th></th>\n",
       "      <th>FACTURACION PROMEDIO</th>\n",
       "      <th>CANTIDAD DE VIAJES EN EL MES</th>\n",
       "    </tr>\n",
       "    <tr>\n",
       "      <th>MES</th>\n",
       "      <th></th>\n",
       "      <th></th>\n",
       "    </tr>\n",
       "  </thead>\n",
       "  <tbody>\n",
       "    <tr>\n",
       "      <th>September</th>\n",
       "      <td>16.73</td>\n",
       "      <td>100000</td>\n",
       "    </tr>\n",
       "    <tr>\n",
       "      <th>June</th>\n",
       "      <td>16.57</td>\n",
       "      <td>100000</td>\n",
       "    </tr>\n",
       "    <tr>\n",
       "      <th>May</th>\n",
       "      <td>16.50</td>\n",
       "      <td>100000</td>\n",
       "    </tr>\n",
       "    <tr>\n",
       "      <th>November</th>\n",
       "      <td>16.46</td>\n",
       "      <td>100000</td>\n",
       "    </tr>\n",
       "    <tr>\n",
       "      <th>October</th>\n",
       "      <td>16.43</td>\n",
       "      <td>100000</td>\n",
       "    </tr>\n",
       "    <tr>\n",
       "      <th>July</th>\n",
       "      <td>16.23</td>\n",
       "      <td>100000</td>\n",
       "    </tr>\n",
       "    <tr>\n",
       "      <th>August</th>\n",
       "      <td>16.21</td>\n",
       "      <td>100000</td>\n",
       "    </tr>\n",
       "    <tr>\n",
       "      <th>December</th>\n",
       "      <td>16.11</td>\n",
       "      <td>100000</td>\n",
       "    </tr>\n",
       "    <tr>\n",
       "      <th>April</th>\n",
       "      <td>16.05</td>\n",
       "      <td>100000</td>\n",
       "    </tr>\n",
       "    <tr>\n",
       "      <th>March</th>\n",
       "      <td>15.85</td>\n",
       "      <td>100000</td>\n",
       "    </tr>\n",
       "    <tr>\n",
       "      <th>January</th>\n",
       "      <td>15.54</td>\n",
       "      <td>100000</td>\n",
       "    </tr>\n",
       "    <tr>\n",
       "      <th>February</th>\n",
       "      <td>15.48</td>\n",
       "      <td>100000</td>\n",
       "    </tr>\n",
       "  </tbody>\n",
       "</table>\n",
       "</div>"
      ],
      "text/plain": [
       "           FACTURACION PROMEDIO  CANTIDAD DE VIAJES EN EL MES\n",
       "MES                                                          \n",
       "September                 16.73                        100000\n",
       "June                      16.57                        100000\n",
       "May                       16.50                        100000\n",
       "November                  16.46                        100000\n",
       "October                   16.43                        100000\n",
       "July                      16.23                        100000\n",
       "August                    16.21                        100000\n",
       "December                  16.11                        100000\n",
       "April                     16.05                        100000\n",
       "March                     15.85                        100000\n",
       "January                   15.54                        100000\n",
       "February                  15.48                        100000"
      ]
     },
     "execution_count": 8,
     "metadata": {},
     "output_type": "execute_result"
    }
   ],
   "source": [
    "# Agrupamos por mes a los viajes, y calculamos el promedio facturado \n",
    "# y la cantidad de viajes que se realizaron en ese mes\n",
    "\n",
    "fac_por_mes_df=df.groupby(df.tpep_pickup_datetime.dt.month_name()).agg({'total_amount':'mean','VendorID':'count'})\n",
    "fac_por_mes_df.columns=['FACTURACION PROMEDIO', 'CANTIDAD DE VIAJES EN EL MES']\n",
    "fac_por_mes_df.index.name = 'MES'\n",
    "fac_por_mes_df = fac_por_mes_df.sort_values('FACTURACION PROMEDIO', ascending=False)\n",
    "fac_por_mes_df"
   ]
  },
  {
   "cell_type": "code",
   "execution_count": 23,
   "id": "a827285c-bf98-4863-a89f-5092177713bc",
   "metadata": {},
   "outputs": [
    {
     "data": {
      "text/plain": [
       "16.179597552286783"
      ]
     },
     "execution_count": 23,
     "metadata": {},
     "output_type": "execute_result"
    }
   ],
   "source": [
    "fac_por_mes_df['FACTURACION PROMEDIO'].mean()"
   ]
  },
  {
   "cell_type": "code",
   "execution_count": 9,
   "id": "1fc0ae1f-9dda-46df-b593-b4c03ed3b5e5",
   "metadata": {},
   "outputs": [
    {
     "data": {
      "image/png": "[encoded data removed]",
      "text/plain": [
       "<Figure size 1008x576 with 1 Axes>"
      ]
     },
     "metadata": {},
     "output_type": "display_data"
    }
   ],
   "source": [
    "# Realizamos un grafico de barras de la facturacion mensual promedio por viaje\n",
    "\n",
    "plt.figure(figsize=(14,8))\n",
    "\n",
    "sns.barplot(data=fac_por_mes_df, x=fac_por_mes_df.index, y= 'FACTURACION PROMEDIO')\n",
    "\n",
    "plt.title('PROMEDIO DE FACTURACION POR VIAJE EN EL MES')\n",
    "plt.xlabel('MESES DEL AÑO')\n",
    "plt.ylabel('FACTURACION PROMEDIO POR VIAJE MENSUAL [U$D]');"
   ]
  },
  {
   "cell_type": "markdown",
   "id": "046814f0-36e6-4c7f-ab89-4dca63db2dca",
   "metadata": {},
   "source": [
    "#### **Conclusion:** \n",
    "##### **El mes mas provechoso para trabajar con el taxi fue junio, con una facturacion promedio por viaje de USD 17,46 por viaje, y siendo el menos provechoso el mes de Diciembre, con una facturacion promedio de USD 16,06 por viaje realizado**"
   ]
  },
  {
   "cell_type": "markdown",
   "id": "1843a236-5a10-4aca-92bb-d1eebb0ff3f4",
   "metadata": {
    "tags": []
   },
   "source": [
    "## ¿Cuándo se utilizan más los taxis?, los días laborales o los “días libres”(sábados/domingos)?"
   ]
  },
  {
   "cell_type": "code",
   "execution_count": 10,
   "id": "5d4a7c6f-066d-4ffc-b86b-acb122aabc2a",
   "metadata": {
    "tags": []
   },
   "outputs": [
    {
     "data": {
      "text/plain": [
       "True     859138\n",
       "False    340862\n",
       "Name: dia_laborable, dtype: int64"
      ]
     },
     "execution_count": 10,
     "metadata": {},
     "output_type": "execute_result"
    }
   ],
   "source": [
    "# where Monday is 0 and Sunday is 6\n",
    "\n",
    "df['dia_laborable'] = df.tpep_pickup_datetime.dt.weekday < 5 \n",
    "\n",
    "# Revisamos la cantidad de viajes que se realizaron los dias laborables\n",
    "# y los dias no laborables\n",
    "\n",
    "cant_viajes_dias_lab_y_no_lab=df.dia_laborable.value_counts(normalize = False)\n",
    "cant_viajes_dias_lab_y_no_lab"
   ]
  },
  {
   "cell_type": "code",
   "execution_count": 11,
   "id": "11904848-a346-42dd-a2f3-036612db4051",
   "metadata": {},
   "outputs": [
    {
     "name": "stdout",
     "output_type": "stream",
     "text": [
      "Cantidad ponderada de viajes en dias laborales es mayor que en dias no laborables:\n",
      " False\n",
      "Los taxis se usaron un 6.3 % mas en los dias no laborables, al ponderar los valores\n"
     ]
    }
   ],
   "source": [
    "# Si ponderamos el resultado, dado que los dias laborales son 2.5 veces mas cantidad de dias\n",
    "\n",
    "dia_laboral_mayor_dia_no_laboral = cant_viajes_dias_lab_y_no_lab[0] > cant_viajes_dias_lab_y_no_lab[1]*2.5\n",
    "\n",
    "porc=round(cant_viajes_dias_lab_y_no_lab[1]*2.5/cant_viajes_dias_lab_y_no_lab[0],2)\n",
    "\n",
    "\n",
    "print('Cantidad ponderada de viajes en dias laborales es mayor que en dias no laborables:\\n',dia_laboral_mayor_dia_no_laboral)\n",
    "print(f'Los taxis se usaron un {porc} % mas en los dias no laborables, al ponderar los valores');"
   ]
  },
  {
   "cell_type": "markdown",
   "id": "93d8ec58-216b-4ace-adc5-065de47772f6",
   "metadata": {},
   "source": [
    "#### **Respuesta: Si bien, al ponderar, vemos que NO hay una gran diferencia en los valores, los taxis se utilizaron en mayor medida los dias NO laborales**"
   ]
  },
  {
   "cell_type": "markdown",
   "id": "c44e8f83-b9c4-4301-bf5c-3c87248e9793",
   "metadata": {},
   "source": [
    "# ¿ Hay alguna correlacion entre las estaciones del año y el uso del taxi?"
   ]
  },
  {
   "cell_type": "code",
   "execution_count": 12,
   "id": "b8113142-69d7-4bbf-b4ad-bdb5cd6f0d8b",
   "metadata": {},
   "outputs": [],
   "source": [
    "# Primero tenemos que crear una nueva columna llamada 'season', en donde mapearemos la estacion\n",
    "# en donde se realizo ese viaje\n",
    "\n",
    "# SEASONS USA\n",
    "# Primavera: 21 marzo hasta 20 junio.\n",
    "# Verano: 21 junio hasta 20 septiembre.\n",
    "# Otoño: 22 septiembre hasta 21 diciembre.\n",
    "# Invierno: 22 diciembre hasta 20 marzo.\n",
    "\n",
    "\n",
    "primavera = df[np.logical_and((df.tpep_pickup_datetime >= datetime(2016, 3, 21)),(df.tpep_pickup_datetime < datetime(2016, 6, 21)))].index\n",
    "verano = df[np.logical_and((df.tpep_pickup_datetime >= datetime(2016, 6, 21)),(df.tpep_pickup_datetime < datetime(2016, 9, 22)))].index\n",
    "otonio = df[np.logical_and((df.tpep_pickup_datetime >= datetime(2016, 9, 22)),(df.tpep_pickup_datetime < datetime(2016, 12, 22)))].index\n",
    "invierno = df[np.logical_and((df.tpep_pickup_datetime >= datetime(2016, 12, 22)),(df.tpep_pickup_datetime <= datetime(2016, 12, 31, hour=23, minute=59, second=59)))].index\n",
    "invierno_2 = df[np.logical_and((df.tpep_pickup_datetime >= datetime(2016, 1, 1)),(df.tpep_pickup_datetime < datetime(2016, 3, 21)))].index\n",
    "\n",
    "df.loc[primavera, 'season'] = 'primavera'\n",
    "df.loc[verano, 'season'] = 'verano'\n",
    "df.loc[otonio, 'season'] = 'otonio'\n",
    "df.loc[invierno, 'season'] = 'invierno'\n",
    "df.loc[invierno_2, 'season'] = 'invierno'\n",
    "\n",
    "# df.head()"
   ]
  },
  {
   "cell_type": "code",
   "execution_count": 13,
   "id": "075c5d29-0524-48c0-88a0-40bba4c2bdca",
   "metadata": {},
   "outputs": [
    {
     "data": {
      "text/html": [
       "<div>\n",
       "<style scoped>\n",
       "    .dataframe tbody tr th:only-of-type {\n",
       "        vertical-align: middle;\n",
       "    }\n",
       "\n",
       "    .dataframe tbody tr th {\n",
       "        vertical-align: top;\n",
       "    }\n",
       "\n",
       "    .dataframe thead tr th {\n",
       "        text-align: left;\n",
       "    }\n",
       "\n",
       "    .dataframe thead tr:last-of-type th {\n",
       "        text-align: right;\n",
       "    }\n",
       "</style>\n",
       "<table border=\"1\" class=\"dataframe\">\n",
       "  <thead>\n",
       "    <tr>\n",
       "      <th></th>\n",
       "      <th>passenger_count</th>\n",
       "      <th colspan=\"2\" halign=\"left\">total_amount</th>\n",
       "      <th colspan=\"2\" halign=\"left\">trip_distance</th>\n",
       "    </tr>\n",
       "    <tr>\n",
       "      <th></th>\n",
       "      <th>count</th>\n",
       "      <th>sum</th>\n",
       "      <th>mean</th>\n",
       "      <th>max</th>\n",
       "      <th>sum</th>\n",
       "    </tr>\n",
       "    <tr>\n",
       "      <th>season</th>\n",
       "      <th></th>\n",
       "      <th></th>\n",
       "      <th></th>\n",
       "      <th></th>\n",
       "      <th></th>\n",
       "    </tr>\n",
       "  </thead>\n",
       "  <tbody>\n",
       "    <tr>\n",
       "      <th>otonio</th>\n",
       "      <td>305572</td>\n",
       "      <td>5031192.93</td>\n",
       "      <td>16.46</td>\n",
       "      <td>49.22</td>\n",
       "      <td>910479.77</td>\n",
       "    </tr>\n",
       "    <tr>\n",
       "      <th>primavera</th>\n",
       "      <td>301645</td>\n",
       "      <td>4913367.50</td>\n",
       "      <td>16.29</td>\n",
       "      <td>72.20</td>\n",
       "      <td>912171.28</td>\n",
       "    </tr>\n",
       "    <tr>\n",
       "      <th>verano</th>\n",
       "      <td>301475</td>\n",
       "      <td>4933948.94</td>\n",
       "      <td>16.37</td>\n",
       "      <td>47.90</td>\n",
       "      <td>923352.21</td>\n",
       "    </tr>\n",
       "    <tr>\n",
       "      <th>invierno</th>\n",
       "      <td>291308</td>\n",
       "      <td>4537007.68</td>\n",
       "      <td>15.57</td>\n",
       "      <td>69.00</td>\n",
       "      <td>852544.26</td>\n",
       "    </tr>\n",
       "  </tbody>\n",
       "</table>\n",
       "</div>"
      ],
      "text/plain": [
       "          passenger_count total_amount       trip_distance          \n",
       "                    count          sum  mean           max       sum\n",
       "season                                                              \n",
       "otonio             305572   5031192.93 16.46         49.22 910479.77\n",
       "primavera          301645   4913367.50 16.29         72.20 912171.28\n",
       "verano             301475   4933948.94 16.37         47.90 923352.21\n",
       "invierno           291308   4537007.68 15.57         69.00 852544.26"
      ]
     },
     "execution_count": 13,
     "metadata": {},
     "output_type": "execute_result"
    }
   ],
   "source": [
    "# Agrupamos por estacion del año, y ordenamos de mayor a menor, segun la cantidad de viajes\n",
    "# que se realizaron en esa estacion. Luego, tambien mostramos la facturacion por viaje de cada mes\n",
    "# y la distancia que se recorrio en los viajes.\n",
    "\n",
    "season_df=df.groupby('season').agg({'passenger_count':['count'],\n",
    "                                 'total_amount':['sum','mean'],\n",
    "                                 'trip_distance':['max', 'sum']})\n",
    "\n",
    "season_df.sort_values(('passenger_count','count'), ascending=False)\n"
   ]
  },
  {
   "cell_type": "markdown",
   "id": "1aa77d60-5de5-4bb4-967c-70dc2ccdd625",
   "metadata": {
    "tags": []
   },
   "source": [
    "#### **Conclusion:** \n",
    "##### **La estacion en la que mas cantidad de viajes se realizaron fue el otoño.**"
   ]
  },
  {
   "cell_type": "markdown",
   "id": "0b36b529-dd0b-46f6-9a0b-83f3fd14ae0b",
   "metadata": {},
   "source": [
    "## Maratones en New York, ¿Como afectan a la distribución?."
   ]
  },
  {
   "cell_type": "markdown",
   "id": "24c13471-5f86-40a4-a3d4-92ac9b7ce502",
   "metadata": {},
   "source": [
    "El 6 de noviembre, tuvo lugar la edicion N46 del New York city Marathon https://en.wikipedia.org/wiki/2016_New_York_City_Marathon"
   ]
  },
  {
   "cell_type": "code",
   "execution_count": 14,
   "id": "aeb8e39f-8f1a-4215-9102-58032a55c2d3",
   "metadata": {},
   "outputs": [],
   "source": [
    "maraton_day = pd.to_datetime('2016 11 6')\n",
    "\n",
    "maraton = df[(df.tpep_pickup_datetime.dt.month == 11) & (df.tpep_pickup_datetime.dt.day == 6)]\n",
    "# maraton.head(2)"
   ]
  },
  {
   "cell_type": "markdown",
   "id": "34b7d04e-0f02-4878-bb04-6998cc8c8da2",
   "metadata": {},
   "source": [
    "#### Vamos a observar la mediana de la facturacion total por mes y compararla con la del dia del maraton, para ver si el mismo, tuvo algun impacto."
   ]
  },
  {
   "cell_type": "code",
   "execution_count": 15,
   "id": "4c2d21e9-04f3-4587-ae69-741ab4eb2090",
   "metadata": {},
   "outputs": [
    {
     "data": {
      "text/html": [
       "<div>\n",
       "<style scoped>\n",
       "    .dataframe tbody tr th:only-of-type {\n",
       "        vertical-align: middle;\n",
       "    }\n",
       "\n",
       "    .dataframe tbody tr th {\n",
       "        vertical-align: top;\n",
       "    }\n",
       "\n",
       "    .dataframe thead tr th {\n",
       "        text-align: left;\n",
       "    }\n",
       "\n",
       "    .dataframe thead tr:last-of-type th {\n",
       "        text-align: right;\n",
       "    }\n",
       "</style>\n",
       "<table border=\"1\" class=\"dataframe\">\n",
       "  <thead>\n",
       "    <tr>\n",
       "      <th></th>\n",
       "      <th colspan=\"3\" halign=\"left\">total_amount</th>\n",
       "    </tr>\n",
       "    <tr>\n",
       "      <th></th>\n",
       "      <th>median</th>\n",
       "      <th>mean</th>\n",
       "      <th>std</th>\n",
       "    </tr>\n",
       "    <tr>\n",
       "      <th>tpep_pickup_datetime</th>\n",
       "      <th></th>\n",
       "      <th></th>\n",
       "      <th></th>\n",
       "    </tr>\n",
       "  </thead>\n",
       "  <tbody>\n",
       "    <tr>\n",
       "      <th>April</th>\n",
       "      <td>12.05</td>\n",
       "      <td>16.05</td>\n",
       "      <td>12.52</td>\n",
       "    </tr>\n",
       "    <tr>\n",
       "      <th>August</th>\n",
       "      <td>12.10</td>\n",
       "      <td>16.21</td>\n",
       "      <td>12.90</td>\n",
       "    </tr>\n",
       "    <tr>\n",
       "      <th>December</th>\n",
       "      <td>12.25</td>\n",
       "      <td>16.11</td>\n",
       "      <td>12.74</td>\n",
       "    </tr>\n",
       "    <tr>\n",
       "      <th>February</th>\n",
       "      <td>11.75</td>\n",
       "      <td>15.48</td>\n",
       "      <td>12.18</td>\n",
       "    </tr>\n",
       "    <tr>\n",
       "      <th>January</th>\n",
       "      <td>11.75</td>\n",
       "      <td>15.54</td>\n",
       "      <td>12.29</td>\n",
       "    </tr>\n",
       "    <tr>\n",
       "      <th>July</th>\n",
       "      <td>12.25</td>\n",
       "      <td>16.23</td>\n",
       "      <td>12.83</td>\n",
       "    </tr>\n",
       "    <tr>\n",
       "      <th>June</th>\n",
       "      <td>12.30</td>\n",
       "      <td>16.57</td>\n",
       "      <td>13.22</td>\n",
       "    </tr>\n",
       "    <tr>\n",
       "      <th>March</th>\n",
       "      <td>11.80</td>\n",
       "      <td>15.85</td>\n",
       "      <td>12.52</td>\n",
       "    </tr>\n",
       "    <tr>\n",
       "      <th>May</th>\n",
       "      <td>12.30</td>\n",
       "      <td>16.50</td>\n",
       "      <td>13.09</td>\n",
       "    </tr>\n",
       "    <tr>\n",
       "      <th>November</th>\n",
       "      <td>12.30</td>\n",
       "      <td>16.46</td>\n",
       "      <td>13.08</td>\n",
       "    </tr>\n",
       "    <tr>\n",
       "      <th>October</th>\n",
       "      <td>12.30</td>\n",
       "      <td>16.43</td>\n",
       "      <td>13.00</td>\n",
       "    </tr>\n",
       "    <tr>\n",
       "      <th>September</th>\n",
       "      <td>12.35</td>\n",
       "      <td>16.73</td>\n",
       "      <td>13.35</td>\n",
       "    </tr>\n",
       "  </tbody>\n",
       "</table>\n",
       "</div>"
      ],
      "text/plain": [
       "                     total_amount            \n",
       "                           median  mean   std\n",
       "tpep_pickup_datetime                         \n",
       "April                       12.05 16.05 12.52\n",
       "August                      12.10 16.21 12.90\n",
       "December                    12.25 16.11 12.74\n",
       "February                    11.75 15.48 12.18\n",
       "January                     11.75 15.54 12.29\n",
       "July                        12.25 16.23 12.83\n",
       "June                        12.30 16.57 13.22\n",
       "March                       11.80 15.85 12.52\n",
       "May                         12.30 16.50 13.09\n",
       "November                    12.30 16.46 13.08\n",
       "October                     12.30 16.43 13.00\n",
       "September                   12.35 16.73 13.35"
      ]
     },
     "execution_count": 15,
     "metadata": {},
     "output_type": "execute_result"
    }
   ],
   "source": [
    "df.groupby(df.tpep_pickup_datetime.dt.month_name()).\\\n",
    "                                    agg({'total_amount':['median','mean','std']})\n"
   ]
  },
  {
   "cell_type": "code",
   "execution_count": 16,
   "id": "19265a9a-171c-4f58-83b6-1f43aefa442a",
   "metadata": {},
   "outputs": [
    {
     "data": {
      "text/html": [
       "<div>\n",
       "<style scoped>\n",
       "    .dataframe tbody tr th:only-of-type {\n",
       "        vertical-align: middle;\n",
       "    }\n",
       "\n",
       "    .dataframe tbody tr th {\n",
       "        vertical-align: top;\n",
       "    }\n",
       "\n",
       "    .dataframe thead tr th {\n",
       "        text-align: left;\n",
       "    }\n",
       "\n",
       "    .dataframe thead tr:last-of-type th {\n",
       "        text-align: right;\n",
       "    }\n",
       "</style>\n",
       "<table border=\"1\" class=\"dataframe\">\n",
       "  <thead>\n",
       "    <tr>\n",
       "      <th></th>\n",
       "      <th colspan=\"3\" halign=\"left\">total_amount</th>\n",
       "    </tr>\n",
       "    <tr>\n",
       "      <th></th>\n",
       "      <th>median</th>\n",
       "      <th>mean</th>\n",
       "      <th>std</th>\n",
       "    </tr>\n",
       "    <tr>\n",
       "      <th>tpep_pickup_datetime</th>\n",
       "      <th></th>\n",
       "      <th></th>\n",
       "      <th></th>\n",
       "    </tr>\n",
       "  </thead>\n",
       "  <tbody>\n",
       "    <tr>\n",
       "      <th>November</th>\n",
       "      <td>11.76</td>\n",
       "      <td>16.51</td>\n",
       "      <td>13.95</td>\n",
       "    </tr>\n",
       "  </tbody>\n",
       "</table>\n",
       "</div>"
      ],
      "text/plain": [
       "                     total_amount            \n",
       "                           median  mean   std\n",
       "tpep_pickup_datetime                         \n",
       "November                    11.76 16.51 13.95"
      ]
     },
     "execution_count": 16,
     "metadata": {},
     "output_type": "execute_result"
    }
   ],
   "source": [
    "maraton.groupby(maraton.tpep_pickup_datetime.dt.month_name()).agg({'total_amount':['median','mean','std']})"
   ]
  },
  {
   "cell_type": "markdown",
   "id": "e701e667-c541-4056-b37d-692dc04beb92",
   "metadata": {
    "tags": []
   },
   "source": [
    "#### **Conclusion:** \n",
    "##### **El maraton se realizo en el mes de NOVIEMBRE, y vemos resultados de ese dia inferiores a la mediana y media de ese mes, con lo que podriamos concluir que el mismo afecto NEGATIVAMENTE a los viajes en taxi**"
   ]
  },
  {
   "cell_type": "markdown",
   "id": "30d785f1-d210-443f-aa9a-3ffbffcf79af",
   "metadata": {},
   "source": [
    "## Las elecciones presidenciales del 2016, afectaron de alguna manera el mercado del transporte?"
   ]
  },
  {
   "cell_type": "code",
   "execution_count": 17,
   "id": "f70d70f0-a233-4f24-8965-4bab7c31fc55",
   "metadata": {},
   "outputs": [
    {
     "data": {
      "text/html": [
       "<div>\n",
       "<style scoped>\n",
       "    .dataframe tbody tr th:only-of-type {\n",
       "        vertical-align: middle;\n",
       "    }\n",
       "\n",
       "    .dataframe tbody tr th {\n",
       "        vertical-align: top;\n",
       "    }\n",
       "\n",
       "    .dataframe thead tr th {\n",
       "        text-align: left;\n",
       "    }\n",
       "\n",
       "    .dataframe thead tr:last-of-type th {\n",
       "        text-align: right;\n",
       "    }\n",
       "</style>\n",
       "<table border=\"1\" class=\"dataframe\">\n",
       "  <thead>\n",
       "    <tr>\n",
       "      <th></th>\n",
       "      <th colspan=\"3\" halign=\"left\">total_amount</th>\n",
       "    </tr>\n",
       "    <tr>\n",
       "      <th></th>\n",
       "      <th>median</th>\n",
       "      <th>mean</th>\n",
       "      <th>std</th>\n",
       "    </tr>\n",
       "    <tr>\n",
       "      <th>tpep_pickup_datetime</th>\n",
       "      <th></th>\n",
       "      <th></th>\n",
       "      <th></th>\n",
       "    </tr>\n",
       "  </thead>\n",
       "  <tbody>\n",
       "    <tr>\n",
       "      <th>April</th>\n",
       "      <td>12.05</td>\n",
       "      <td>16.05</td>\n",
       "      <td>12.52</td>\n",
       "    </tr>\n",
       "    <tr>\n",
       "      <th>August</th>\n",
       "      <td>12.10</td>\n",
       "      <td>16.21</td>\n",
       "      <td>12.90</td>\n",
       "    </tr>\n",
       "    <tr>\n",
       "      <th>December</th>\n",
       "      <td>12.25</td>\n",
       "      <td>16.11</td>\n",
       "      <td>12.74</td>\n",
       "    </tr>\n",
       "    <tr>\n",
       "      <th>February</th>\n",
       "      <td>11.75</td>\n",
       "      <td>15.48</td>\n",
       "      <td>12.18</td>\n",
       "    </tr>\n",
       "    <tr>\n",
       "      <th>January</th>\n",
       "      <td>11.75</td>\n",
       "      <td>15.54</td>\n",
       "      <td>12.29</td>\n",
       "    </tr>\n",
       "    <tr>\n",
       "      <th>July</th>\n",
       "      <td>12.25</td>\n",
       "      <td>16.23</td>\n",
       "      <td>12.83</td>\n",
       "    </tr>\n",
       "    <tr>\n",
       "      <th>June</th>\n",
       "      <td>12.30</td>\n",
       "      <td>16.57</td>\n",
       "      <td>13.22</td>\n",
       "    </tr>\n",
       "    <tr>\n",
       "      <th>March</th>\n",
       "      <td>11.80</td>\n",
       "      <td>15.85</td>\n",
       "      <td>12.52</td>\n",
       "    </tr>\n",
       "    <tr>\n",
       "      <th>May</th>\n",
       "      <td>12.30</td>\n",
       "      <td>16.50</td>\n",
       "      <td>13.09</td>\n",
       "    </tr>\n",
       "    <tr>\n",
       "      <th>November</th>\n",
       "      <td>12.30</td>\n",
       "      <td>16.46</td>\n",
       "      <td>13.08</td>\n",
       "    </tr>\n",
       "    <tr>\n",
       "      <th>October</th>\n",
       "      <td>12.30</td>\n",
       "      <td>16.43</td>\n",
       "      <td>13.00</td>\n",
       "    </tr>\n",
       "    <tr>\n",
       "      <th>September</th>\n",
       "      <td>12.35</td>\n",
       "      <td>16.73</td>\n",
       "      <td>13.35</td>\n",
       "    </tr>\n",
       "  </tbody>\n",
       "</table>\n",
       "</div>"
      ],
      "text/plain": [
       "                     total_amount            \n",
       "                           median  mean   std\n",
       "tpep_pickup_datetime                         \n",
       "April                       12.05 16.05 12.52\n",
       "August                      12.10 16.21 12.90\n",
       "December                    12.25 16.11 12.74\n",
       "February                    11.75 15.48 12.18\n",
       "January                     11.75 15.54 12.29\n",
       "July                        12.25 16.23 12.83\n",
       "June                        12.30 16.57 13.22\n",
       "March                       11.80 15.85 12.52\n",
       "May                         12.30 16.50 13.09\n",
       "November                    12.30 16.46 13.08\n",
       "October                     12.30 16.43 13.00\n",
       "September                   12.35 16.73 13.35"
      ]
     },
     "execution_count": 17,
     "metadata": {},
     "output_type": "execute_result"
    }
   ],
   "source": [
    "election_day=pd.to_datetime('2016-11-8')\n",
    "\n",
    "\n",
    "election = df[(df.tpep_pickup_datetime.dt.month==11) & (df.tpep_pickup_datetime.dt.day==8)]\n",
    "df.groupby(df.tpep_pickup_datetime.dt.month_name()).agg({'total_amount':['median','mean','std']})"
   ]
  },
  {
   "cell_type": "code",
   "execution_count": 18,
   "id": "80466e8b-6a18-47dc-893d-21f9e21ddffe",
   "metadata": {},
   "outputs": [
    {
     "data": {
      "text/html": [
       "<div>\n",
       "<style scoped>\n",
       "    .dataframe tbody tr th:only-of-type {\n",
       "        vertical-align: middle;\n",
       "    }\n",
       "\n",
       "    .dataframe tbody tr th {\n",
       "        vertical-align: top;\n",
       "    }\n",
       "\n",
       "    .dataframe thead tr th {\n",
       "        text-align: left;\n",
       "    }\n",
       "\n",
       "    .dataframe thead tr:last-of-type th {\n",
       "        text-align: right;\n",
       "    }\n",
       "</style>\n",
       "<table border=\"1\" class=\"dataframe\">\n",
       "  <thead>\n",
       "    <tr>\n",
       "      <th></th>\n",
       "      <th colspan=\"3\" halign=\"left\">total_amount</th>\n",
       "    </tr>\n",
       "    <tr>\n",
       "      <th></th>\n",
       "      <th>median</th>\n",
       "      <th>mean</th>\n",
       "      <th>std</th>\n",
       "    </tr>\n",
       "    <tr>\n",
       "      <th>tpep_pickup_datetime</th>\n",
       "      <th></th>\n",
       "      <th></th>\n",
       "      <th></th>\n",
       "    </tr>\n",
       "  </thead>\n",
       "  <tbody>\n",
       "    <tr>\n",
       "      <th>November</th>\n",
       "      <td>11.30</td>\n",
       "      <td>15.14</td>\n",
       "      <td>11.92</td>\n",
       "    </tr>\n",
       "  </tbody>\n",
       "</table>\n",
       "</div>"
      ],
      "text/plain": [
       "                     total_amount            \n",
       "                           median  mean   std\n",
       "tpep_pickup_datetime                         \n",
       "November                    11.30 15.14 11.92"
      ]
     },
     "execution_count": 18,
     "metadata": {},
     "output_type": "execute_result"
    }
   ],
   "source": [
    "election.groupby(election.tpep_pickup_datetime.dt.month_name()).agg({'total_amount':['median','mean','std']})"
   ]
  },
  {
   "cell_type": "markdown",
   "id": "adcea467-bb2f-4503-b813-31ea6d7fca69",
   "metadata": {},
   "source": [
    "#### **Conclusion:** \n",
    "##### **Las elecciones presidenciales del 2016, se realizaron en el mes de NOVIEMBRE, y vemos resultados de ese dia inferiores a la mediana y media de ese mes, con lo que podriamos concluir que la misma afecto NEGATIVAMENTE a los viajes en taxi**"
   ]
  },
  {
   "cell_type": "markdown",
   "id": "8be0e5f7-c127-4d14-abeb-cedb71e08e67",
   "metadata": {},
   "source": [
    "# ¿Cuales son las horas de mayor demanda de taxis?"
   ]
  },
  {
   "cell_type": "code",
   "execution_count": 19,
   "id": "835d70fc-d2d8-4658-9c1c-6dde305062ce",
   "metadata": {},
   "outputs": [],
   "source": [
    "# Agrupamos por hora del dia, y contamos la cantidad de viajes realizados en distintos horarios del dia.\n",
    "\n",
    "hora_pico_df = df.groupby(df.tpep_pickup_datetime.dt.hour).agg({'VendorID':'count'})"
   ]
  },
  {
   "cell_type": "code",
   "execution_count": 20,
   "id": "f8c8aa4c-39f7-4ce6-8c7b-86f902be9292",
   "metadata": {},
   "outputs": [
    {
     "data": {
      "image/png": "[encoded data removed]",
      "text/plain": [
       "<Figure size 1152x576 with 1 Axes>"
      ]
     },
     "metadata": {},
     "output_type": "display_data"
    }
   ],
   "source": [
    "# Graficamos las horas del dia en funcion de la cantidad de viajes realizados, \n",
    "# para todos los dias de la semana(Laborables y No Laborables).\n",
    "\n",
    "plt.figure(figsize=(16,8))\n",
    "\n",
    "plt.title('HORAS PICO(DIAS DE SEMANA Y FINES DE SEMANA)')\n",
    "sns.barplot(data = hora_pico_df, x=hora_pico_df.index, y='VendorID', palette='dark')\n",
    "plt.xlabel('HORA DEL DIA')\n",
    "plt.ylabel('CANTIDAD DE VIAJES')\n",
    "plt.show()\n"
   ]
  },
  {
   "cell_type": "markdown",
   "id": "59fbebf5-5c17-4caf-b2ef-bb196410f80d",
   "metadata": {},
   "source": [
    "**Podemos observar que las horas de mas demanda de taxi son entre las 18h y las 22h, probablemente por la gente que toma un taxi a la salida de su trabajo**"
   ]
  },
  {
   "cell_type": "code",
   "execution_count": 21,
   "id": "57590f3a-5e68-42ff-b517-22d8280cc18c",
   "metadata": {},
   "outputs": [
    {
     "data": {
      "image/png": "[encoded data removed]",
      "text/plain": [
       "<Figure size 1800x576 with 2 Axes>"
      ]
     },
     "metadata": {},
     "output_type": "display_data"
    }
   ],
   "source": [
    "# Graficamos las horas del dia, en funcion de la cantidad de viajes realizados, pero separamos\n",
    "# en distribucion de dias laborables por un lado y dias no laborables por otro.\n",
    "\n",
    "fig,axes = plt.subplots(1,2, figsize=(25,8))\n",
    "\n",
    "\n",
    "hora_pico_laborable_df = df[df.dia_laborable].groupby(df.tpep_pickup_datetime.dt.hour).agg({'VendorID':'count'})\n",
    "\n",
    "\n",
    "sns.barplot(data = hora_pico_laborable_df, x=hora_pico_laborable_df.index, y='VendorID', palette='dark', ax=axes[0])\n",
    "axes[0].set_title('HORAS PICO EN DIAS LABORABLES')\n",
    "axes[0].set_xlabel('HORA DEL DIA')\n",
    "axes[0].set_ylabel('CANTIDAD DE VIAJES')\n",
    "\n",
    "\n",
    "\n",
    "\n",
    "hora_pico_no_laborable_df = df[~df.dia_laborable].groupby(df.tpep_pickup_datetime.dt.hour).agg({'VendorID':'count'})\n",
    "\n",
    "sns.barplot(data = hora_pico_no_laborable_df, x=hora_pico_no_laborable_df.index, y='VendorID', palette='dark', ax=axes[1])\n",
    "axes[1].set_xlabel('HORA DEL DIA')\n",
    "axes[1].set_ylabel('CANTIDAD DE VIAJES')\n",
    "axes[1].set_title('HORAS PICO EN FINES DE SEMANA');"
   ]
  },
  {
   "cell_type": "markdown",
   "id": "0b92cc54-34a9-4148-9ed9-b16f853dcf38",
   "metadata": {},
   "source": [
    "#### **Conclusion:** \n",
    "##### Podemos concluir entonces, que las horas de mayor demanda en los `dias de semana`, son entre las 18 y las 22h, y hay un incremento entre las 7 y 8am.\n",
    "##### Respecto a los `fines de semana`, el pico se origina entre las 00 y la 01h de la madrugada, y se ve otro pico entre las 18 y 19h"
   ]
  },
  {
   "cell_type": "markdown",
   "id": "4666b9ea-6b4d-4b53-8acb-5171147e1be6",
   "metadata": {
    "tags": []
   },
   "source": [
    "# TRABAJEMOS CON LOS DATOS DEL CLIMA"
   ]
  },
  {
   "cell_type": "markdown",
   "id": "acaf125a-a68e-4657-872a-b039eada8543",
   "metadata": {},
   "source": [
    "## El dataset Weather, contiene las siguientes variables:\n",
    "\n",
    "datetime: Fecha y hora del día (EST)\n",
    "\n",
    "tempm: Temperatura en Celsius\n",
    "\n",
    "tempi: Temperatura en Fahrenheit\n",
    "\n",
    "dewptm: Punto de rocío en Celsius\n",
    "\n",
    "dewpti: punto de rocío en Fahrenheit\n",
    "\n",
    "zumbido: % de humedad\n",
    "\n",
    "wspdm: Velocidad del viento en km/h\n",
    "\n",
    "wspdi: Velocidad del viento en mph\n",
    "\n",
    "wgustm: Ráfaga de viento en km/h\n",
    "\n",
    "wgusti: Ráfaga de viento en mph\n",
    "\n",
    "wdird: dirección del viento en grados\n",
    "\n",
    "wdire: descripción de la dirección del viento\n",
    "\n",
    "vism: Vivibilidad en Km\n",
    "\n",
    "visi: Visibilidad en millas\n",
    "\n",
    "presiónm: Presión en mBar\n",
    "\n",
    "pressurei: Presión en inHg\n",
    "\n",
    "windchillm: sensación térmica en Celcius\n",
    "\n",
    "windchilli: sensación térmica en Fahrenheit\n",
    "\n",
    "heatindexm: índice de calor Celcius\n",
    "\n",
    "heatindexi: índice de calor Fahrenheit\n",
    "\n",
    "precipm: Precipitación en mm\n",
    "\n",
    "precipi: Precipitación en pulgadas\n",
    "\n",
    "conds: Condiciones: Ver lista completa de condiciones\n",
    "\n",
    "niebla: booleano\n",
    "\n",
    "lluvia: booleano\n",
    "\n",
    "nieve: booleano\n",
    "\n",
    "granizo: booleano\n",
    "\n",
    "trueno: booleano\n",
    "\n",
    "tornado: booleano"
   ]
  },
  {
   "cell_type": "code",
   "execution_count": 22,
   "id": "fbcdc6d1-4262-48fb-af4a-1dba96708c4b",
   "metadata": {},
   "outputs": [
    {
     "ename": "FileNotFoundError",
     "evalue": "[Errno 2] No such file or directory: 'weather.csv'",
     "output_type": "error",
     "traceback": [
      "\u001b[0;31m---------------------------------------------------------------------------\u001b[0m",
      "\u001b[0;31mFileNotFoundError\u001b[0m                         Traceback (most recent call last)",
      "Input \u001b[0;32mIn [22]\u001b[0m, in \u001b[0;36m<cell line: 1>\u001b[0;34m()\u001b[0m\n\u001b[0;32m----> 1\u001b[0m weather \u001b[38;5;241m=\u001b[39m \u001b[43mpd\u001b[49m\u001b[38;5;241;43m.\u001b[39;49m\u001b[43mread_csv\u001b[49m\u001b[43m(\u001b[49m\u001b[38;5;124;43m'\u001b[39;49m\u001b[38;5;124;43mweather.csv\u001b[39;49m\u001b[38;5;124;43m'\u001b[39;49m\u001b[43m,\u001b[49m\u001b[43m \u001b[49m\u001b[43mparse_dates\u001b[49m\u001b[38;5;241;43m=\u001b[39;49m\u001b[43m[\u001b[49m\u001b[38;5;124;43m'\u001b[39;49m\u001b[38;5;124;43mpickup_datetime\u001b[39;49m\u001b[38;5;124;43m'\u001b[39;49m\u001b[43m]\u001b[49m\u001b[43m)\u001b[49m\n\u001b[1;32m      2\u001b[0m weather\u001b[38;5;241m.\u001b[39mhead(\u001b[38;5;241m3\u001b[39m)\n",
      "File \u001b[0;32m~/opt/anaconda3/envs/UDESA/lib/python3.8/site-packages/pandas/util/_decorators.py:311\u001b[0m, in \u001b[0;36mdeprecate_nonkeyword_arguments.<locals>.decorate.<locals>.wrapper\u001b[0;34m(*args, **kwargs)\u001b[0m\n\u001b[1;32m    305\u001b[0m \u001b[38;5;28;01mif\u001b[39;00m \u001b[38;5;28mlen\u001b[39m(args) \u001b[38;5;241m>\u001b[39m num_allow_args:\n\u001b[1;32m    306\u001b[0m     warnings\u001b[38;5;241m.\u001b[39mwarn(\n\u001b[1;32m    307\u001b[0m         msg\u001b[38;5;241m.\u001b[39mformat(arguments\u001b[38;5;241m=\u001b[39marguments),\n\u001b[1;32m    308\u001b[0m         \u001b[38;5;167;01mFutureWarning\u001b[39;00m,\n\u001b[1;32m    309\u001b[0m         stacklevel\u001b[38;5;241m=\u001b[39mstacklevel,\n\u001b[1;32m    310\u001b[0m     )\n\u001b[0;32m--> 311\u001b[0m \u001b[38;5;28;01mreturn\u001b[39;00m \u001b[43mfunc\u001b[49m\u001b[43m(\u001b[49m\u001b[38;5;241;43m*\u001b[39;49m\u001b[43margs\u001b[49m\u001b[43m,\u001b[49m\u001b[43m \u001b[49m\u001b[38;5;241;43m*\u001b[39;49m\u001b[38;5;241;43m*\u001b[39;49m\u001b[43mkwargs\u001b[49m\u001b[43m)\u001b[49m\n",
      "File \u001b[0;32m~/opt/anaconda3/envs/UDESA/lib/python3.8/site-packages/pandas/io/parsers/readers.py:680\u001b[0m, in \u001b[0;36mread_csv\u001b[0;34m(filepath_or_buffer, sep, delimiter, header, names, index_col, usecols, squeeze, prefix, mangle_dupe_cols, dtype, engine, converters, true_values, false_values, skipinitialspace, skiprows, skipfooter, nrows, na_values, keep_default_na, na_filter, verbose, skip_blank_lines, parse_dates, infer_datetime_format, keep_date_col, date_parser, dayfirst, cache_dates, iterator, chunksize, compression, thousands, decimal, lineterminator, quotechar, quoting, doublequote, escapechar, comment, encoding, encoding_errors, dialect, error_bad_lines, warn_bad_lines, on_bad_lines, delim_whitespace, low_memory, memory_map, float_precision, storage_options)\u001b[0m\n\u001b[1;32m    665\u001b[0m kwds_defaults \u001b[38;5;241m=\u001b[39m _refine_defaults_read(\n\u001b[1;32m    666\u001b[0m     dialect,\n\u001b[1;32m    667\u001b[0m     delimiter,\n\u001b[0;32m   (...)\u001b[0m\n\u001b[1;32m    676\u001b[0m     defaults\u001b[38;5;241m=\u001b[39m{\u001b[38;5;124m\"\u001b[39m\u001b[38;5;124mdelimiter\u001b[39m\u001b[38;5;124m\"\u001b[39m: \u001b[38;5;124m\"\u001b[39m\u001b[38;5;124m,\u001b[39m\u001b[38;5;124m\"\u001b[39m},\n\u001b[1;32m    677\u001b[0m )\n\u001b[1;32m    678\u001b[0m kwds\u001b[38;5;241m.\u001b[39mupdate(kwds_defaults)\n\u001b[0;32m--> 680\u001b[0m \u001b[38;5;28;01mreturn\u001b[39;00m \u001b[43m_read\u001b[49m\u001b[43m(\u001b[49m\u001b[43mfilepath_or_buffer\u001b[49m\u001b[43m,\u001b[49m\u001b[43m \u001b[49m\u001b[43mkwds\u001b[49m\u001b[43m)\u001b[49m\n",
      "File \u001b[0;32m~/opt/anaconda3/envs/UDESA/lib/python3.8/site-packages/pandas/io/parsers/readers.py:575\u001b[0m, in \u001b[0;36m_read\u001b[0;34m(filepath_or_buffer, kwds)\u001b[0m\n\u001b[1;32m    572\u001b[0m _validate_names(kwds\u001b[38;5;241m.\u001b[39mget(\u001b[38;5;124m\"\u001b[39m\u001b[38;5;124mnames\u001b[39m\u001b[38;5;124m\"\u001b[39m, \u001b[38;5;28;01mNone\u001b[39;00m))\n\u001b[1;32m    574\u001b[0m \u001b[38;5;66;03m# Create the parser.\u001b[39;00m\n\u001b[0;32m--> 575\u001b[0m parser \u001b[38;5;241m=\u001b[39m \u001b[43mTextFileReader\u001b[49m\u001b[43m(\u001b[49m\u001b[43mfilepath_or_buffer\u001b[49m\u001b[43m,\u001b[49m\u001b[43m \u001b[49m\u001b[38;5;241;43m*\u001b[39;49m\u001b[38;5;241;43m*\u001b[39;49m\u001b[43mkwds\u001b[49m\u001b[43m)\u001b[49m\n\u001b[1;32m    577\u001b[0m \u001b[38;5;28;01mif\u001b[39;00m chunksize \u001b[38;5;129;01mor\u001b[39;00m iterator:\n\u001b[1;32m    578\u001b[0m     \u001b[38;5;28;01mreturn\u001b[39;00m parser\n",
      "File \u001b[0;32m~/opt/anaconda3/envs/UDESA/lib/python3.8/site-packages/pandas/io/parsers/readers.py:933\u001b[0m, in \u001b[0;36mTextFileReader.__init__\u001b[0;34m(self, f, engine, **kwds)\u001b[0m\n\u001b[1;32m    930\u001b[0m     \u001b[38;5;28mself\u001b[39m\u001b[38;5;241m.\u001b[39moptions[\u001b[38;5;124m\"\u001b[39m\u001b[38;5;124mhas_index_names\u001b[39m\u001b[38;5;124m\"\u001b[39m] \u001b[38;5;241m=\u001b[39m kwds[\u001b[38;5;124m\"\u001b[39m\u001b[38;5;124mhas_index_names\u001b[39m\u001b[38;5;124m\"\u001b[39m]\n\u001b[1;32m    932\u001b[0m \u001b[38;5;28mself\u001b[39m\u001b[38;5;241m.\u001b[39mhandles: IOHandles \u001b[38;5;241m|\u001b[39m \u001b[38;5;28;01mNone\u001b[39;00m \u001b[38;5;241m=\u001b[39m \u001b[38;5;28;01mNone\u001b[39;00m\n\u001b[0;32m--> 933\u001b[0m \u001b[38;5;28mself\u001b[39m\u001b[38;5;241m.\u001b[39m_engine \u001b[38;5;241m=\u001b[39m \u001b[38;5;28;43mself\u001b[39;49m\u001b[38;5;241;43m.\u001b[39;49m\u001b[43m_make_engine\u001b[49m\u001b[43m(\u001b[49m\u001b[43mf\u001b[49m\u001b[43m,\u001b[49m\u001b[43m \u001b[49m\u001b[38;5;28;43mself\u001b[39;49m\u001b[38;5;241;43m.\u001b[39;49m\u001b[43mengine\u001b[49m\u001b[43m)\u001b[49m\n",
      "File \u001b[0;32m~/opt/anaconda3/envs/UDESA/lib/python3.8/site-packages/pandas/io/parsers/readers.py:1217\u001b[0m, in \u001b[0;36mTextFileReader._make_engine\u001b[0;34m(self, f, engine)\u001b[0m\n\u001b[1;32m   1213\u001b[0m     mode \u001b[38;5;241m=\u001b[39m \u001b[38;5;124m\"\u001b[39m\u001b[38;5;124mrb\u001b[39m\u001b[38;5;124m\"\u001b[39m\n\u001b[1;32m   1214\u001b[0m \u001b[38;5;66;03m# error: No overload variant of \"get_handle\" matches argument types\u001b[39;00m\n\u001b[1;32m   1215\u001b[0m \u001b[38;5;66;03m# \"Union[str, PathLike[str], ReadCsvBuffer[bytes], ReadCsvBuffer[str]]\"\u001b[39;00m\n\u001b[1;32m   1216\u001b[0m \u001b[38;5;66;03m# , \"str\", \"bool\", \"Any\", \"Any\", \"Any\", \"Any\", \"Any\"\u001b[39;00m\n\u001b[0;32m-> 1217\u001b[0m \u001b[38;5;28mself\u001b[39m\u001b[38;5;241m.\u001b[39mhandles \u001b[38;5;241m=\u001b[39m \u001b[43mget_handle\u001b[49m\u001b[43m(\u001b[49m\u001b[43m  \u001b[49m\u001b[38;5;66;43;03m# type: ignore[call-overload]\u001b[39;49;00m\n\u001b[1;32m   1218\u001b[0m \u001b[43m    \u001b[49m\u001b[43mf\u001b[49m\u001b[43m,\u001b[49m\n\u001b[1;32m   1219\u001b[0m \u001b[43m    \u001b[49m\u001b[43mmode\u001b[49m\u001b[43m,\u001b[49m\n\u001b[1;32m   1220\u001b[0m \u001b[43m    \u001b[49m\u001b[43mencoding\u001b[49m\u001b[38;5;241;43m=\u001b[39;49m\u001b[38;5;28;43mself\u001b[39;49m\u001b[38;5;241;43m.\u001b[39;49m\u001b[43moptions\u001b[49m\u001b[38;5;241;43m.\u001b[39;49m\u001b[43mget\u001b[49m\u001b[43m(\u001b[49m\u001b[38;5;124;43m\"\u001b[39;49m\u001b[38;5;124;43mencoding\u001b[39;49m\u001b[38;5;124;43m\"\u001b[39;49m\u001b[43m,\u001b[49m\u001b[43m \u001b[49m\u001b[38;5;28;43;01mNone\u001b[39;49;00m\u001b[43m)\u001b[49m\u001b[43m,\u001b[49m\n\u001b[1;32m   1221\u001b[0m \u001b[43m    \u001b[49m\u001b[43mcompression\u001b[49m\u001b[38;5;241;43m=\u001b[39;49m\u001b[38;5;28;43mself\u001b[39;49m\u001b[38;5;241;43m.\u001b[39;49m\u001b[43moptions\u001b[49m\u001b[38;5;241;43m.\u001b[39;49m\u001b[43mget\u001b[49m\u001b[43m(\u001b[49m\u001b[38;5;124;43m\"\u001b[39;49m\u001b[38;5;124;43mcompression\u001b[39;49m\u001b[38;5;124;43m\"\u001b[39;49m\u001b[43m,\u001b[49m\u001b[43m \u001b[49m\u001b[38;5;28;43;01mNone\u001b[39;49;00m\u001b[43m)\u001b[49m\u001b[43m,\u001b[49m\n\u001b[1;32m   1222\u001b[0m \u001b[43m    \u001b[49m\u001b[43mmemory_map\u001b[49m\u001b[38;5;241;43m=\u001b[39;49m\u001b[38;5;28;43mself\u001b[39;49m\u001b[38;5;241;43m.\u001b[39;49m\u001b[43moptions\u001b[49m\u001b[38;5;241;43m.\u001b[39;49m\u001b[43mget\u001b[49m\u001b[43m(\u001b[49m\u001b[38;5;124;43m\"\u001b[39;49m\u001b[38;5;124;43mmemory_map\u001b[39;49m\u001b[38;5;124;43m\"\u001b[39;49m\u001b[43m,\u001b[49m\u001b[43m \u001b[49m\u001b[38;5;28;43;01mFalse\u001b[39;49;00m\u001b[43m)\u001b[49m\u001b[43m,\u001b[49m\n\u001b[1;32m   1223\u001b[0m \u001b[43m    \u001b[49m\u001b[43mis_text\u001b[49m\u001b[38;5;241;43m=\u001b[39;49m\u001b[43mis_text\u001b[49m\u001b[43m,\u001b[49m\n\u001b[1;32m   1224\u001b[0m \u001b[43m    \u001b[49m\u001b[43merrors\u001b[49m\u001b[38;5;241;43m=\u001b[39;49m\u001b[38;5;28;43mself\u001b[39;49m\u001b[38;5;241;43m.\u001b[39;49m\u001b[43moptions\u001b[49m\u001b[38;5;241;43m.\u001b[39;49m\u001b[43mget\u001b[49m\u001b[43m(\u001b[49m\u001b[38;5;124;43m\"\u001b[39;49m\u001b[38;5;124;43mencoding_errors\u001b[39;49m\u001b[38;5;124;43m\"\u001b[39;49m\u001b[43m,\u001b[49m\u001b[43m \u001b[49m\u001b[38;5;124;43m\"\u001b[39;49m\u001b[38;5;124;43mstrict\u001b[39;49m\u001b[38;5;124;43m\"\u001b[39;49m\u001b[43m)\u001b[49m\u001b[43m,\u001b[49m\n\u001b[1;32m   1225\u001b[0m \u001b[43m    \u001b[49m\u001b[43mstorage_options\u001b[49m\u001b[38;5;241;43m=\u001b[39;49m\u001b[38;5;28;43mself\u001b[39;49m\u001b[38;5;241;43m.\u001b[39;49m\u001b[43moptions\u001b[49m\u001b[38;5;241;43m.\u001b[39;49m\u001b[43mget\u001b[49m\u001b[43m(\u001b[49m\u001b[38;5;124;43m\"\u001b[39;49m\u001b[38;5;124;43mstorage_options\u001b[39;49m\u001b[38;5;124;43m\"\u001b[39;49m\u001b[43m,\u001b[49m\u001b[43m \u001b[49m\u001b[38;5;28;43;01mNone\u001b[39;49;00m\u001b[43m)\u001b[49m\u001b[43m,\u001b[49m\n\u001b[1;32m   1226\u001b[0m \u001b[43m\u001b[49m\u001b[43m)\u001b[49m\n\u001b[1;32m   1227\u001b[0m \u001b[38;5;28;01massert\u001b[39;00m \u001b[38;5;28mself\u001b[39m\u001b[38;5;241m.\u001b[39mhandles \u001b[38;5;129;01mis\u001b[39;00m \u001b[38;5;129;01mnot\u001b[39;00m \u001b[38;5;28;01mNone\u001b[39;00m\n\u001b[1;32m   1228\u001b[0m f \u001b[38;5;241m=\u001b[39m \u001b[38;5;28mself\u001b[39m\u001b[38;5;241m.\u001b[39mhandles\u001b[38;5;241m.\u001b[39mhandle\n",
      "File \u001b[0;32m~/opt/anaconda3/envs/UDESA/lib/python3.8/site-packages/pandas/io/common.py:789\u001b[0m, in \u001b[0;36mget_handle\u001b[0;34m(path_or_buf, mode, encoding, compression, memory_map, is_text, errors, storage_options)\u001b[0m\n\u001b[1;32m    784\u001b[0m \u001b[38;5;28;01melif\u001b[39;00m \u001b[38;5;28misinstance\u001b[39m(handle, \u001b[38;5;28mstr\u001b[39m):\n\u001b[1;32m    785\u001b[0m     \u001b[38;5;66;03m# Check whether the filename is to be opened in binary mode.\u001b[39;00m\n\u001b[1;32m    786\u001b[0m     \u001b[38;5;66;03m# Binary mode does not support 'encoding' and 'newline'.\u001b[39;00m\n\u001b[1;32m    787\u001b[0m     \u001b[38;5;28;01mif\u001b[39;00m ioargs\u001b[38;5;241m.\u001b[39mencoding \u001b[38;5;129;01mand\u001b[39;00m \u001b[38;5;124m\"\u001b[39m\u001b[38;5;124mb\u001b[39m\u001b[38;5;124m\"\u001b[39m \u001b[38;5;129;01mnot\u001b[39;00m \u001b[38;5;129;01min\u001b[39;00m ioargs\u001b[38;5;241m.\u001b[39mmode:\n\u001b[1;32m    788\u001b[0m         \u001b[38;5;66;03m# Encoding\u001b[39;00m\n\u001b[0;32m--> 789\u001b[0m         handle \u001b[38;5;241m=\u001b[39m \u001b[38;5;28;43mopen\u001b[39;49m\u001b[43m(\u001b[49m\n\u001b[1;32m    790\u001b[0m \u001b[43m            \u001b[49m\u001b[43mhandle\u001b[49m\u001b[43m,\u001b[49m\n\u001b[1;32m    791\u001b[0m \u001b[43m            \u001b[49m\u001b[43mioargs\u001b[49m\u001b[38;5;241;43m.\u001b[39;49m\u001b[43mmode\u001b[49m\u001b[43m,\u001b[49m\n\u001b[1;32m    792\u001b[0m \u001b[43m            \u001b[49m\u001b[43mencoding\u001b[49m\u001b[38;5;241;43m=\u001b[39;49m\u001b[43mioargs\u001b[49m\u001b[38;5;241;43m.\u001b[39;49m\u001b[43mencoding\u001b[49m\u001b[43m,\u001b[49m\n\u001b[1;32m    793\u001b[0m \u001b[43m            \u001b[49m\u001b[43merrors\u001b[49m\u001b[38;5;241;43m=\u001b[39;49m\u001b[43merrors\u001b[49m\u001b[43m,\u001b[49m\n\u001b[1;32m    794\u001b[0m \u001b[43m            \u001b[49m\u001b[43mnewline\u001b[49m\u001b[38;5;241;43m=\u001b[39;49m\u001b[38;5;124;43m\"\u001b[39;49m\u001b[38;5;124;43m\"\u001b[39;49m\u001b[43m,\u001b[49m\n\u001b[1;32m    795\u001b[0m \u001b[43m        \u001b[49m\u001b[43m)\u001b[49m\n\u001b[1;32m    796\u001b[0m     \u001b[38;5;28;01melse\u001b[39;00m:\n\u001b[1;32m    797\u001b[0m         \u001b[38;5;66;03m# Binary mode\u001b[39;00m\n\u001b[1;32m    798\u001b[0m         handle \u001b[38;5;241m=\u001b[39m \u001b[38;5;28mopen\u001b[39m(handle, ioargs\u001b[38;5;241m.\u001b[39mmode)\n",
      "\u001b[0;31mFileNotFoundError\u001b[0m: [Errno 2] No such file or directory: 'weather.csv'"
     ]
    }
   ],
   "source": [
    "weather = pd.read_csv('weather.csv', parse_dates=['pickup_datetime'])\n",
    "weather.head(3)"
   ]
  },
  {
   "cell_type": "code",
   "execution_count": null,
   "id": "2d61de46-9f90-4790-b294-5eaaefa50933",
   "metadata": {},
   "outputs": [],
   "source": [
    "weather.shape"
   ]
  },
  {
   "cell_type": "code",
   "execution_count": null,
   "id": "3c6b08c9-3018-4723-a789-15fb41aa4736",
   "metadata": {},
   "outputs": [],
   "source": [
    "weather.info()"
   ]
  },
  {
   "cell_type": "code",
   "execution_count": null,
   "id": "d6a6eadf-782d-4710-a450-65c2d287d674",
   "metadata": {},
   "outputs": [],
   "source": [
    "# Reparacion del dataset weather\n",
    "# Utilizamos una solucion que propuso un usuario de kaggle a un error que tenia este dataset\n",
    "# https://www.kaggle.com/code/srcole/original-datetime-is-broken-month-and-day-mixed/notebook\n",
    "\n",
    "# Switch month and day when day is less than 12\n",
    "weather['date'] = pd.to_datetime(weather['pickup_datetime'])\n",
    "weather['month'] = weather['date'].dt.month\n",
    "weather['year'] = weather['date'].dt.year\n",
    "weather['day'] = weather['date'].dt.day\n",
    "weather['hour'] = weather['date'].dt.hour\n",
    "weather['minute'] = weather['date'].dt.minute\n",
    "\n",
    "def compute_right_day(row):\n",
    "    if row['day'] <= 12:\n",
    "        return row['month']\n",
    "    else:\n",
    "        return row['day']\n",
    "\n",
    "def compute_right_month(row):\n",
    "    if row['day'] <= 12:\n",
    "        return row['day']\n",
    "    else:\n",
    "        return row['month']\n",
    "\n",
    "def compute_right_date(row):\n",
    "    return '{:d}-{:d}-{:d} {:d}:{:d}'.format(row['year'], row['new_month'], row['new_day'],\n",
    "                                             row['hour'], row['minute'])\n",
    "\n",
    "weather['new_day'] = weather.apply(compute_right_day, axis=1)\n",
    "weather['new_month'] = weather.apply(compute_right_month, axis=1)\n",
    "weather['new_date_str'] = weather.apply(compute_right_date, axis=1)\n",
    "weather['date'] = pd.to_datetime(weather['new_date_str'])\n",
    "weather = weather[['date', 'tempm','rain','snow']]\n",
    "# weather.set_index('date', inplace=True)\n",
    "weather.sort_index(inplace=True)"
   ]
  },
  {
   "cell_type": "code",
   "execution_count": null,
   "id": "e16dfeab-74c0-44a3-84ff-195abade30f3",
   "metadata": {},
   "outputs": [],
   "source": [
    "weather.head()"
   ]
  },
  {
   "cell_type": "code",
   "execution_count": null,
   "id": "74812920-dc18-404f-9dc0-fb6cd3ea7e1c",
   "metadata": {},
   "outputs": [],
   "source": [
    "weather.info()"
   ]
  },
  {
   "cell_type": "code",
   "execution_count": null,
   "id": "3d1dd03c-f324-41dd-994a-e4b936a45114",
   "metadata": {},
   "outputs": [],
   "source": [
    "# vamos a filtrar solo el año 2016, que es lo que nos interesa.\n",
    "\n",
    "weather = weather[weather['date'].dt.year==2016].reset_index(drop=True)"
   ]
  },
  {
   "cell_type": "code",
   "execution_count": null,
   "id": "59d24d59-2f49-4c9a-9e51-17bb3efc6508",
   "metadata": {},
   "outputs": [],
   "source": [
    "weather.head()"
   ]
  },
  {
   "cell_type": "code",
   "execution_count": null,
   "id": "5d663e51-65df-41e9-a6f8-7a680d803053",
   "metadata": {},
   "outputs": [],
   "source": [
    "# Vamos a crear nuevas columnas en el dataset, que posteriormente nos ayudaran a unir\n",
    "# las fechas con nuestro dataset de taxis.\n",
    "\n",
    "weather['fecha_sin_hora']=weather.date.apply(lambda x: str(x).split(' ')[0])\n",
    "weather['dia']=weather.fecha_sin_hora.apply(lambda x: str(x).split('-')[2])\n",
    "weather['mes']=weather.fecha_sin_hora.apply(lambda x: str(x).split('-')[1])"
   ]
  },
  {
   "cell_type": "code",
   "execution_count": null,
   "id": "a96e4b37-b01b-4a8c-86c5-afdd1832105f",
   "metadata": {},
   "outputs": [],
   "source": [
    "# Me creo una lista con los dias que llovio y nevo en NYC, para dsp trackearlos en mi dataframe \"df\"\n",
    "\n",
    "dias_nieve_list=weather[weather.snow ==1]['fecha_sin_hora'].to_list()\n",
    "dias_lluvia_list=weather[weather.rain ==1]['fecha_sin_hora'].to_list()"
   ]
  },
  {
   "cell_type": "code",
   "execution_count": null,
   "id": "a9d5ad9c-2bea-4964-b325-c311fbfc9ca8",
   "metadata": {
    "tags": []
   },
   "outputs": [],
   "source": [
    "df['pickup_sin_hora'] = df.tpep_pickup_datetime.apply(lambda x: str(x).split(' ')[0])"
   ]
  },
  {
   "cell_type": "code",
   "execution_count": null,
   "id": "8a10d543-4dc8-446a-8e1f-f5297ec90f63",
   "metadata": {},
   "outputs": [],
   "source": [
    "def llueve(dia):\n",
    "    '''Funcion que pone True si ese dia se registro lluvia en NY,\n",
    "    a partir de una lista generada con el dataset weather'''\n",
    "    for llueve in dias_lluvia_list:\n",
    "        if dia == llueve:\n",
    "            return True\n",
    "        else:\n",
    "            return False\n",
    "        \n",
    "def nevar(dia):\n",
    "    '''Funcion que pone True si ese dia se registro nieve en NY,\n",
    "    a partir de una lista generada con el dataset weather'''\n",
    "    for nieva in dias_nieve_list:\n",
    "        if dia == nieva:\n",
    "            return True\n",
    "        else:\n",
    "            return False\n",
    "    \n",
    "    \n",
    "    \n",
    "df['lluvia']= df.pickup_sin_hora.apply(lambda x:llueve(x))\n",
    "df['nieva']= df.pickup_sin_hora.apply(lambda x:nevar(x))\n"
   ]
  },
  {
   "cell_type": "markdown",
   "id": "814a3854-bb4e-4bc1-99e9-f78a1afe3585",
   "metadata": {},
   "source": [
    "## Como afectaron los dias lluviosos a los taxis?"
   ]
  },
  {
   "cell_type": "code",
   "execution_count": null,
   "id": "cf979d2a-c74f-4819-af6c-e82539220ae2",
   "metadata": {},
   "outputs": [],
   "source": [
    "df.groupby(['lluvia']).agg({'total_amount':['mean','std'],\n",
    "                                   'trip_distance':['mean','std'],\n",
    "                                   'passenger_count':['mean','std'],\n",
    "                                   'VendorID':['count']})\n"
   ]
  },
  {
   "cell_type": "markdown",
   "id": "9c72b971-e4ba-4023-9534-8cab3878a445",
   "metadata": {},
   "source": [
    "#### **Conclusion:** \n",
    "##### Los dias de lluvia, no modifican en gran medida el uso de los taxis amarillos.\n"
   ]
  },
  {
   "cell_type": "markdown",
   "id": "e37fa622-0a58-43d6-9226-9dd25f01f8d8",
   "metadata": {},
   "source": [
    "## Como afecto la nieve a los taxis?"
   ]
  },
  {
   "cell_type": "code",
   "execution_count": null,
   "id": "6a432e31-975f-4a9a-9959-a181abe9ce28",
   "metadata": {},
   "outputs": [],
   "source": [
    "df.groupby(['nieva']).agg({'total_amount':['mean','std'],\n",
    "                                   'trip_distance':['mean','std'],\n",
    "                                   'passenger_count':['mean','std']})"
   ]
  },
  {
   "cell_type": "markdown",
   "id": "4f42ec53-b15f-4f14-be83-4898aa539c24",
   "metadata": {},
   "source": [
    "#### **Conclusion:** \n",
    "##### Los dias que nevo, se observa una facturacion promedio inferior a los demas dias. Por lo que la nieve afecta NEGATIVAMENTE al rubro"
   ]
  },
  {
   "cell_type": "code",
   "execution_count": null,
   "id": "23024f09-03a7-405c-b93b-3ecd7dd1570c",
   "metadata": {},
   "outputs": [],
   "source": [
    "# Debido a que tenemos varias temperaturas en distintos horarios para el mismo dia\n",
    "# vamos a obtener la mediana de la temperatura por dia y mes del año, y luego lo vamos a mergear al dataframe de taxis.\n",
    "\n",
    "temp_df = weather.groupby(['mes','dia']).agg({'tempm':'median'})\n",
    "temp_df = temp_df.reset_index()\n",
    "\n",
    "# Creamos una columna nueva en el dataset de weather para utilizarla para mergear\n",
    "temp_df['mes-dia']=temp_df['mes']+temp_df['dia']\n",
    "# temp_df\n",
    "\n",
    "# Creamos una columna nueva en el dataset de taxis para utilizarla para mergear\n",
    "df['mes-dia']=df.pickup_sin_hora.apply(lambda x: x.split('-')[1]+x.split('-')[2])\n"
   ]
  },
  {
   "cell_type": "code",
   "execution_count": null,
   "id": "a54f0dd5-6472-48a5-b0c1-9c80857362df",
   "metadata": {},
   "outputs": [],
   "source": [
    "df = df.merge(temp_df, on='mes-dia')\n",
    "df = df.drop(['mes-dia'], axis=1) # droppeamos la columna de mergeo, ya que no la utilizamos mas\n",
    "df.head()"
   ]
  },
  {
   "cell_type": "code",
   "execution_count": null,
   "id": "66ae5491-4e80-4632-9560-4e1ae378e11c",
   "metadata": {},
   "outputs": [],
   "source": [
    "df.groupby('season').agg({'total_amount':'mean',\n",
    "                          'tempm':['median'],\n",
    "                          'tempm':['count','median']}).sort_values(('tempm','count')\n",
    "                                                                   , ascending = False)"
   ]
  },
  {
   "cell_type": "markdown",
   "id": "7905efdc-3cd6-45a1-9cd9-92a892a692d6",
   "metadata": {},
   "source": [
    "Observamos si hay alguna correlacion entre la temperatura del dia y la forma de uso del taxi\n"
   ]
  },
  {
   "cell_type": "code",
   "execution_count": null,
   "id": "db9d33c8-f8a3-4e91-bc4e-f39c15abed98",
   "metadata": {
    "tags": []
   },
   "outputs": [],
   "source": [
    "corelaciones_con_temp_df = df.corr(method='spearman')['tempm'].drop('tempm').sort_values().to_frame()\n",
    "corelaciones_con_temp_df"
   ]
  },
  {
   "cell_type": "code",
   "execution_count": null,
   "id": "b5005c2e-c592-4d2f-a4b5-3dd05fe1273c",
   "metadata": {},
   "outputs": [],
   "source": [
    "# Observamos valores realmente muy bajos, salvo con \"INTRAZONE_TRIP\"\n",
    "\n",
    "corr_temp_df=abs(df.corr(method='spearman')['tempm'].drop('tempm')).sort_values(ascending=False)[:5]\n",
    "\n",
    "plt.figure(figsize=(20,8))\n",
    "sns.barplot(data=corr_temp_df, x=corr_temp_df.index, y=corr_temp_df)\n",
    "plt.title('CORRELACION ABSOLUTA ENTRE LA MEDIANA DIARIA DE TEMPERATURA Y EL RESTO DE LAS VARIABLES')\n",
    "plt.ylabel('GRADO DE CORRELACION ABSOLUTA')\n",
    "plt.xticks(np.linspace(0,4,5),labels=list(corr_temp_df.index.values)[::-1]);"
   ]
  },
  {
   "cell_type": "markdown",
   "id": "0712f1d2-3621-4df7-afa0-01c0c88e1194",
   "metadata": {},
   "source": [
    "No observamos una gran correlacion entre la temperatura y alguna de las variables del dataset, salvo con INTRAZONE_TRIP, que posee una correlacion de spearman **negativa** del orden del 18% (al aumentar la temperatura, disminuyen la cantidad de viajes que son en la misma zona), pero no podemos asegurar que tenga una correlacion con la distancia del viaje, debido a los valores bajos de correlacion con ésta ultima."
   ]
  }
 ],
 "metadata": {
  "kernelspec": {
   "display_name": "Python 3 (ipykernel)",
   "language": "python",
   "name": "python3"
  },
  "language_info": {
   "codemirror_mode": {
    "name": "ipython",
    "version": 3
   },
   "file_extension": ".py",
   "mimetype": "text/x-python",
   "name": "python",
   "nbconvert_exporter": "python",
   "pygments_lexer": "ipython3",
   "version": "3.8.8"
  }
 },
 "nbformat": 4,
 "nbformat_minor": 5
}
