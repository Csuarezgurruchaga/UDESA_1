{
  "nbformat": 4,
  "nbformat_minor": 0,
  "metadata": {
    "colab": {
      "name": "Códigos adicionales de distancia.ipynb",
      "provenance": []
    },
    "kernelspec": {
      "name": "python3",
      "display_name": "Python 3"
    },
    "language_info": {
      "name": "python"
    }
  },
  "cells": [
    {
      "cell_type": "code",
      "execution_count": 1,
      "metadata": {
        "id": "JUL68JZnGw6z",
        "outputId": "3c5aa0ad-778f-4f64-d02e-c110a327f4b7",
        "colab": {
          "base_uri": "https://localhost:8080/",
          "height": 240
        }
      },
      "outputs": [
        {
          "output_type": "error",
          "ename": "FileNotFoundError",
          "evalue": "ignored",
          "traceback": [
            "\u001b[0;31m---------------------------------------------------------------------------\u001b[0m",
            "\u001b[0;31mFileNotFoundError\u001b[0m                         Traceback (most recent call last)",
            "\u001b[0;32m<ipython-input-1-0c2084229f0b>\u001b[0m in \u001b[0;36m<module>\u001b[0;34m()\u001b[0m\n\u001b[1;32m      1\u001b[0m \u001b[0;31m#Primero quise descargar el pickle\u001b[0m\u001b[0;34m\u001b[0m\u001b[0;34m\u001b[0m\u001b[0;34m\u001b[0m\u001b[0m\n\u001b[1;32m      2\u001b[0m \u001b[0;34m\u001b[0m\u001b[0m\n\u001b[0;32m----> 3\u001b[0;31m \u001b[0mf\u001b[0m\u001b[0;34m=\u001b[0m\u001b[0mopen\u001b[0m\u001b[0;34m(\u001b[0m\u001b[0;34m'NYC_processed.pkl'\u001b[0m\u001b[0;34m,\u001b[0m\u001b[0;34m'rb'\u001b[0m\u001b[0;34m)\u001b[0m\u001b[0;34m\u001b[0m\u001b[0;34m\u001b[0m\u001b[0m\n\u001b[0m\u001b[1;32m      4\u001b[0m \u001b[0mdata2\u001b[0m \u001b[0;34m=\u001b[0m \u001b[0mpkl\u001b[0m\u001b[0;34m.\u001b[0m\u001b[0mload\u001b[0m\u001b[0;34m(\u001b[0m\u001b[0mf\u001b[0m\u001b[0;34m)\u001b[0m\u001b[0;34m\u001b[0m\u001b[0;34m\u001b[0m\u001b[0m\n\u001b[1;32m      5\u001b[0m \u001b[0mprint\u001b[0m\u001b[0;34m(\u001b[0m\u001b[0mdata2\u001b[0m\u001b[0;34m)\u001b[0m\u001b[0;34m\u001b[0m\u001b[0;34m\u001b[0m\u001b[0m\n",
            "\u001b[0;31mFileNotFoundError\u001b[0m: [Errno 2] No such file or directory: 'NYC_processed.pkl'"
          ]
        }
      ],
      "source": [
        "#Primero quise descargar el pickle\n",
        "\n",
        "f=open('NYC_processed.pkl','rb')\n",
        "data2 = pkl.load(f)\n",
        "print(data2)"
      ]
    },
    {
      "cell_type": "code",
      "source": [
        "#Pasé el pickle a un data frame llamada \"df\"\n",
        "\n",
        "with open('NYC_processed.pkl', 'rb') as f:\n",
        "        pkl_ = pkl.load(f)\n",
        "        df = pkl_['data2']\n",
        "        aux_zonas_decoder = pkl_['zonas_decoder']\n",
        "        aux_zonas_encoder = pkl_['zonas_encoder']\n",
        "        aux_borough_decoder = pkl_['borough_decoder']\n",
        "del pkl_\n",
        "gc.collect;"
      ],
      "metadata": {
        "id": "7M4SpOQlG3Ue"
      },
      "execution_count": null,
      "outputs": []
    },
    {
      "cell_type": "code",
      "source": [
        "#Pedí sacar los percentiles, con mayor granularidad de la que tira por default el código\n",
        "\n",
        "a = df['trip_distance'].describe(percentiles = [.1,.25,.5,.55,.6,.65,.7,.75,.8,.85,.9,.95])\n",
        "df.columns\n",
        "a"
      ],
      "metadata": {
        "id": "3tnHNRDdH2hH"
      },
      "execution_count": null,
      "outputs": []
    },
    {
      "cell_type": "code",
      "source": [
        "#Pasé los datos de percentiles anteriores a un data frame. Luego, saco su traspuesta para poder copiarlo y pegarlo en el documento del tp\n",
        "\n",
        "at = pd.DataFrame(a)\n",
        "at.transpose()"
      ],
      "metadata": {
        "id": "peNdMXsOH6S4"
      },
      "execution_count": null,
      "outputs": []
    },
    {
      "cell_type": "code",
      "source": [
        "#Quiero analizar cuánto varían los datos en el último 5% de los datos de \"trip_distance\" y en el primer 95%, para ver cuánto vale la pena añadir esas distancias a los esfuerzos de publicidad que vayamos a realizar\n",
        "\n",
        "last5percent = df[df[\"trip_distance\"] > 10.48]\n",
        "last5percent\n",
        "last5percent['trip_distance'].describe()"
      ],
      "metadata": {
        "id": "G4wiWQcPIAlf"
      },
      "execution_count": null,
      "outputs": []
    },
    {
      "cell_type": "code",
      "source": [
        "first95percent = df[df[\"trip_distance\"] < 10.49]\n",
        "first95percent\n",
        "\n",
        "first95percent[\"trip_distance\"].describe()"
      ],
      "metadata": {
        "id": "DcC46c1aIPaU"
      },
      "execution_count": null,
      "outputs": []
    },
    {
      "cell_type": "code",
      "source": [
        "#Acá pasé los dos códigos anteriores a 2 oraciones que después copio y pego al documento del TP\n",
        "\n",
        "print(\"Standard deviation for first 95% of sample is \",np.std(first95percent[\"trip_distance\"]),'.')\n",
        "print(\"Standard deviation for last 5% of sample is \",np.std(last5percent[\"trip_distance\"]),'.')"
      ],
      "metadata": {
        "id": "O1YuPPNFIR0h"
      },
      "execution_count": null,
      "outputs": []
    }
  ]
}