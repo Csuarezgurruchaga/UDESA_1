{
 "cells": [
  {
   "cell_type": "code",
   "execution_count": 2,
   "id": "93a25afe",
   "metadata": {},
   "outputs": [],
   "source": [
    "import pandas as pd\n",
    "import numpy as np\n",
    "from datetime import datetime\n",
    "import seaborn as sns\n",
    "import pickle\n",
    "import matplotlib.pyplot as plt\n",
    "\n",
    "plt.style.use('fivethirtyeight')\n",
    "pd.options.display.float_format = '{:.2f}'.format"
   ]
  },
  {
   "cell_type": "code",
   "execution_count": 3,
   "id": "cadb4749",
   "metadata": {},
   "outputs": [],
   "source": [
    "# df=pd.DataFrame()\n",
    "# for mes in range(5,9):    \n",
    "#     path = f'primer_semestre_tripdata_2016-{mes:02}.csv'\n",
    "#     weather1 = pd.read_csv(path).sample(frac = 0.05, random_state = 6)\n",
    "#     df2 = pd.concat([df1,df2])\n",
    "\n",
    "# df2.shape\n",
    "        \n",
    "## SI MODIFICO ESOS DROPS EN EL FOR, PODRIA UTILIZARLO"
   ]
  },
  {
   "cell_type": "code",
   "execution_count": 4,
   "id": "6549532a",
   "metadata": {},
   "outputs": [],
   "source": [
    "jan = pd.read_csv   ('Data/yellow_tripdata_2016-01.csv').sample(frac = 0.1, random_state = 6)\n",
    "feb = pd.read_csv   ('Data/yellow_tripdata_2016-02.csv').sample(frac = 0.1, random_state = 6)\n",
    "march = pd.read_csv ('Data/yellow_tripdata_2016-03.csv').sample(frac = 0.1, random_state = 6)\n",
    "april = pd.read_csv ('Data/yellow_tripdata_2016-04.csv').sample(frac = 0.1, random_state = 6)\n",
    "may = pd.read_csv   ('Data/yellow_tripdata_2016-05.csv').sample(frac = 0.1, random_state = 6)\n",
    "june = pd.read_csv  ('Data/yellow_tripdata_2016-06.csv').sample(frac = 0.1, random_state = 6)\n",
    "\n",
    "july = pd.read_csv  ('Data/yellow_tripdata_2016-07.csv').sample(frac = 0.1, random_state = 6)\n",
    "august = pd.read_csv('Data/yellow_tripdata_2016-08.csv').sample(frac = 0.1, random_state = 6)\n",
    "sept = pd.read_csv  ('Data/yellow_tripdata_2016-09.csv').sample(frac = 0.1, random_state = 6)\n",
    "october =pd.read_csv('Data/yellow_tripdata_2016-10.csv').sample(frac = 0.1, random_state = 6)\n",
    "nov = pd.read_csv   ('Data/yellow_tripdata_2016-11.csv').sample(frac = 0.1, random_state = 6)\n",
    "dec = pd.read_csv   ('Data/yellow_tripdata_2016-12.csv').sample(frac = 0.1, random_state = 6)\n"
   ]
  },
  {
   "cell_type": "code",
   "execution_count": null,
   "id": "4b498fde",
   "metadata": {},
   "outputs": [],
   "source": [
    "lista = [jan,feb,march,april,may,june,july,august,sept,october,nov,dec]\n",
    "\n",
    "print('Observamos que no todos los meses tienen la misma cant de columnas:\\n',[col.shape[1] for col in lista])"
   ]
  },
  {
   "cell_type": "code",
   "execution_count": null,
   "id": "d594b50b",
   "metadata": {
    "tags": []
   },
   "outputs": [],
   "source": [
    "primer_semestre = pd.concat([jan, feb, march, april, may, june],\n",
    "                    axis=0).reset_index(drop=True)"
   ]
  },
  {
   "cell_type": "code",
   "execution_count": null,
   "id": "e5ec06a8",
   "metadata": {},
   "outputs": [],
   "source": [
    "primer_semestre.head()"
   ]
  },
  {
   "cell_type": "code",
   "execution_count": null,
   "id": "91d9ef7a",
   "metadata": {},
   "outputs": [],
   "source": [
    "primer_semestre['tpep_pickup_datetime']=pd.to_datetime(primer_semestre['tpep_pickup_datetime'])\n",
    "primer_semestre['tpep_dropoff_datetime']=pd.to_datetime(primer_semestre['tpep_dropoff_datetime'])"
   ]
  },
  {
   "cell_type": "code",
   "execution_count": null,
   "id": "833ce478",
   "metadata": {},
   "outputs": [],
   "source": []
  },
  {
   "cell_type": "code",
   "execution_count": null,
   "id": "d6e9562a",
   "metadata": {},
   "outputs": [],
   "source": [
    "primer_semestre.info()"
   ]
  },
  {
   "cell_type": "code",
   "execution_count": null,
   "id": "f1adc447",
   "metadata": {},
   "outputs": [],
   "source": [
    "july.reset_index(inplace = True)\n",
    "\n",
    "july_2 = july.drop(['improvement_surcharge','total_amount'], axis=1).copy()\n",
    "\n",
    "july_2.columns = august.columns\n",
    "\n"
   ]
  },
  {
   "cell_type": "code",
   "execution_count": null,
   "id": "1e380d6d",
   "metadata": {},
   "outputs": [],
   "source": [
    "july_2.head()"
   ]
  },
  {
   "cell_type": "code",
   "execution_count": null,
   "id": "d74232f4",
   "metadata": {},
   "outputs": [],
   "source": [
    "august.reset_index(inplace = True)\n",
    "\n",
    "august_2 = august.drop(['improvement_surcharge','total_amount'], axis=1).copy()\n",
    "\n",
    "august_2.columns = july_2.columns\n",
    "\n",
    "august_2.head()"
   ]
  },
  {
   "cell_type": "code",
   "execution_count": null,
   "id": "b3760afa",
   "metadata": {},
   "outputs": [],
   "source": [
    "sept.reset_index(inplace = True)\n",
    "\n",
    "sept_2 = sept.drop(['improvement_surcharge','total_amount'], axis=1).copy()\n",
    "\n",
    "sept_2.columns = july_2.columns\n",
    "\n",
    "sept_2.head()"
   ]
  },
  {
   "cell_type": "code",
   "execution_count": null,
   "id": "9f32a91c",
   "metadata": {},
   "outputs": [],
   "source": [
    "october.reset_index(inplace = True)\n",
    "\n",
    "october_2 = october.drop(['improvement_surcharge','total_amount'], axis=1).copy()\n",
    "\n",
    "october_2.columns = july_2.columns\n",
    "\n",
    "october_2.head()"
   ]
  },
  {
   "cell_type": "code",
   "execution_count": null,
   "id": "01f3d3fe",
   "metadata": {},
   "outputs": [],
   "source": [
    "nov.reset_index(inplace = True)\n",
    "\n",
    "nov_2 = nov.drop(['improvement_surcharge','total_amount'], axis=1).copy()\n",
    "\n",
    "nov_2.columns = july_2.columns\n",
    "\n",
    "nov_2.head()"
   ]
  },
  {
   "cell_type": "code",
   "execution_count": null,
   "id": "74a6fa2d",
   "metadata": {},
   "outputs": [],
   "source": [
    "dec.reset_index(inplace = True)\n",
    "\n",
    "dec_2 = dec.drop(['improvement_surcharge','total_amount'], axis=1).copy()\n",
    "\n",
    "dec_2.columns = july_2.columns\n",
    "\n",
    "dec_2.head()"
   ]
  },
  {
   "cell_type": "code",
   "execution_count": null,
   "id": "5cb1db92",
   "metadata": {},
   "outputs": [],
   "source": []
  },
  {
   "cell_type": "code",
   "execution_count": null,
   "id": "d65c47a0",
   "metadata": {},
   "outputs": [],
   "source": [
    "segundo_semestre = pd.concat([july_2,august_2,sept_2, october_2, nov_2, dec_2], axis=0).reset_index(drop=True)\n",
    "\n",
    "segundo_semestre.head()"
   ]
  },
  {
   "cell_type": "code",
   "execution_count": null,
   "id": "9e988fbb",
   "metadata": {},
   "outputs": [],
   "source": [
    "segundo_semestre['tpep_pickup_datetime']=pd.to_datetime(segundo_semestre['tpep_pickup_datetime'])\n",
    "segundo_semestre['tpep_dropoff_datetime']=pd.to_datetime(segundo_semestre['tpep_dropoff_datetime'])"
   ]
  },
  {
   "cell_type": "code",
   "execution_count": null,
   "id": "b2122c95",
   "metadata": {},
   "outputs": [],
   "source": [
    "segundo_semestre.info()"
   ]
  },
  {
   "cell_type": "code",
   "execution_count": null,
   "id": "e910eaa8",
   "metadata": {},
   "outputs": [],
   "source": [
    "primer_semestre.head()"
   ]
  },
  {
   "cell_type": "code",
   "execution_count": null,
   "id": "85a9c041",
   "metadata": {},
   "outputs": [],
   "source": [
    "segundo_semestre.head()"
   ]
  },
  {
   "cell_type": "code",
   "execution_count": null,
   "id": "724c4fb9",
   "metadata": {},
   "outputs": [],
   "source": [
    "# Tenemos 2 datasets grandes, uno que va desde enero hasta junio \"primer_semestre\"\n",
    "# Y otro que va desde julio hasta diciembre, \"segundo_semestre\"\n",
    "\n",
    "#Vamos a crear un dataset que englobe todo el año, pero que no tenga los datos de ubicacion"
   ]
  },
  {
   "cell_type": "code",
   "execution_count": null,
   "id": "63c2d634",
   "metadata": {},
   "outputs": [],
   "source": [
    "jan_to_june_drop = ['pickup_longitude','pickup_latitude','dropoff_longitude','dropoff_latitude']\n",
    "july_to_dec_drop = ['PULocationID','DOLocationID']"
   ]
  },
  {
   "cell_type": "code",
   "execution_count": null,
   "id": "778585be",
   "metadata": {},
   "outputs": [],
   "source": [
    "taxi_2016a=primer_semestre.drop(columns = jan_to_june_drop)\n",
    "taxi_2016b=segundo_semestre.drop(columns = july_to_dec_drop)"
   ]
  },
  {
   "cell_type": "code",
   "execution_count": null,
   "id": "15641040",
   "metadata": {},
   "outputs": [],
   "source": [
    "taxi_2016 = pd.concat([taxi_2016a,taxi_2016b]).reset_index(drop=True)\n",
    "taxi_2016.head(4)"
   ]
  },
  {
   "cell_type": "code",
   "execution_count": null,
   "id": "812a3fdc",
   "metadata": {},
   "outputs": [],
   "source": [
    "# taxi_2016.to_csv('taxi_2016.csv')"
   ]
  },
  {
   "cell_type": "code",
   "execution_count": null,
   "id": "64a716ed",
   "metadata": {},
   "outputs": [],
   "source": []
  },
  {
   "cell_type": "code",
   "execution_count": null,
   "id": "5066fd71",
   "metadata": {},
   "outputs": [],
   "source": []
  },
  {
   "cell_type": "markdown",
   "id": "16d6155a",
   "metadata": {
    "tags": []
   },
   "source": [
    "# EDA ANALYSIS"
   ]
  },
  {
   "cell_type": "code",
   "execution_count": null,
   "id": "a6feecf8",
   "metadata": {
    "tags": []
   },
   "outputs": [],
   "source": [
    "# import pandas as pd\n",
    "# import numpy as np\n",
    "# from datetime import datetime\n",
    "# import seaborn as sns\n",
    "# import matplotlib.pyplot as plt\n",
    "\n",
    "# plt.style.use('fivethirtyeight')\n",
    "# pd.options.display.float_format = '{:.2f}'.format\n",
    "# taxi_2016 = pd.read_csv('Data/taxi_2016.csv', index_col = 'Unnamed: 0')\n",
    "\n",
    "# taxi_2016.tpep_pickup_datetime = pd.to_datetime(taxi_2016.tpep_pickup_datetime)"
   ]
  },
  {
   "cell_type": "code",
   "execution_count": null,
   "id": "fa124019",
   "metadata": {},
   "outputs": [],
   "source": [
    "taxi_2016.info()"
   ]
  },
  {
   "cell_type": "code",
   "execution_count": null,
   "id": "daf2a496",
   "metadata": {},
   "outputs": [],
   "source": [
    "taxi_2016.head()"
   ]
  },
  {
   "cell_type": "code",
   "execution_count": null,
   "id": "48db9735",
   "metadata": {},
   "outputs": [],
   "source": [
    "taxi_2016.groupby(taxi_2016.tpep_pickup_datetime.dt.day_name())['total_amount'].describe()"
   ]
  },
  {
   "cell_type": "code",
   "execution_count": null,
   "id": "0f9eec2b",
   "metadata": {},
   "outputs": [],
   "source": [
    "#Eliminamos los registros que tengan un total_amount menor a usd2.5, ya que ese es el costo inicial(bajada de bandera)\n",
    "\n",
    "taxi_2016 = taxi_2016[taxi_2016.total_amount>2.5]\n",
    "\n",
    "#Eliminaremos tambien los registros que en extras o en mta_tax o tip_amount, tengan valores negativos.\n",
    "taxi_2016 = taxi_2016[(taxi_2016.extra >= 0) & (taxi_2016.mta_tax >=0) & (taxi_2016.tip_amount>=0)]\n",
    "\n",
    "#Vamos a tomar el percentil 95, como valor maximo de total_amount\n",
    "\n",
    "taxi_2016 = taxi_2016[taxi_2016.total_amount<np.percentile(taxi_2016.total_amount,95)]\n",
    "\n",
    "#Vamos a eliminar los registros con fare_amount menor al percentil 5\n",
    "taxi_2016 = taxi_2016[taxi_2016.fare_amount > np.percentile(taxi_2016.fare_amount, 5)]"
   ]
  },
  {
   "cell_type": "code",
   "execution_count": null,
   "id": "84737712",
   "metadata": {},
   "outputs": [],
   "source": [
    "taxi_2016.groupby(taxi_2016.tpep_pickup_datetime.dt.day_name())['total_amount'].describe()"
   ]
  },
  {
   "cell_type": "code",
   "execution_count": null,
   "id": "59e07b9f",
   "metadata": {},
   "outputs": [],
   "source": [
    "taxi_2016.groupby(taxi_2016.passenger_count).describe(percentiles=list(np.linspace(0.1,1,4)))['total_amount']"
   ]
  },
  {
   "cell_type": "code",
   "execution_count": null,
   "id": "f260749b",
   "metadata": {},
   "outputs": [],
   "source": [
    "taxi_2016.head()"
   ]
  },
  {
   "cell_type": "code",
   "execution_count": null,
   "id": "47d1c7a1",
   "metadata": {},
   "outputs": [],
   "source": [
    "# Vamos a eliminar los registros que llevan 0 pasajeros, y los registros que superan la cantidad de \n",
    "# cinturones de un taxi amarillo estilo auto (4 pasajeros).\n",
    "\n",
    "taxi_2016 = taxi_2016[np.logical_and((taxi_2016.passenger_count>0),(taxi_2016.passenger_count<5))]\n",
    "\n",
    "taxi_2016.groupby(taxi_2016.passenger_count).describe(percentiles=list(np.linspace(0.1,1,4)))['total_amount']"
   ]
  },
  {
   "cell_type": "code",
   "execution_count": null,
   "id": "4e5ffb05",
   "metadata": {},
   "outputs": [],
   "source": [
    "taxi_2016.describe()"
   ]
  },
  {
   "cell_type": "code",
   "execution_count": null,
   "id": "b937f7fc",
   "metadata": {},
   "outputs": [],
   "source": [
    "# Vamos a eliminar los trip_distance que superen el percentil 95 de la distribucion y los que la distancia\n",
    "# no supere el percentil 5\n",
    "\n",
    "taxi_2016 = taxi_2016[np.logical_and(taxi_2016.trip_distance < np.percentile(taxi_2016.trip_distance,95),\n",
    "                                     (taxi_2016.trip_distance > np.percentile(taxi_2016.trip_distance,5)))]"
   ]
  },
  {
   "cell_type": "code",
   "execution_count": null,
   "id": "22808627",
   "metadata": {},
   "outputs": [],
   "source": [
    "taxi_2016.describe()"
   ]
  },
  {
   "cell_type": "markdown",
   "id": "fcf2a1f4",
   "metadata": {
    "tags": []
   },
   "source": [
    "# PREGUNTAS"
   ]
  },
  {
   "cell_type": "markdown",
   "id": "257368ad",
   "metadata": {},
   "source": [
    "## ¿Cuantos viajes se hacen en promedio por dia?"
   ]
  },
  {
   "cell_type": "code",
   "execution_count": null,
   "id": "08db37a4",
   "metadata": {},
   "outputs": [],
   "source": [
    "cantidad_viajes_por_dia_df=taxi_2016.groupby(taxi_2016.tpep_pickup_datetime.dt.day_name()).agg({'VendorID':'count'}).sort_values('VendorID',ascending=False)\n",
    "cantidad_viajes_por_dia_df\n",
    "\n",
    "plt.figure(figsize=(14,6))\n",
    "\n",
    "sns.barplot(data = cantidad_viajes_por_dia_df, x=cantidad_viajes_por_dia_df.index, y='VendorID', palette='dark')\n",
    "plt.title('CANTIDAD DE VIAJES POR DIA DE LA SEMANA')\n",
    "plt.xlabel('DIA DE LA SEMANA')\n",
    "plt.ylabel('CANTIDAD DE VIAJES REALIZADOS');"
   ]
  },
  {
   "cell_type": "code",
   "execution_count": null,
   "id": "9ca877b2",
   "metadata": {},
   "outputs": [],
   "source": []
  },
  {
   "cell_type": "markdown",
   "id": "446c0d76",
   "metadata": {},
   "source": [
    "CUANTO SE FACTURA EN PROMEDIO POR DIA? Y QUE DIA ES EL MAS PROVECHOSO?"
   ]
  },
  {
   "cell_type": "code",
   "execution_count": null,
   "id": "c5c377a7",
   "metadata": {},
   "outputs": [],
   "source": [
    "facturacion_por_dia_df=taxi_2016.groupby(taxi_2016.tpep_pickup_datetime.dt.day_name()).agg({'total_amount':'mean'}).sort_values('total_amount', ascending = False)\n",
    "\n",
    "\n",
    "plt.figure(figsize=(14,6))\n",
    "\n",
    "sns.barplot(data = facturacion_por_dia_df, x=facturacion_por_dia_df.index, y='total_amount', palette='dark')\n",
    "\n",
    "plt.title('FACTURACION PROMEDIO DE VIAJE POR DIA DE LA SEMANA')\n",
    "plt.xlabel('DIA DE LA SEMANA')\n",
    "plt.ylabel('FACTURACION PROMEDIO POR VIAJE');"
   ]
  },
  {
   "cell_type": "markdown",
   "id": "851bd912",
   "metadata": {},
   "source": [
    "#### **Conclusion:** \n",
    "##### **Los dias mas provechosos para usar el taxi fueron los jueves, con una facturacion promedio por viaje de USD 14,34 por viaje, y siendo los menos provechosos, los dias domingo, con una facturacion promedio de USD 13,36 por viaje realizado**"
   ]
  },
  {
   "cell_type": "markdown",
   "id": "192e9ea1",
   "metadata": {
    "tags": []
   },
   "source": [
    "1) Viajes por momento del año/estación/mes. ¿Cuándo se utilizan más los taxis?, los días laborales o los “días libres”(sábados/domingos)?"
   ]
  },
  {
   "cell_type": "code",
   "execution_count": null,
   "id": "7443bb88",
   "metadata": {
    "tags": []
   },
   "outputs": [],
   "source": [
    "# where Monday is 0 and Sunday is 6\n",
    "taxi_2016['dia_laborable'] = taxi_2016.tpep_pickup_datetime.dt.weekday < 5 \n",
    "\n",
    "cant_viajes_dias_lab_y_no_lab=taxi_2016.dia_laborable.value_counts(normalize = False)\n",
    "cant_viajes_dias_lab_y_no_lab"
   ]
  },
  {
   "cell_type": "code",
   "execution_count": null,
   "id": "cdd740ae",
   "metadata": {},
   "outputs": [],
   "source": [
    "# Si ponderamos el resultado, dado que los dias laborales son 2.5 veces mas cantidad de dias\n",
    "\n",
    "dia_laboral_mayor_dia_no_laboral = cant_viajes_dias_lab_y_no_lab[0] > cant_viajes_dias_lab_y_no_lab[1]*2.5\n",
    "\n",
    "print('Cantidad ponderada de viajes en dias laborales es mayor que en dias no laborables:\\n',dia_laboral_mayor_dia_no_laboral)"
   ]
  },
  {
   "cell_type": "markdown",
   "id": "f41ab560",
   "metadata": {},
   "source": [
    "#### **Respuesta: Los taxis se utilizan en mayor medida los dias NO laborales**"
   ]
  },
  {
   "cell_type": "code",
   "execution_count": null,
   "id": "27de24d8",
   "metadata": {},
   "outputs": [],
   "source": [
    "# SEASONS USA\n",
    "# Primavera: 21 marzo hasta 20 junio.\n",
    "# Verano: 21 junio hasta 20 septiembre.\n",
    "# Otoño: 22 septiembre hasta 21 diciembre.\n",
    "# Invierno: 22 diciembre hasta 20 marzo.\n",
    "\n",
    "\n",
    "primavera = taxi_2016[np.logical_and((taxi_2016.tpep_pickup_datetime >= datetime(2016, 3, 21)),(taxi_2016.tpep_pickup_datetime < datetime(2016, 6, 21)))].index\n",
    "verano = taxi_2016[np.logical_and((taxi_2016.tpep_pickup_datetime >= datetime(2016, 6, 21)),(taxi_2016.tpep_pickup_datetime < datetime(2016, 9, 22)))].index\n",
    "otonio = taxi_2016[np.logical_and((taxi_2016.tpep_pickup_datetime >= datetime(2016, 9, 22)),(taxi_2016.tpep_pickup_datetime < datetime(2016, 12, 22)))].index\n",
    "invierno = taxi_2016[np.logical_and((taxi_2016.tpep_pickup_datetime >= datetime(2016, 12, 22)),(taxi_2016.tpep_pickup_datetime <= datetime(2016, 12, 31, hour=23, minute=59, second=59)))].index\n",
    "invierno_2 = taxi_2016[np.logical_and((taxi_2016.tpep_pickup_datetime >= datetime(2016, 1, 1)),(taxi_2016.tpep_pickup_datetime < datetime(2016, 3, 21)))].index\n",
    "\n",
    "taxi_2016.loc[primavera, 'season'] = 'primavera'\n",
    "taxi_2016.loc[verano, 'season'] = 'verano'\n",
    "taxi_2016.loc[otonio, 'season'] = 'otonio'\n",
    "taxi_2016.loc[invierno, 'season'] = 'invierno'\n",
    "taxi_2016.loc[invierno_2, 'season'] = 'invierno'\n",
    "\n",
    "# taxi_2016.head()"
   ]
  },
  {
   "cell_type": "code",
   "execution_count": null,
   "id": "f3ed3726",
   "metadata": {},
   "outputs": [],
   "source": [
    "season_df=taxi_2016.groupby('season').agg({'passenger_count':['count'],\n",
    "                                 'total_amount':['sum'],\n",
    "                                 'trip_distance':['max', 'sum'], \n",
    "                                 'tip_amount':['count','max','mean']})\n",
    "season_df"
   ]
  },
  {
   "cell_type": "markdown",
   "id": "d3287d3d",
   "metadata": {},
   "source": [
    "#### **Conclusion:** \n",
    "##### **Los taxis amarillos se utilizan mayoritariamente en los meses de Primavera, y en los dias NO laborables, si ponderamos los pesos respecto a los dias laborables**"
   ]
  },
  {
   "cell_type": "markdown",
   "id": "ab79713d",
   "metadata": {},
   "source": [
    "6. ¿Cual es la forma de pago mas utilizada?"
   ]
  },
  {
   "cell_type": "code",
   "execution_count": null,
   "id": "c46803dd",
   "metadata": {},
   "outputs": [],
   "source": [
    "#Vamos a mappear los valores de forma de pago\n",
    "# 1= Credit card\n",
    "# 2= Cash\n",
    "# 3= No charge\n",
    "# 4= Dispute\n",
    "# 5= Unknown\n",
    "# 6= Voided trip\n",
    "taxi_2016.payment_type = taxi_2016.payment_type.map({1:'credit card',\n",
    "                            2:'cash',\n",
    "                            3:'no charge',\n",
    "                            4:'dispute'})"
   ]
  },
  {
   "cell_type": "code",
   "execution_count": null,
   "id": "65966c34",
   "metadata": {},
   "outputs": [],
   "source": [
    "plt.figure(figsize = (18,6))\n",
    "sns.countplot(data = taxi_2016, x= 'payment_type')\n",
    "\n",
    "plt.show()"
   ]
  },
  {
   "cell_type": "code",
   "execution_count": null,
   "id": "b734fd76",
   "metadata": {},
   "outputs": [],
   "source": [
    "#Utilizamos el logaritmo de las cantidades, para tener un grafico mas amigable\n",
    "\n",
    "log_forma_pago_df=\\\n",
    "    (np.log(taxi_2016.groupby('payment_type').count()['VendorID']).to_frame()).sort_values('VendorID', ascending = False)\n",
    "log_forma_pago_df"
   ]
  },
  {
   "cell_type": "code",
   "execution_count": null,
   "id": "cec4ea54",
   "metadata": {},
   "outputs": [],
   "source": [
    "plt.figure(figsize = (12,8))\n",
    "plt.axes()\n",
    "\n",
    "sns.barplot(data = log_forma_pago_df, x=log_forma_pago_df.index, y='VendorID')\n",
    "plt.xlabel('FORMA DE PAGO')\n",
    "plt.ylabel('LOG CANTIDAD FORMA DE PAGO UTILIZADA')\n",
    "plt.xticks(np.linspace(0,4,5))\n",
    "\n",
    "plt.show()"
   ]
  },
  {
   "cell_type": "markdown",
   "id": "75f110de",
   "metadata": {},
   "source": [
    "#### **Conclusion:** \n",
    "##### **Los taxis amarillos reciben mayoritariamente pagos con tarjeta de credito**"
   ]
  },
  {
   "cell_type": "markdown",
   "id": "0f6c1a81",
   "metadata": {},
   "source": [
    "20) Dentro de los que pagan con tarjeta de credito, ¿ Varia la propina segun la cantidad de pasajeros ?"
   ]
  },
  {
   "cell_type": "code",
   "execution_count": null,
   "id": "279f3f8d",
   "metadata": {},
   "outputs": [],
   "source": [
    "taxi_2016[taxi_2016['payment_type']=='credit card'].groupby('passenger_count').agg({'tip_amount':['mean','count']})\n"
   ]
  },
  {
   "cell_type": "code",
   "execution_count": null,
   "id": "61c27c0b",
   "metadata": {},
   "outputs": [],
   "source": [
    "taxi_2016.head()"
   ]
  },
  {
   "cell_type": "markdown",
   "id": "23cb1c6d",
   "metadata": {},
   "source": [
    "#### **Conclusion:** \n",
    "##### **Observamos que dentro de los pagos con tarjeta de credito, no hay una gran varianza en los montos de propina que suelen dejar los pasajeros, dependiendo de la cantidad de los mismos. Pero los que viajan en grupos de 2, son los que dejan mayor propina**"
   ]
  },
  {
   "cell_type": "code",
   "execution_count": null,
   "id": "c39e7ce8",
   "metadata": {},
   "outputs": [],
   "source": []
  },
  {
   "cell_type": "markdown",
   "id": "6f50be2d",
   "metadata": {},
   "source": [
    "14) Maratones en New York, ¿Como afectan a la distribución?."
   ]
  },
  {
   "cell_type": "markdown",
   "id": "0e44a5c4",
   "metadata": {},
   "source": [
    "El 6 de noviembre, tuvo lugar la edicion N46 del New York city Marathon https://en.wikipedia.org/wiki/2016_New_York_City_Marathon"
   ]
  },
  {
   "cell_type": "code",
   "execution_count": null,
   "id": "9d5fda7a",
   "metadata": {},
   "outputs": [],
   "source": [
    "maraton_day = pd.to_datetime('2016 11 6')\n",
    "\n",
    "maraton = taxi_2016[(taxi_2016.tpep_pickup_datetime.dt.month == 11) & (taxi_2016.tpep_pickup_datetime.dt.day == 6)]\n",
    "# maraton.head(2)"
   ]
  },
  {
   "cell_type": "markdown",
   "id": "fc752e82",
   "metadata": {},
   "source": [
    "#### Vamos a observar la mediana de la facturacion total por mes y compararla con la del dia del maraton, para ver si el mismo, tuvo algun impacto."
   ]
  },
  {
   "cell_type": "code",
   "execution_count": null,
   "id": "7c14eded",
   "metadata": {},
   "outputs": [],
   "source": [
    "taxi_2016.groupby(taxi_2016.tpep_pickup_datetime.dt.month_name()).\\\n",
    "                                    agg({'total_amount':['median','mean','std']})\n"
   ]
  },
  {
   "cell_type": "code",
   "execution_count": null,
   "id": "31cb857f",
   "metadata": {},
   "outputs": [],
   "source": [
    "maraton.groupby(maraton.tpep_pickup_datetime.dt.month_name()).agg({'total_amount':['median','mean','std']})"
   ]
  },
  {
   "cell_type": "markdown",
   "id": "ab015e99",
   "metadata": {
    "tags": []
   },
   "source": [
    "#### **Conclusion:** \n",
    "##### **El maraton se realizo en el mes de NOVIEMBRE, y vemos resultados de ese dia inferiores a la mediana y media de ese mes, con lo que podriamos concluir que el mismo afecto NEGATIVAMENTE a los viajes en taxi**"
   ]
  },
  {
   "cell_type": "markdown",
   "id": "6ad9ac7d",
   "metadata": {},
   "source": [
    "## Las elecciones presidenciales del 2016, afectaron de alguna manera el mercado del transporte?"
   ]
  },
  {
   "cell_type": "code",
   "execution_count": null,
   "id": "a600766d",
   "metadata": {},
   "outputs": [],
   "source": [
    "election_day=pd.to_datetime('2016-11-8')\n",
    "\n",
    "\n",
    "election = taxi_2016[(taxi_2016.tpep_pickup_datetime.dt.month==11) & (taxi_2016.tpep_pickup_datetime.dt.day==8)]\n",
    "taxi_2016.groupby(taxi_2016.tpep_pickup_datetime.dt.month_name()).agg({'total_amount':['median','mean','std']})"
   ]
  },
  {
   "cell_type": "code",
   "execution_count": null,
   "id": "2a820789",
   "metadata": {},
   "outputs": [],
   "source": [
    "election.groupby(election.tpep_pickup_datetime.dt.month_name()).agg({'total_amount':['median','mean','std']})"
   ]
  },
  {
   "cell_type": "markdown",
   "id": "cfc7cd36",
   "metadata": {},
   "source": [
    "#### **Conclusion:** \n",
    "##### **Las elecciones presidenciales del 2016, se realizaron en el mes de NOVIEMBRE, y vemos resultados de ese dia inferiores a la mediana y media de ese mes, con lo que podriamos concluir que la misma afecto NEGATIVAMENTE a los viajes en taxi**"
   ]
  },
  {
   "cell_type": "markdown",
   "id": "e7d9a319",
   "metadata": {},
   "source": [
    "20) Según el RatecodeID, ¿es diferente el improvement_surcharge?"
   ]
  },
  {
   "cell_type": "code",
   "execution_count": null,
   "id": "4fe26ece",
   "metadata": {},
   "outputs": [],
   "source": [
    "# Mapeamos los RatecodeID\n",
    "# 1=Standard rate\n",
    "# 2=JFK\n",
    "# 3=Newark\n",
    "# 4=Nassau or Westchester\n",
    "# 5=Negotiated fare\n",
    "# 6=Group ride\n",
    "\n",
    "taxi_2016.RatecodeID = taxi_2016.RatecodeID.map({1:'standard_rate', 2:'JFK',3:'newark',\n",
    "                          4:'nassau_or_westchester',5:'negotiated_fare',6:'group_ride'})"
   ]
  },
  {
   "cell_type": "code",
   "execution_count": null,
   "id": "83f5555c",
   "metadata": {},
   "outputs": [],
   "source": [
    "taxi_2016.groupby('RatecodeID').agg({'improvement_surcharge':['mean','std','min','max','count']})"
   ]
  },
  {
   "cell_type": "markdown",
   "id": "7bd0a98b",
   "metadata": {},
   "source": [
    "# VERRRR\n",
    "\n",
    "#### **Conclusion:** \n",
    "##### **El recargo por mejora, tiene normalmente el mismo valor, y se pide principalmente en RatecodeID = Standard Rate**"
   ]
  },
  {
   "cell_type": "markdown",
   "id": "55960080",
   "metadata": {},
   "source": [
    "¿Cuales son las horas de mayor demanda de taxis?"
   ]
  },
  {
   "cell_type": "code",
   "execution_count": null,
   "id": "b0f5265b",
   "metadata": {},
   "outputs": [],
   "source": [
    "hora_pico_df = taxi_2016.groupby(taxi_2016.tpep_pickup_datetime.dt.hour).agg({'VendorID':'count'})"
   ]
  },
  {
   "cell_type": "code",
   "execution_count": null,
   "id": "70fe8d80",
   "metadata": {},
   "outputs": [],
   "source": [
    "plt.figure(figsize=(16,8))\n",
    "\n",
    "plt.title('HORAS PICO(DIAS DE SEMANA + FINES DE SEMANA)')\n",
    "sns.barplot(data = hora_pico_df, x=hora_pico_df.index, y='VendorID', palette='dark')\n",
    "plt.show()\n"
   ]
  },
  {
   "cell_type": "markdown",
   "id": "2ebbe76b",
   "metadata": {},
   "source": [
    "**Podemos observar que las horas de mas demanda de taxi son entre las 18h y las 22h, probablemente por la gente que toma un taxi a la salida de su trabajo**"
   ]
  },
  {
   "cell_type": "code",
   "execution_count": null,
   "id": "8c2783cd",
   "metadata": {},
   "outputs": [],
   "source": [
    "fig,axes = plt.subplots(1,2, figsize=(25,8))\n",
    "\n",
    "\n",
    "hora_pico_laborable_df = taxi_2016[taxi_2016.dia_laborable].groupby(taxi_2016.tpep_pickup_datetime.dt.hour).agg({'VendorID':'count'})\n",
    "\n",
    "\n",
    "sns.barplot(data = hora_pico_laborable_df, x=hora_pico_laborable_df.index, y='VendorID', palette='dark', ax=axes[0])\n",
    "axes[0].set_title('HORAS PICO EN DIAS LABORABLES')\n",
    "axes[0].set_xlabel('HORA DEL DIA')\n",
    "axes[0].set_ylabel('CANTIDAD DE VIAJES')\n",
    "\n",
    "\n",
    "\n",
    "\n",
    "hora_pico_no_laborable_df = taxi_2016[~taxi_2016.dia_laborable].groupby(taxi_2016.tpep_pickup_datetime.dt.hour).agg({'VendorID':'count'})\n",
    "\n",
    "sns.barplot(data = hora_pico_no_laborable_df, x=hora_pico_no_laborable_df.index, y='VendorID', palette='dark', ax=axes[1])\n",
    "axes[1].set_xlabel('HORA DEL DIA')\n",
    "axes[1].set_ylabel('CANTIDAD DE VIAJES')\n",
    "axes[1].set_title('HORAS PICO EN FINES DE SEMANA');\n",
    "\n",
    "\n"
   ]
  },
  {
   "cell_type": "markdown",
   "id": "99763e27",
   "metadata": {},
   "source": [
    "#### **Conclusion:** \n",
    "##### Podemos concluir entonces, que las horas de mayor demanda en los `dias de semana`, son entre las 18 y las 22h, y hay un incremento entre las 7 y 8am.\n",
    "##### Respecto a los `fines de semana`, el pico se origina entre las 00 y la 01h de la madrugada, y se ve otro pico entre las 18 y 19h"
   ]
  },
  {
   "cell_type": "code",
   "execution_count": null,
   "id": "104675e7",
   "metadata": {},
   "outputs": [],
   "source": []
  },
  {
   "cell_type": "markdown",
   "id": "e018a555",
   "metadata": {},
   "source": [
    "# TRABAJEMOS CON LOS DATOS DEL CLIMA"
   ]
  },
  {
   "cell_type": "markdown",
   "id": "a5a3f22c",
   "metadata": {},
   "source": [
    "#### Vamos a añadir los datos del tiempo a nuestro dataset"
   ]
  },
  {
   "cell_type": "code",
   "execution_count": null,
   "id": "4c82655d",
   "metadata": {},
   "outputs": [],
   "source": [
    "weather = pd.read_csv('Data/weather.csv')\n",
    "weather.head(2)"
   ]
  },
  {
   "cell_type": "code",
   "execution_count": null,
   "id": "5ab02305",
   "metadata": {},
   "outputs": [],
   "source": [
    "weather.shape"
   ]
  },
  {
   "cell_type": "code",
   "execution_count": null,
   "id": "e4f9b143",
   "metadata": {},
   "outputs": [],
   "source": [
    "weather.info()"
   ]
  },
  {
   "cell_type": "code",
   "execution_count": null,
   "id": "1f42d304",
   "metadata": {},
   "outputs": [],
   "source": [
    "weather.head()"
   ]
  },
  {
   "cell_type": "code",
   "execution_count": null,
   "id": "f5d38506",
   "metadata": {},
   "outputs": [],
   "source": [
    "# Reparacion del dataset weather\n",
    "\n",
    "# Switch month and day when day is less than 12\n",
    "weather['date'] = pd.to_datetime(weather['pickup_datetime'])\n",
    "weather['month'] = weather['date'].dt.month\n",
    "weather['year'] = weather['date'].dt.year\n",
    "weather['day'] = weather['date'].dt.day\n",
    "weather['hour'] = weather['date'].dt.hour\n",
    "weather['minute'] = weather['date'].dt.minute\n",
    "\n",
    "def compute_right_day(row):\n",
    "    if row['day'] <= 12:\n",
    "        return row['month']\n",
    "    else:\n",
    "        return row['day']\n",
    "\n",
    "def compute_right_month(row):\n",
    "    if row['day'] <= 12:\n",
    "        return row['day']\n",
    "    else:\n",
    "        return row['month']\n",
    "\n",
    "def compute_right_date(row):\n",
    "    return '{:d}-{:d}-{:d} {:d}:{:d}'.format(row['year'], row['new_month'], row['new_day'],\n",
    "                                             row['hour'], row['minute'])\n",
    "\n",
    "weather['new_day'] = weather.apply(compute_right_day, axis=1)\n",
    "weather['new_month'] = weather.apply(compute_right_month, axis=1)\n",
    "weather['new_date_str'] = weather.apply(compute_right_date, axis=1)\n",
    "weather['date'] = pd.to_datetime(weather['new_date_str'])\n",
    "weather = weather[['date', 'tempi','rain','snow']]\n",
    "# weather.set_index('date', inplace=True)\n",
    "weather.sort_index(inplace=True)"
   ]
  },
  {
   "cell_type": "code",
   "execution_count": null,
   "id": "e4a7123e",
   "metadata": {},
   "outputs": [],
   "source": [
    "weather.head()"
   ]
  },
  {
   "cell_type": "code",
   "execution_count": null,
   "id": "fe7f26d4",
   "metadata": {},
   "outputs": [],
   "source": [
    "weather.info()"
   ]
  },
  {
   "cell_type": "code",
   "execution_count": null,
   "id": "6f8fa864",
   "metadata": {},
   "outputs": [],
   "source": [
    "# vamos a filtrar solo el año 2016\n",
    "\n",
    "weather = weather[weather['date'].dt.year==2016].reset_index(drop=True)"
   ]
  },
  {
   "cell_type": "code",
   "execution_count": null,
   "id": "7cd634e5",
   "metadata": {},
   "outputs": [],
   "source": [
    "weather['fecha_sin_hora']=weather.date.apply(lambda x: str(x).split(' ')[0])"
   ]
  },
  {
   "cell_type": "code",
   "execution_count": null,
   "id": "a41bb4cd",
   "metadata": {},
   "outputs": [],
   "source": [
    "dias_nieve_list=weather[weather.snow ==1]['fecha_sin_hora'].to_list()\n",
    "dias_lluvia_list=weather[weather.rain ==1]['fecha_sin_hora'].to_list()"
   ]
  },
  {
   "cell_type": "code",
   "execution_count": null,
   "id": "64994bb7",
   "metadata": {},
   "outputs": [],
   "source": []
  },
  {
   "cell_type": "code",
   "execution_count": null,
   "id": "8e6f8319",
   "metadata": {
    "tags": []
   },
   "outputs": [],
   "source": [
    "taxi_2016['pickup_sin_hora'] = taxi_2016.tpep_pickup_datetime.apply(lambda x: str(x).split(' ')[0])"
   ]
  },
  {
   "cell_type": "code",
   "execution_count": null,
   "id": "ad5a3561",
   "metadata": {},
   "outputs": [],
   "source": [
    "def llueve(dia):\n",
    "    '''Funcion que pone True si ese dia se registro lluvia en NY,\n",
    "    a partir de una lista generada con el dataset weather'''\n",
    "    for llueve in dias_lluvia_list:\n",
    "        if dia == llueve:\n",
    "            return True\n",
    "        else:\n",
    "            return False\n",
    "        \n",
    "def nevar(dia):\n",
    "    '''Funcion que pone True si ese dia se registro nieve en NY,\n",
    "    a partir de una lista generada con el dataset weather'''\n",
    "    for nieva in dias_nieve_list:\n",
    "        if dia == nieva:\n",
    "            return True\n",
    "        else:\n",
    "            return False\n",
    "    \n",
    "    \n",
    "    \n",
    "taxi_2016['lluvia']= taxi_2016.pickup_sin_hora.apply(lambda x:llueve(x))\n",
    "taxi_2016['nieva']= taxi_2016.pickup_sin_hora.apply(lambda x:nevar(x))\n"
   ]
  },
  {
   "cell_type": "markdown",
   "id": "dc866fa3",
   "metadata": {},
   "source": [
    "## Como afectaron los dias lluviosos a los taxis?"
   ]
  },
  {
   "cell_type": "code",
   "execution_count": null,
   "id": "92702d7e",
   "metadata": {},
   "outputs": [],
   "source": [
    "taxi_2016.groupby('lluvia').count()['VendorID'].to_frame()"
   ]
  },
  {
   "cell_type": "code",
   "execution_count": null,
   "id": "f22c374d",
   "metadata": {},
   "outputs": [],
   "source": [
    "taxi_2016.groupby(['lluvia']).agg({'total_amount':['mean','std'],\n",
    "                                   'trip_distance':['mean','std'],\n",
    "                                   'passenger_count':['mean','std']})\n"
   ]
  },
  {
   "cell_type": "markdown",
   "id": "1fb89282",
   "metadata": {},
   "source": [
    "#### **Conclusion:** \n",
    "##### Los dias de lluvia, no modifican en gran medida el uso de los taxis amarillos\n"
   ]
  },
  {
   "cell_type": "markdown",
   "id": "f83f430f",
   "metadata": {},
   "source": [
    "## Como afecto la nieve a los taxis?"
   ]
  },
  {
   "cell_type": "code",
   "execution_count": null,
   "id": "df2119d2",
   "metadata": {},
   "outputs": [],
   "source": [
    "taxi_2016.groupby(['nieva']).agg({'total_amount':['mean','std'],\n",
    "                                   'trip_distance':['mean','std'],\n",
    "                                   'passenger_count':['mean','std']})"
   ]
  },
  {
   "cell_type": "code",
   "execution_count": null,
   "id": "21617ea8",
   "metadata": {},
   "outputs": [],
   "source": [
    "4444444"
   ]
  },
  {
   "cell_type": "code",
   "execution_count": null,
   "id": "14982b8f",
   "metadata": {},
   "outputs": [],
   "source": [
    "taxi_2016.sample(frac=0.3, random_state=6).groupby(['nieva']).agg({'total_amount':['mean','std'],\n",
    "                                   'trip_distance':['mean','std'],\n",
    "                                   'passenger_count':['mean','std']})"
   ]
  },
  {
   "cell_type": "code",
   "execution_count": null,
   "id": "9268ce2b",
   "metadata": {},
   "outputs": [],
   "source": [
    "taxi_2016.shape"
   ]
  },
  {
   "cell_type": "code",
   "execution_count": null,
   "id": "2bfd325a",
   "metadata": {},
   "outputs": [],
   "source": [
    "taxi_2016.sample(frac=0.3, random_state=6).shape"
   ]
  },
  {
   "cell_type": "markdown",
   "id": "aa773f06",
   "metadata": {},
   "source": [
    "# Ven, esto les comentaba ayer, bajando de 9millones de registros a casi 3millones(el 30%), no perdemos gran \"precision\", en los valores.\n",
    "\n",
    "Entonces pensaba que podiamos poner que optamos con tomar una muestra en vez de trabajar con todos los registros, dado que no modifican en gran medida a lo que queremos estudiar y utilizar una tolerancia de +/- 0.01, es suficiente exacto."
   ]
  },
  {
   "cell_type": "code",
   "execution_count": null,
   "id": "adb28183",
   "metadata": {},
   "outputs": [],
   "source": [
    "4444444"
   ]
  },
  {
   "cell_type": "markdown",
   "id": "a3248ecf",
   "metadata": {
    "tags": []
   },
   "source": [
    "#### **Conclusion:** \n",
    "##### En los dias que nevó, se facturo en promedio 1 usd menos por viaje.\n"
   ]
  },
  {
   "cell_type": "code",
   "execution_count": null,
   "id": "1e353cd3",
   "metadata": {},
   "outputs": [],
   "source": [
    "!pip install geopandas"
   ]
  },
  {
   "cell_type": "code",
   "execution_count": null,
   "id": "b28e97fb-4899-4fde-9ebb-89eb2e5e1576",
   "metadata": {},
   "outputs": [],
   "source": []
  },
  {
   "cell_type": "code",
   "execution_count": null,
   "id": "e4e8a717",
   "metadata": {},
   "outputs": [],
   "source": []
  },
  {
   "cell_type": "code",
   "execution_count": null,
   "id": "ef173908",
   "metadata": {},
   "outputs": [],
   "source": []
  },
  {
   "cell_type": "code",
   "execution_count": null,
   "id": "26598196-f9e2-4eff-a87b-f008f2fb2dcb",
   "metadata": {},
   "outputs": [],
   "source": []
  }
 ],
 "metadata": {
  "kernelspec": {
   "display_name": "Python 3 (ipykernel)",
   "language": "python",
   "name": "python3"
  },
  "language_info": {
   "codemirror_mode": {
    "name": "ipython",
    "version": 3
   },
   "file_extension": ".py",
   "mimetype": "text/x-python",
   "name": "python",
   "nbconvert_exporter": "python",
   "pygments_lexer": "ipython3",
   "version": "3.8.8"
  }
 },
 "nbformat": 4,
 "nbformat_minor": 5
}
