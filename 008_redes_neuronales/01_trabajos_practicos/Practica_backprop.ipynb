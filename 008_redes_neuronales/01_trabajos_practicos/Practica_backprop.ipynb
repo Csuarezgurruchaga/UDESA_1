{
 "cells": [
  {
   "cell_type": "markdown",
   "metadata": {},
   "source": [
    "# EJERCICIO 1: PRACTICA BACKPROPAGATION"
   ]
  },
  {
   "cell_type": "code",
   "execution_count": 7,
   "metadata": {},
   "outputs": [
    {
     "name": "stdout",
     "output_type": "stream",
     "text": [
      "tensor([-28.], grad_fn=<NegBackward0>)\n"
     ]
    }
   ],
   "source": [
    "import torch\n",
    "\n",
    "x = torch.tensor([2.], requires_grad = True)\n",
    "y = torch.tensor([4.], requires_grad = True)\n",
    "w = torch.tensor([3.], requires_grad = True)\n",
    "z = torch.tensor([1.], requires_grad = True)\n",
    "\n",
    "\n",
    "f = -(torch.max(z,(x**2)) + 2 * (w*y))\n",
    "\n",
    "print(f)"
   ]
  },
  {
   "cell_type": "code",
   "execution_count": 8,
   "metadata": {},
   "outputs": [],
   "source": [
    "# Realizamos la pasada backward, para que compute los gradientes en los nodos hojas.\n",
    "f.backward()"
   ]
  },
  {
   "cell_type": "code",
   "execution_count": 9,
   "metadata": {},
   "outputs": [
    {
     "name": "stdout",
     "output_type": "stream",
     "text": [
      "Gradiente df/dz = tensor([0.])\n",
      "Gradiente df/dx = tensor([-4.])\n",
      "Gradiente df/dw = tensor([-8.])\n",
      "Gradiente df/dy = tensor([-6.])\n"
     ]
    }
   ],
   "source": [
    "# Le pedimos los gradientes de las features y de los pesos\n",
    "print(\"Gradiente df/dz = \" + str(z.grad))\n",
    "print(\"Gradiente df/dx = \" + str(x.grad))\n",
    "print(\"Gradiente df/dw = \" + str(w.grad))\n",
    "print(\"Gradiente df/dy = \" + str(y.grad))"
   ]
  },
  {
   "cell_type": "markdown",
   "metadata": {},
   "source": [
    "# EJERCICIO 2: PRACTICA BACKPROPAGATION"
   ]
  },
  {
   "cell_type": "code",
   "execution_count": 10,
   "metadata": {},
   "outputs": [],
   "source": [
    "\n",
    "x = torch.tensor([5.], requires_grad = True)\n",
    "y = torch.tensor([2.], requires_grad = True)\n",
    "w = torch.tensor([3.], requires_grad = True)\n",
    "z = torch.tensor([4.], requires_grad = True)\n",
    "\n",
    "\n",
    "f = -3*((x*(4*y)) + torch.max(w,z))\n"
   ]
  },
  {
   "cell_type": "code",
   "execution_count": 11,
   "metadata": {},
   "outputs": [],
   "source": [
    "# Realizamos la pasada backward, para que compute los gradientes en los nodos hojas.\n",
    "f.backward()"
   ]
  },
  {
   "cell_type": "code",
   "execution_count": 13,
   "metadata": {},
   "outputs": [
    {
     "name": "stdout",
     "output_type": "stream",
     "text": [
      "Gradiente df/dx = tensor([-24.])\n",
      "Gradiente df/dy = tensor([-60.])\n",
      "Gradiente df/dw = tensor([0.])\n",
      "Gradiente df/dz = tensor([-3.])\n"
     ]
    }
   ],
   "source": [
    "# Le pedimos los gradientes de las features y de los pesos\n",
    "print(\"Gradiente df/dx = \" + str(x.grad))\n",
    "print(\"Gradiente df/dy = \" + str(y.grad))\n",
    "print(\"Gradiente df/dw = \" + str(w.grad))\n",
    "print(\"Gradiente df/dz = \" + str(z.grad))\n"
   ]
  },
  {
   "cell_type": "code",
   "execution_count": null,
   "metadata": {},
   "outputs": [],
   "source": []
  }
 ],
 "metadata": {
  "kernelspec": {
   "display_name": "Python 3.8.8 ('redes')",
   "language": "python",
   "name": "python3"
  },
  "language_info": {
   "codemirror_mode": {
    "name": "ipython",
    "version": 3
   },
   "file_extension": ".py",
   "mimetype": "text/x-python",
   "name": "python",
   "nbconvert_exporter": "python",
   "pygments_lexer": "ipython3",
   "version": "3.8.8"
  },
  "orig_nbformat": 4,
  "vscode": {
   "interpreter": {
    "hash": "466813897a52447f1831c184b0700fb7b7f042a70becf90568dd3beaa877b3ca"
   }
  }
 },
 "nbformat": 4,
 "nbformat_minor": 2
}
