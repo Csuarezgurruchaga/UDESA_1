{
 "cells": [
  {
   "attachments": {},
   "cell_type": "markdown",
   "metadata": {},
   "source": [
    "<a id=\"indice\"></a> \n",
    "## Índice de la notebook\n",
    "\n",
    "[1) BUILDING TENSORS](#1)\n",
    "\n",
    "[2) BASIC OPERATIONS IN PYTORCH](#2)\n",
    "\n",
    "[3) SLICING IN PYTORCH](#3)\n",
    "\n",
    "[4) NUMPY AND PYTORCH](#4)\n",
    "\n",
    "[5) USING GPU IN PYTORCH](#5)\n",
    "\n",
    "[6) GRADIENTS IN PYTORCH](#6)\n",
    "\n",
    "[7) BACKPROPAGATION](#7)\n",
    "\n",
    "[8) OPTIMAZATION AND OPTIMAZERS](#8)\n",
    "\n",
    "[9) GENERAL TRAINING PIPELINE](#9)\n",
    "\n",
    "[10) IMPLEMENTING LINEAR REGRESSION (REGRESSION)](#10)\n",
    "\n",
    "[11) IMPLEMENTING LOGISTIC REGRESSION (CLASSIFICATION)](#11)\n",
    "\n",
    "[12) DATASETS AND DATALOADERS CLASSES](#12)\n",
    "\n",
    "[13) DATASETS TRANSFORMS](#13)\n",
    "\n",
    "[14) SOFTMAX AND CROSS-ENTROPY](#14) <br>\n",
    "        - [BINARY CLASS CLASSIFICATION PROBLEMS](#15) <br>\n",
    "        - [MULTI CLASS CLASSIFICATION PROBLEMS](#16)\n",
    "\n",
    "[15) FEED FORWARD NETWORKS](#17)\n",
    "\n",
    "[16) CONVOLUTIONAL NEURAL NET (CNN)](#18)\n",
    "\n",
    "[17) TENSORBOARD WITH PYTORCH](#19)\n",
    "\n",
    "[18) SAVING AND LOADING MODELS](#20)\n"
   ]
  },
  {
   "attachments": {},
   "cell_type": "markdown",
   "metadata": {},
   "source": [
    "<a id=\"1\"></a> \n",
    "### 1) BUILDING TENSORS\n",
    "\n",
    "[Ir a índice](#indice)"
   ]
  },
  {
   "cell_type": "code",
   "execution_count": 1,
   "metadata": {},
   "outputs": [
    {
     "ename": "KeyboardInterrupt",
     "evalue": "",
     "output_type": "error",
     "traceback": [
      "\u001b[0;31m---------------------------------------------------------------------------\u001b[0m",
      "\u001b[0;31mKeyboardInterrupt\u001b[0m                         Traceback (most recent call last)",
      "\u001b[1;32m/Users/csuarezgurruchaga/Desktop/UDESA/008_redes_neuronales/01_trabajos_practicos/intro_pytorch.ipynb Cell 3\u001b[0m in \u001b[0;36m<cell line: 1>\u001b[0;34m()\u001b[0m\n\u001b[0;32m----> <a href='vscode-notebook-cell:/Users/csuarezgurruchaga/Desktop/UDESA/008_redes_neuronales/01_trabajos_practicos/intro_pytorch.ipynb#W2sZmlsZQ%3D%3D?line=0'>1</a>\u001b[0m \u001b[39mimport\u001b[39;00m \u001b[39mtorch\u001b[39;00m \n\u001b[1;32m      <a href='vscode-notebook-cell:/Users/csuarezgurruchaga/Desktop/UDESA/008_redes_neuronales/01_trabajos_practicos/intro_pytorch.ipynb#W2sZmlsZQ%3D%3D?line=2'>3</a>\u001b[0m x \u001b[39m=\u001b[39m torch\u001b[39m.\u001b[39mempty(\u001b[39m2\u001b[39m,\u001b[39m2\u001b[39m,\u001b[39m3\u001b[39m)\n\u001b[1;32m      <a href='vscode-notebook-cell:/Users/csuarezgurruchaga/Desktop/UDESA/008_redes_neuronales/01_trabajos_practicos/intro_pytorch.ipynb#W2sZmlsZQ%3D%3D?line=3'>4</a>\u001b[0m x\n",
      "File \u001b[0;32m~/opt/anaconda3/envs/redes/lib/python3.8/site-packages/torch/__init__.py:219\u001b[0m, in \u001b[0;36m<module>\u001b[0;34m\u001b[0m\n\u001b[1;32m    208\u001b[0m \u001b[39melse\u001b[39;00m:\n\u001b[1;32m    209\u001b[0m     \u001b[39m# Easy way.  You want this most of the time, because it will prevent\u001b[39;00m\n\u001b[1;32m    210\u001b[0m     \u001b[39m# C++ symbols from libtorch clobbering C++ symbols from other\u001b[39;00m\n\u001b[0;32m   (...)\u001b[0m\n\u001b[1;32m    216\u001b[0m     \u001b[39m#\u001b[39;00m\n\u001b[1;32m    217\u001b[0m     \u001b[39m# See Note [Global dependencies]\u001b[39;00m\n\u001b[1;32m    218\u001b[0m     \u001b[39mif\u001b[39;00m USE_GLOBAL_DEPS:\n\u001b[0;32m--> 219\u001b[0m         _load_global_deps()\n\u001b[1;32m    220\u001b[0m     \u001b[39mfrom\u001b[39;00m \u001b[39mtorch\u001b[39;00m\u001b[39m.\u001b[39;00m\u001b[39m_C\u001b[39;00m \u001b[39mimport\u001b[39;00m \u001b[39m*\u001b[39m  \u001b[39m# noqa: F403\u001b[39;00m\n\u001b[1;32m    222\u001b[0m \u001b[39m# Appease the type checker; ordinarily this binding is inserted by the\u001b[39;00m\n\u001b[1;32m    223\u001b[0m \u001b[39m# torch._C module initialization code in C\u001b[39;00m\n",
      "File \u001b[0;32m~/opt/anaconda3/envs/redes/lib/python3.8/site-packages/torch/__init__.py:174\u001b[0m, in \u001b[0;36m_load_global_deps\u001b[0;34m()\u001b[0m\n\u001b[1;32m    171\u001b[0m lib_path \u001b[39m=\u001b[39m os\u001b[39m.\u001b[39mpath\u001b[39m.\u001b[39mjoin(os\u001b[39m.\u001b[39mpath\u001b[39m.\u001b[39mdirname(here), \u001b[39m'\u001b[39m\u001b[39mlib\u001b[39m\u001b[39m'\u001b[39m, lib_name)\n\u001b[1;32m    173\u001b[0m \u001b[39mtry\u001b[39;00m:\n\u001b[0;32m--> 174\u001b[0m     ctypes\u001b[39m.\u001b[39;49mCDLL(lib_path, mode\u001b[39m=\u001b[39;49mctypes\u001b[39m.\u001b[39;49mRTLD_GLOBAL)\n\u001b[1;32m    175\u001b[0m \u001b[39mexcept\u001b[39;00m \u001b[39mOSError\u001b[39;00m \u001b[39mas\u001b[39;00m err:\n\u001b[1;32m    176\u001b[0m     \u001b[39m# Can only happen of wheel with cublas as PYPI deps\u001b[39;00m\n\u001b[1;32m    177\u001b[0m     \u001b[39m# As PyTorch is not purelib, but nvidia-cublas-cu11 is\u001b[39;00m\n\u001b[1;32m    178\u001b[0m     \u001b[39mif\u001b[39;00m \u001b[39m'\u001b[39m\u001b[39mlibcublas.so.11\u001b[39m\u001b[39m'\u001b[39m \u001b[39mnot\u001b[39;00m \u001b[39min\u001b[39;00m err\u001b[39m.\u001b[39margs[\u001b[39m0\u001b[39m]:\n",
      "File \u001b[0;32m~/opt/anaconda3/envs/redes/lib/python3.8/ctypes/__init__.py:381\u001b[0m, in \u001b[0;36mCDLL.__init__\u001b[0;34m(self, name, mode, handle, use_errno, use_last_error, winmode)\u001b[0m\n\u001b[1;32m    378\u001b[0m \u001b[39mself\u001b[39m\u001b[39m.\u001b[39m_FuncPtr \u001b[39m=\u001b[39m _FuncPtr\n\u001b[1;32m    380\u001b[0m \u001b[39mif\u001b[39;00m handle \u001b[39mis\u001b[39;00m \u001b[39mNone\u001b[39;00m:\n\u001b[0;32m--> 381\u001b[0m     \u001b[39mself\u001b[39m\u001b[39m.\u001b[39m_handle \u001b[39m=\u001b[39m _dlopen(\u001b[39mself\u001b[39;49m\u001b[39m.\u001b[39;49m_name, mode)\n\u001b[1;32m    382\u001b[0m \u001b[39melse\u001b[39;00m:\n\u001b[1;32m    383\u001b[0m     \u001b[39mself\u001b[39m\u001b[39m.\u001b[39m_handle \u001b[39m=\u001b[39m handle\n",
      "\u001b[0;31mKeyboardInterrupt\u001b[0m: "
     ]
    }
   ],
   "source": [
    "import torch \n",
    "\n",
    "x = torch.empty(2,2,3)\n",
    "x"
   ]
  },
  {
   "cell_type": "code",
   "execution_count": null,
   "metadata": {},
   "outputs": [
    {
     "data": {
      "text/plain": [
       "tensor([[0.4484, 0.0385],\n",
       "        [0.1815, 0.4336]])"
      ]
     },
     "execution_count": 2,
     "metadata": {},
     "output_type": "execute_result"
    }
   ],
   "source": [
    "x = torch.rand(2,2)\n",
    "x"
   ]
  },
  {
   "cell_type": "code",
   "execution_count": null,
   "metadata": {},
   "outputs": [
    {
     "data": {
      "text/plain": [
       "tensor([[0., 0.],\n",
       "        [0., 0.]])"
      ]
     },
     "execution_count": 3,
     "metadata": {},
     "output_type": "execute_result"
    }
   ],
   "source": [
    "torch.zeros(2,2)"
   ]
  },
  {
   "cell_type": "code",
   "execution_count": null,
   "metadata": {},
   "outputs": [
    {
     "data": {
      "text/plain": [
       "torch.float32"
      ]
     },
     "execution_count": 4,
     "metadata": {},
     "output_type": "execute_result"
    }
   ],
   "source": [
    "x = torch.ones(2,2)\n",
    "(x.dtype)"
   ]
  },
  {
   "cell_type": "code",
   "execution_count": null,
   "metadata": {},
   "outputs": [
    {
     "data": {
      "text/plain": [
       "torch.float64"
      ]
     },
     "execution_count": 5,
     "metadata": {},
     "output_type": "execute_result"
    }
   ],
   "source": [
    "# double its a float64 which its different from dtype = torch.float which is float 32\n",
    "x = torch.ones(2,2, dtype = torch.double)\n",
    "(x.dtype)"
   ]
  },
  {
   "cell_type": "code",
   "execution_count": null,
   "metadata": {},
   "outputs": [
    {
     "data": {
      "text/plain": [
       "torch.Size([2, 2])"
      ]
     },
     "execution_count": 6,
     "metadata": {},
     "output_type": "execute_result"
    }
   ],
   "source": [
    "x.size()"
   ]
  },
  {
   "cell_type": "code",
   "execution_count": null,
   "metadata": {},
   "outputs": [
    {
     "data": {
      "text/plain": [
       "tensor([2.5000, 0.7000], dtype=torch.float64)"
      ]
     },
     "execution_count": 7,
     "metadata": {},
     "output_type": "execute_result"
    }
   ],
   "source": [
    "torch.tensor([2.5, 0.7], dtype = torch.double)"
   ]
  },
  {
   "attachments": {},
   "cell_type": "markdown",
   "metadata": {},
   "source": [
    "<a id=\"2\"></a> \n",
    "### 2) BASIC OPERATIONS IN PYTORCH\n",
    "[Ir a índice](#indice)\n",
    "\n"
   ]
  },
  {
   "cell_type": "code",
   "execution_count": null,
   "metadata": {},
   "outputs": [
    {
     "data": {
      "text/plain": [
       "(tensor([[0.9666, 0.8989],\n",
       "         [0.6205, 0.7627]]),\n",
       " tensor([[0.7642, 0.7215],\n",
       "         [0.3198, 0.2377]]))"
      ]
     },
     "execution_count": 8,
     "metadata": {},
     "output_type": "execute_result"
    }
   ],
   "source": [
    "x = torch.rand(2,2)\n",
    "y = torch.rand(2,2)\n",
    "x, y"
   ]
  },
  {
   "cell_type": "code",
   "execution_count": null,
   "metadata": {},
   "outputs": [
    {
     "data": {
      "text/plain": [
       "tensor([[1.7308, 1.6204],\n",
       "        [0.9403, 1.0004]])"
      ]
     },
     "execution_count": 9,
     "metadata": {},
     "output_type": "execute_result"
    }
   ],
   "source": [
    "z = x + y\n",
    "z = torch.add(x,y)\n",
    "z"
   ]
  },
  {
   "cell_type": "code",
   "execution_count": null,
   "metadata": {},
   "outputs": [
    {
     "name": "stdout",
     "output_type": "stream",
     "text": [
      "tensor([[0.7642, 0.7215],\n",
      "        [0.3198, 0.2377]])\n",
      "new tensor with x added: \n",
      "tensor([[1.7308, 1.6204],\n",
      "        [0.9403, 1.0004]])\n"
     ]
    }
   ],
   "source": [
    "print(y)\n",
    "y.add_(x) # Each function in pytorch which has '_' will do an Inplace Operation\n",
    "# will update the value each.\n",
    "\n",
    "print(f'new tensor with x added: \\n{y}')"
   ]
  },
  {
   "cell_type": "code",
   "execution_count": null,
   "metadata": {},
   "outputs": [
    {
     "data": {
      "text/plain": [
       "tensor([[-0.7642, -0.7215],\n",
       "        [-0.3198, -0.2377]])"
      ]
     },
     "execution_count": 11,
     "metadata": {},
     "output_type": "execute_result"
    }
   ],
   "source": [
    "z = x - y\n",
    "z = torch.sub(x, y)\n",
    "z"
   ]
  },
  {
   "cell_type": "code",
   "execution_count": null,
   "metadata": {},
   "outputs": [
    {
     "data": {
      "text/plain": [
       "tensor([[1.6730, 1.4565],\n",
       "        [0.5835, 0.7630]])"
      ]
     },
     "execution_count": 12,
     "metadata": {},
     "output_type": "execute_result"
    }
   ],
   "source": [
    "z = x * y\n",
    "z = torch.mul(x,y)\n",
    "z"
   ]
  },
  {
   "cell_type": "code",
   "execution_count": null,
   "metadata": {},
   "outputs": [
    {
     "data": {
      "text/plain": [
       "tensor([[1.6730, 1.4565],\n",
       "        [0.5835, 0.7630]])"
      ]
     },
     "execution_count": 13,
     "metadata": {},
     "output_type": "execute_result"
    }
   ],
   "source": [
    "x.mul_(y)"
   ]
  },
  {
   "cell_type": "code",
   "execution_count": null,
   "metadata": {},
   "outputs": [
    {
     "data": {
      "text/plain": [
       "tensor([[0.9666, 0.8989],\n",
       "        [0.6205, 0.7627]])"
      ]
     },
     "execution_count": 14,
     "metadata": {},
     "output_type": "execute_result"
    }
   ],
   "source": [
    "z = x / y\n",
    "z = torch.div(x,y)\n",
    "z"
   ]
  },
  {
   "attachments": {},
   "cell_type": "markdown",
   "metadata": {},
   "source": [
    "<a id=\"3\"></a> \n",
    "### 3) SLICING IN PYTORCH\n",
    "[Ir a índice](#indice)\n"
   ]
  },
  {
   "cell_type": "code",
   "execution_count": null,
   "metadata": {},
   "outputs": [
    {
     "name": "stdout",
     "output_type": "stream",
     "text": [
      "tensor([[0.7110, 0.0704],\n",
      "        [0.8379, 0.0723],\n",
      "        [0.0887, 0.2006],\n",
      "        [0.9964, 0.0470],\n",
      "        [0.8094, 0.5816]])\n",
      "Only print the first column and all the rows: \n",
      "tensor([0.7110, 0.8379, 0.0887, 0.9964, 0.8094])\n",
      "\n",
      "Only print the second row and all the columns: \n",
      "tensor([0.8379, 0.0723])\n"
     ]
    }
   ],
   "source": [
    "x = torch.rand(5, 2)\n",
    "print(x)\n",
    "\n",
    "print(f'Only print the first column and all the rows: \\n{x[:,0]}')\n",
    "print(f'\\nOnly print the second row and all the columns: \\n{x[1,:]}')"
   ]
  },
  {
   "cell_type": "code",
   "execution_count": null,
   "metadata": {},
   "outputs": [
    {
     "data": {
      "text/plain": [
       "0.07225489616394043"
      ]
     },
     "execution_count": 16,
     "metadata": {},
     "output_type": "execute_result"
    }
   ],
   "source": [
    "x[1,1].item() # para seleccionar "
   ]
  },
  {
   "cell_type": "code",
   "execution_count": null,
   "metadata": {},
   "outputs": [
    {
     "name": "stdout",
     "output_type": "stream",
     "text": [
      "tensor([[0.6450, 0.6242, 0.8454, 0.2802],\n",
      "        [0.4245, 0.1617, 0.9815, 0.0456],\n",
      "        [0.5908, 0.6886, 0.1957, 0.0879],\n",
      "        [0.9852, 0.1074, 0.9075, 0.4201]])\n",
      "\n",
      "\n",
      "tensor([0.6450, 0.6242, 0.8454, 0.2802, 0.4245, 0.1617, 0.9815, 0.0456, 0.5908,\n",
      "        0.6886, 0.1957, 0.0879, 0.9852, 0.1074, 0.9075, 0.4201])\n"
     ]
    }
   ],
   "source": [
    "x = torch.rand(4,4)\n",
    "print(x)\n",
    "print('\\n')\n",
    "y = x.view(16) #reshape\n",
    "print(y)"
   ]
  },
  {
   "cell_type": "code",
   "execution_count": null,
   "metadata": {},
   "outputs": [
    {
     "data": {
      "text/plain": [
       "torch.Size([8, 2])"
      ]
     },
     "execution_count": 18,
     "metadata": {},
     "output_type": "execute_result"
    }
   ],
   "source": [
    "y = x.view(-1, 2) #reshape, if we put '-1', and one of the dimentions,\n",
    "                  # pytorch will automatically determinate the right size\n",
    "y.shape"
   ]
  },
  {
   "attachments": {},
   "cell_type": "markdown",
   "metadata": {},
   "source": [
    "<a id=\"4\"></a>\n",
    "### 4) NUMPY AND PYTORCH\n",
    "[Ir a índice](#indice)"
   ]
  },
  {
   "cell_type": "code",
   "execution_count": null,
   "metadata": {},
   "outputs": [
    {
     "name": "stdout",
     "output_type": "stream",
     "text": [
      "<class 'torch.Tensor'>\n",
      "<class 'numpy.ndarray'>\n"
     ]
    }
   ],
   "source": [
    "import numpy as np\n",
    "\n",
    "a = torch.ones(5)\n",
    "print(type(a))\n",
    "\n",
    "\n",
    "b = a.numpy()\n",
    "print(type(b))"
   ]
  },
  {
   "cell_type": "code",
   "execution_count": null,
   "metadata": {},
   "outputs": [
    {
     "data": {
      "text/plain": [
       "tensor([1., 1., 1., 1., 1.], dtype=torch.float64)"
      ]
     },
     "execution_count": 20,
     "metadata": {},
     "output_type": "execute_result"
    }
   ],
   "source": [
    "a = np.ones(5)\n",
    "b = torch.from_numpy(a)\n",
    "b"
   ]
  },
  {
   "attachments": {},
   "cell_type": "markdown",
   "metadata": {},
   "source": [
    "<a id=\"5\"></a> \n",
    "### 5) USING GPU IN PYTORCH\n",
    "[Ir a índice](#indice)"
   ]
  },
  {
   "cell_type": "code",
   "execution_count": null,
   "metadata": {},
   "outputs": [],
   "source": [
    "\n",
    "# FOR WINDOWS\n",
    "if torch.cuda.is_available(): # Check if there is an GPU avaible\n",
    "    device=torch.device(\"cuda\")\n",
    "    x = torch.ones(5, device = device) # this creates a tensor and put it in the GPU\n",
    "    \n",
    "    y = torch.ones(5)\n",
    "    y = y.to(device) # move the tensor to the device (GPU)\n",
    "    \n",
    "# If we want to convert a tensor to numpy array, we have first to send it to cpu, numpy does't work on gpu\n",
    "\n",
    "    z = x + y\n",
    "    z = z.to(\"cpu\")"
   ]
  },
  {
   "attachments": {},
   "cell_type": "markdown",
   "metadata": {},
   "source": [
    "<a id=\"6\"></a> \n",
    "### 6) GRADIENTS IN PYTORCH\n",
    "[Ir a índice](#indice)"
   ]
  },
  {
   "cell_type": "code",
   "execution_count": null,
   "metadata": {},
   "outputs": [
    {
     "data": {
      "text/plain": [
       "tensor([1., 1., 1., 1., 1.], dtype=torch.float64, requires_grad=True)"
      ]
     },
     "execution_count": 22,
     "metadata": {},
     "output_type": "execute_result"
    }
   ],
   "source": [
    "x = torch.ones(5, requires_grad= True, dtype= torch.double)\n",
    "x"
   ]
  },
  {
   "cell_type": "code",
   "execution_count": null,
   "metadata": {},
   "outputs": [
    {
     "data": {
      "text/plain": [
       "tensor([1.5796, 4.3735, 0.1492], grad_fn=<AddBackward0>)"
      ]
     },
     "execution_count": 23,
     "metadata": {},
     "output_type": "execute_result"
    }
   ],
   "source": [
    "x = torch.randn(3, requires_grad = True) # random normal distribution istead uniform\n",
    "\n",
    "y = x + 2\n",
    "y"
   ]
  },
  {
   "cell_type": "code",
   "execution_count": null,
   "metadata": {},
   "outputs": [
    {
     "data": {
      "text/plain": [
       "tensor(14.4300, grad_fn=<MeanBackward0>)"
      ]
     },
     "execution_count": 24,
     "metadata": {},
     "output_type": "execute_result"
    }
   ],
   "source": [
    "z = y*y*2\n",
    "z = z.mean()\n",
    "z"
   ]
  },
  {
   "cell_type": "code",
   "execution_count": null,
   "metadata": {},
   "outputs": [
    {
     "data": {
      "text/plain": [
       "tensor([2.1062, 5.8313, 0.1989])"
      ]
     },
     "execution_count": 25,
     "metadata": {},
     "output_type": "execute_result"
    }
   ],
   "source": [
    "z.backward() # dz/dx (note: only works if \"z\" is scalar)\n",
    "# each time we call the .backward() method the gradient will be sum up the last value calculated\n",
    "\n",
    "x.grad #dz/dx"
   ]
  },
  {
   "cell_type": "code",
   "execution_count": null,
   "metadata": {},
   "outputs": [
    {
     "data": {
      "text/plain": [
       "tensor([-0.4204,  2.3735, -1.8508])"
      ]
     },
     "execution_count": 26,
     "metadata": {},
     "output_type": "execute_result"
    }
   ],
   "source": [
    "# To deatach the tracking of the gradiant in pytorch\n",
    "# 3 ways\n",
    "# 1: x.requires_grad_(False)\n",
    "# 2: x.detach()\n",
    "# 3: with torch.no_grad():\n",
    "\n",
    "x.requires_grad_(False)"
   ]
  },
  {
   "cell_type": "code",
   "execution_count": null,
   "metadata": {},
   "outputs": [
    {
     "data": {
      "text/plain": [
       "tensor([-0.4204,  2.3735, -1.8508])"
      ]
     },
     "execution_count": 27,
     "metadata": {},
     "output_type": "execute_result"
    }
   ],
   "source": [
    "y = x.detach() # creates a new vector with the same values but not requires gradient\n",
    "y"
   ]
  },
  {
   "cell_type": "code",
   "execution_count": null,
   "metadata": {},
   "outputs": [
    {
     "name": "stdout",
     "output_type": "stream",
     "text": [
      "tensor([1.5796, 4.3735, 0.1492])\n"
     ]
    }
   ],
   "source": [
    "with torch.no_grad():\n",
    "    y = x + 2\n",
    "    print(y) # here we see that our y doesn't have the gradient."
   ]
  },
  {
   "cell_type": "code",
   "execution_count": null,
   "metadata": {},
   "outputs": [
    {
     "name": "stdout",
     "output_type": "stream",
     "text": [
      "tensor([3., 3., 3., 3.])\n",
      "tensor([6., 6., 6., 6.])\n",
      "tensor([9., 9., 9., 9.])\n",
      "tensor([12., 12., 12., 12.])\n"
     ]
    }
   ],
   "source": [
    "# HERE WE SEE HOW THE .backward() METHOD ADD UP THE GRADIENTS\n",
    "weights = torch.ones(4, requires_grad = True)\n",
    "\n",
    "for epoch in range(4):\n",
    "    model_output = (weights * 3).sum()\n",
    "    model_output.backward()\n",
    "    print(weights.grad)"
   ]
  },
  {
   "cell_type": "code",
   "execution_count": null,
   "metadata": {},
   "outputs": [
    {
     "name": "stdout",
     "output_type": "stream",
     "text": [
      "tensor([3., 3., 3., 3.])\n",
      "tensor([3., 3., 3., 3.])\n",
      "tensor([3., 3., 3., 3.])\n",
      "tensor([3., 3., 3., 3.])\n"
     ]
    }
   ],
   "source": [
    "# SOLUTION\n",
    "weights = torch.ones(4, requires_grad = True)\n",
    "\n",
    "for epoch in range(4):\n",
    "    model_output = (weights * 3).sum()\n",
    "    model_output.backward()\n",
    "    print(weights.grad)\n",
    "    weights.grad.zero_() # ERASE THE GRADIENT FROM A VARIABLE"
   ]
  },
  {
   "attachments": {},
   "cell_type": "markdown",
   "metadata": {},
   "source": [
    "<a id=\"7\"></a> \n",
    "### 7) BACKPROPAGATION\n",
    "[Ir a índice](#indice)"
   ]
  },
  {
   "cell_type": "code",
   "execution_count": null,
   "metadata": {},
   "outputs": [
    {
     "name": "stdout",
     "output_type": "stream",
     "text": [
      "tensor(1., grad_fn=<PowBackward0>)\n",
      "tensor(-2.)\n"
     ]
    }
   ],
   "source": [
    "x = torch.tensor(1.)\n",
    "y = torch.tensor(2.)\n",
    "\n",
    "w = torch.tensor(1., requires_grad = True)\n",
    "\n",
    "# forward pass and compute the loss\n",
    "y_hat = w * x\n",
    "loss = (y - y_hat)**2\n",
    "\n",
    "print(loss)\n",
    "\n",
    "# backward pass\n",
    "loss.backward()\n",
    "print(w.grad) #dloss/dw (returns the value in the leaf node)\n",
    "\n",
    "### update the weights\n",
    "### next forward and backward passes"
   ]
  },
  {
   "attachments": {},
   "cell_type": "markdown",
   "metadata": {},
   "source": [
    "<a id=\"8\"></a> \n",
    "### 8)OPTIMAZATION AND OPTIMAZERS<br>\n",
    "GRADIENTS OPTIMIZATION FROM SCRATCH USING NUMPY\n",
    "\n",
    "[Ir a índice](#indice)"
   ]
  },
  {
   "cell_type": "code",
   "execution_count": null,
   "metadata": {},
   "outputs": [
    {
     "name": "stdout",
     "output_type": "stream",
     "text": [
      "Prediction before training: f(5): 0.000\n",
      "epoch1 : w = 1.200, loss = 30.00000000\n",
      "epoch2 : w = 1.680, loss = 4.79999924\n",
      "epoch3 : w = 1.872, loss = 0.76800019\n",
      "epoch4 : w = 1.949, loss = 0.12288000\n",
      "epoch5 : w = 1.980, loss = 0.01966083\n",
      "epoch6 : w = 1.992, loss = 0.00314570\n",
      "epoch7 : w = 1.997, loss = 0.00050332\n",
      "epoch8 : w = 1.999, loss = 0.00008053\n",
      "epoch9 : w = 1.999, loss = 0.00001288\n",
      "epoch10 : w = 2.000, loss = 0.00000206\n",
      "Prediction after training: f(5): 9.999\n"
     ]
    }
   ],
   "source": [
    "import numpy as np\n",
    "\n",
    "# f = w * x\n",
    "# f = 2 * x\n",
    "\n",
    "X = np.array([1, 2, 3, 4], dtype = np.float32)\n",
    "Y = np.array([2, 4, 6, 8], dtype = np.float32)\n",
    "\n",
    "w = 0.\n",
    "\n",
    "# model prediction\n",
    "def forward(x):\n",
    "    return w * x\n",
    "\n",
    "# loss = MSE\n",
    "def loss(y, y_predicted):\n",
    "    return ((y_predicted - y)**2).mean()\n",
    "\n",
    "# gradient\n",
    "# MSE = 1/N * (y - w*x)**2\n",
    "# dJ/dw = 2*x * 1/N * (y - w*x)\n",
    "def gradient(x, y, y_predicted):\n",
    "    return (np.dot(2*x, y_predicted - y)).mean()\n",
    "\n",
    "print(f'Prediction before training: f(5): {forward(5):.3f}')\n",
    "\n",
    "# Training\n",
    "learning_rate = 1e-2\n",
    "n_iter = 10\n",
    "\n",
    "for epoch in range(n_iter):\n",
    "    # prediction = forward pass\n",
    "    y_pred = forward(X)\n",
    "\n",
    "    # loss\n",
    "    l = loss(Y, y_pred)\n",
    "    \n",
    "    # gradients = backward pass\n",
    "    dw = gradient(X, Y, y_pred)\n",
    "    \n",
    "    # update weights\n",
    "    w = w - (learning_rate * dw) # w -= learning_rate * dw\n",
    "    \n",
    "    if epoch % 1 == 0:\n",
    "        print(f'epoch{epoch + 1} : w = {w:.3f}, loss = {l:.8f}')\n",
    "        \n",
    "print(f'Prediction after training: f(5): {forward(5):.3f}')        \n",
    "    "
   ]
  },
  {
   "attachments": {},
   "cell_type": "markdown",
   "metadata": {},
   "source": [
    "### NOW WITH PYTORCH"
   ]
  },
  {
   "cell_type": "code",
   "execution_count": null,
   "metadata": {},
   "outputs": [
    {
     "name": "stdout",
     "output_type": "stream",
     "text": [
      "Prediction before training: f(5): tensor([0.], grad_fn=<MulBackward0>)\n",
      "epoch1 : w = tensor([0.3000], requires_grad=True), loss = 30.00000000\n",
      "epoch11 : w = tensor([1.6653], requires_grad=True), loss = 1.16278565\n",
      "epoch21 : w = tensor([1.9341], requires_grad=True), loss = 0.04506890\n",
      "epoch31 : w = tensor([1.9870], requires_grad=True), loss = 0.00174685\n",
      "epoch41 : w = tensor([1.9974], requires_grad=True), loss = 0.00006770\n",
      "epoch51 : w = tensor([1.9995], requires_grad=True), loss = 0.00000262\n",
      "epoch61 : w = tensor([1.9999], requires_grad=True), loss = 0.00000010\n",
      "epoch71 : w = tensor([2.0000], requires_grad=True), loss = 0.00000000\n",
      "epoch81 : w = tensor([2.0000], requires_grad=True), loss = 0.00000000\n",
      "epoch91 : w = tensor([2.0000], requires_grad=True), loss = 0.00000000\n",
      "Prediction after training: f(5): 9.999998092651367\n"
     ]
    }
   ],
   "source": [
    "import torch\n",
    "\n",
    "# f = w * x\n",
    "# f = 2 * x\n",
    "\n",
    "X = torch.tensor([1, 2, 3, 4], dtype = torch.float32)\n",
    "Y = torch.tensor([2, 4, 6, 8], dtype = torch.float32)\n",
    "\n",
    "w = torch.tensor([0.], dtype = torch.float32, requires_grad = True)\n",
    "\n",
    "# model prediction\n",
    "def forward(x):\n",
    "    return w * x\n",
    "\n",
    "# loss = MSE\n",
    "def loss(y, y_predicted):\n",
    "    return ((y_predicted - y)**2).mean()\n",
    "\n",
    "print(f'Prediction before training: f(5): {forward(5)}')\n",
    "\n",
    "# Training\n",
    "learning_rate = 1e-2\n",
    "n_iter = 100\n",
    "\n",
    "for epoch in range(n_iter):\n",
    "    # prediction = forward pass\n",
    "    y_pred = forward(X)\n",
    "\n",
    "    # loss\n",
    "    l = loss(Y, y_pred)\n",
    "    \n",
    "    # gradients = backward pass\n",
    "    l.backward() # dl/dw\n",
    "    \n",
    "    # update weights\n",
    "    with torch.no_grad():    \n",
    "        w -= learning_rate * w.grad\n",
    "        \n",
    "    # zero gradients\n",
    "    w.grad.zero_()\n",
    "    \n",
    "    if epoch % 10 == 0:\n",
    "        print(f'epoch{epoch + 1} : w = {w}, loss = {l:.8f}')\n",
    "        \n",
    "print(f'Prediction after training: f(5): {forward(5).item()}')        "
   ]
  },
  {
   "attachments": {},
   "cell_type": "markdown",
   "metadata": {},
   "source": [
    "<a id=\"9\"></a> \n",
    "### 9)GENERAL TRAINING PIPELINE<br>\n",
    "- **1) Desing model (input, output size, forward pass)**\n",
    "- **2) Construct loss and optimizer**\n",
    "- **3) Training loop**\n",
    "\n",
    "    - **a) forward pass and loss calculation:** compute the prediction and the loss value\n",
    "    - **b) backward pass:** calculate the gradients\n",
    "    - **c) update the weights** `optimizer.step()`,and reset the gradient `optimizer.zero_grad()`\n",
    "\n",
    "\n",
    "Now instead of using our loss function, we will  `import torch.nn as nn` and get the loss function from there.\n",
    "\n",
    "And we will use the optimizer provided from `torch.optim.SGD()` instead of actualize the weights by hand:\n",
    "\n",
    "    - update weights : optimizer.step()    \n",
    "    - zero gradients: optimizer.zero_grad()\n",
    "\n",
    "[Ir a índice](#indice)"
   ]
  },
  {
   "cell_type": "code",
   "execution_count": null,
   "metadata": {},
   "outputs": [
    {
     "name": "stdout",
     "output_type": "stream",
     "text": [
      "Prediction before training: f(5): tensor([0.], grad_fn=<MulBackward0>)\n",
      "epoch1 : w = tensor([0.3000], requires_grad=True), loss = 30.00000000\n",
      "epoch11 : w = tensor([1.6653], requires_grad=True), loss = 1.16278565\n",
      "epoch21 : w = tensor([1.9341], requires_grad=True), loss = 0.04506890\n",
      "epoch31 : w = tensor([1.9870], requires_grad=True), loss = 0.00174685\n",
      "epoch41 : w = tensor([1.9974], requires_grad=True), loss = 0.00006770\n",
      "epoch51 : w = tensor([1.9995], requires_grad=True), loss = 0.00000262\n",
      "epoch61 : w = tensor([1.9999], requires_grad=True), loss = 0.00000010\n",
      "epoch71 : w = tensor([2.0000], requires_grad=True), loss = 0.00000000\n",
      "epoch81 : w = tensor([2.0000], requires_grad=True), loss = 0.00000000\n",
      "epoch91 : w = tensor([2.0000], requires_grad=True), loss = 0.00000000\n",
      "Prediction after training: f(5): 9.999998092651367\n"
     ]
    }
   ],
   "source": [
    "import torch\n",
    "import torch.nn as nn\n",
    "\n",
    "# f = w * x\n",
    "# f = 2 * x\n",
    "\n",
    "X = torch.tensor([1, 2, 3, 4], dtype = torch.float32)\n",
    "Y = torch.tensor([2, 4, 6, 8], dtype = torch.float32)\n",
    "\n",
    "w = torch.tensor([0.], dtype = torch.float32, requires_grad = True)\n",
    "\n",
    "# model prediction\n",
    "def forward(x):\n",
    "    return w * x\n",
    "\n",
    "\n",
    "print(f'Prediction before training: f(5): {forward(5)}')\n",
    "\n",
    "# Training\n",
    "learning_rate = 1e-2\n",
    "n_iter = 100\n",
    "\n",
    "loss = nn.MSELoss() #MSE\n",
    "optimizer = torch.optim.SGD([w], lr = learning_rate)\n",
    "\n",
    "for epoch in range(n_iter):\n",
    "    # prediction = forward pass\n",
    "    y_pred = forward(X)\n",
    "\n",
    "    # loss\n",
    "    l = loss(Y, y_pred)\n",
    "    \n",
    "    # gradients = backward pass\n",
    "    l.backward() # dl/dw\n",
    "    \n",
    "    # update weights\n",
    "    optimizer.step()\n",
    "        \n",
    "    # zero gradients\n",
    "    optimizer.zero_grad()\n",
    "    \n",
    "    if epoch % 10 == 0:\n",
    "        print(f'epoch{epoch + 1} : w = {w}, loss = {l:.8f}')\n",
    "        \n",
    "print(f'Prediction after training: f(5): {forward(5).item()}')      "
   ]
  },
  {
   "attachments": {},
   "cell_type": "markdown",
   "metadata": {},
   "source": [
    "## Now we will replace our manually forward implementation\n",
    "\n",
    "now, we dont need w = 0, because the model already knows the initialization of the weights\n",
    "\n",
    "n_samples, n_features = X.shape[0], X.shape[1]\n",
    "\n",
    "input_size = n_features\n",
    "\n",
    "output_size = n_features\n",
    "\n",
    "model = nn.Linear(in_features = input_size, out_features= output_size)\n",
    "\n",
    "\n",
    "optimizer = torch.optim.SGD(model.parameters(), lr = learning_rate)"
   ]
  },
  {
   "cell_type": "code",
   "execution_count": null,
   "metadata": {},
   "outputs": [
    {
     "name": "stdout",
     "output_type": "stream",
     "text": [
      "Prediction before training: f(5): 2.185\n",
      "epoch1 : w = 0.850, loss = 21.05941010\n",
      "epoch11 : w = 1.898, loss = 0.55876809\n",
      "epoch21 : w = 2.064, loss = 0.02755787\n",
      "epoch31 : w = 2.088, loss = 0.01305160\n",
      "epoch41 : w = 2.090, loss = 0.01195816\n",
      "epoch51 : w = 2.088, loss = 0.01125349\n",
      "epoch61 : w = 2.085, loss = 0.01059824\n",
      "epoch71 : w = 2.083, loss = 0.00998138\n",
      "epoch81 : w = 2.080, loss = 0.00940039\n",
      "epoch91 : w = 2.078, loss = 0.00885325\n",
      "Prediction after training: f(5): 10.157\n"
     ]
    }
   ],
   "source": [
    "import torch\n",
    "import torch.nn as nn\n",
    "\n",
    "# f = w * x\n",
    "# f = 2 * x\n",
    "\n",
    "X = torch.tensor([[1], [2], [3], [4]], dtype = torch.float32)\n",
    "Y = torch.tensor([[2], [4], [6], [8]], dtype = torch.float32)\n",
    "\n",
    "X_test = torch.tensor([5.])\n",
    "n_samples, n_features = X.shape[0], X.shape[1]\n",
    "# print(n_samples, n_features)\n",
    "\n",
    "input_size = n_features\n",
    "output_size = n_features\n",
    "model = nn.Linear(in_features = input_size, out_features= output_size)\n",
    "\n",
    "print(f'Prediction before training: f(5): {model(X_test).item():.3f}')\n",
    "\n",
    "# Training\n",
    "learning_rate = 1e-2\n",
    "n_iter = 100\n",
    "\n",
    "loss = nn.MSELoss() #MSE\n",
    "optimizer = torch.optim.SGD(model.parameters(), lr = learning_rate)\n",
    "\n",
    "for epoch in range(n_iter):\n",
    "    # prediction = forward pass\n",
    "    y_pred = model(X)\n",
    "\n",
    "    # loss\n",
    "    l = loss(Y, y_pred)\n",
    "    \n",
    "    # gradients = backward pass\n",
    "    l.backward() # dl/dw\n",
    "    \n",
    "    # update weights\n",
    "    optimizer.step()\n",
    "        \n",
    "    # zero gradients\n",
    "    optimizer.zero_grad()\n",
    "    \n",
    "    if epoch % 10 == 0:\n",
    "        [w, bias] = model.parameters()\n",
    "        print(f'epoch{epoch + 1} : w = {w[0][0].item():.3f}, loss = {l:.8f}')\n",
    "        \n",
    "print(f'Prediction after training: f(5): {model(X_test).item():.3f}')"
   ]
  },
  {
   "attachments": {},
   "cell_type": "markdown",
   "metadata": {},
   "source": [
    "<a id=\"10\"></a> \n",
    "### 10)IMPLEMENTING LINEAR REGRESSION (REGRESSION)<br>\n",
    "\n",
    "\n",
    "[Ir a índice](#indice)"
   ]
  },
  {
   "cell_type": "code",
   "execution_count": null,
   "metadata": {},
   "outputs": [],
   "source": [
    "import torch\n",
    "import torch.nn as nn\n",
    "import numpy as np\n",
    "from sklearn import datasets\n",
    "import matplotlib.pyplot as plt"
   ]
  },
  {
   "cell_type": "code",
   "execution_count": null,
   "metadata": {},
   "outputs": [
    {
     "name": "stdout",
     "output_type": "stream",
     "text": [
      "epoch:99, loss: 566.4654\n",
      "epoch:199, loss: 342.6889\n",
      "epoch:299, loss: 333.0143\n",
      "epoch:399, loss: 332.5874\n",
      "epoch:499, loss: 332.5685\n",
      "epoch:599, loss: 332.5676\n",
      "epoch:699, loss: 332.5675\n",
      "epoch:799, loss: 332.5676\n",
      "epoch:899, loss: 332.5676\n",
      "epoch:999, loss: 332.5676\n"
     ]
    },
    {
     "data": {
      "image/png": "[encoded data removed]",
      "text/plain": [
       "<Figure size 432x288 with 1 Axes>"
      ]
     },
     "metadata": {
      "needs_background": "light"
     },
     "output_type": "display_data"
    }
   ],
   "source": [
    "# 0) prepare data\n",
    "X_numpy, y_numpy = datasets.make_regression(n_samples=100, n_features= 1, noise= 20, random_state= 1)\n",
    "X, y = torch.tensor(X_numpy, dtype=torch.float32), torch.tensor(y_numpy, dtype = torch.float32)\n",
    "y = y.view(-1, 1) # == y.view(y.shape[0],1)\n",
    "\n",
    "n_sample, n_features = X.shape\n",
    "# 1) model\n",
    "input_size = n_features\n",
    "output_size = 1\n",
    "\n",
    "model = nn.Linear(in_features=input_size ,out_features=output_size)\n",
    "\n",
    "# 2) loss and optimizer\n",
    "learning_rate = 1e-2\n",
    "criterion = nn.MSELoss()\n",
    "optimizer = torch.optim.SGD(model.parameters(),lr = learning_rate)\n",
    "\n",
    "# 3) training loop\n",
    "num_epochs = 1000\n",
    "for epoch in range(num_epochs):\n",
    "    #forward pass and loss\n",
    "    y_pred = model(X)\n",
    "    loss = criterion(y_pred, y)   \n",
    "    \n",
    "    #backward pass\n",
    "    loss.backward()\n",
    "    \n",
    "    #update weights\n",
    "    optimizer.step()\n",
    "    \n",
    "    #reset the gradients\n",
    "    optimizer.zero_grad()\n",
    "    if (epoch + 1) % 100 ==0:\n",
    "        print(f'epoch:{epoch}, loss: {loss:.4f}')    \n",
    "        \n",
    "# plot\n",
    "predicted = model(X).detach() # require_grad = False, to plot\n",
    "plt.plot(X_numpy, y_numpy, 'ro')\n",
    "plt.plot(X_numpy, predicted, 'b')\n",
    "plt.title('DATA & LINEAR REGRESSION ESTIMATED')\n",
    "plt.show()"
   ]
  },
  {
   "attachments": {},
   "cell_type": "markdown",
   "metadata": {},
   "source": [
    "<a id=\"11\"></a> \n",
    "### 11)IMPLEMENTING LINEAR REGRESSION (REGRESSION)<br>\n",
    "\n",
    "\n",
    "[Ir a índice](#indice)"
   ]
  },
  {
   "cell_type": "code",
   "execution_count": null,
   "metadata": {},
   "outputs": [],
   "source": [
    "import torch\n",
    "import torch.nn as nn\n",
    "import numpy as np\n",
    "\n",
    "from sklearn import datasets\n",
    "from sklearn.preprocessing import StandardScaler\n",
    "from sklearn.model_selection import train_test_split"
   ]
  },
  {
   "cell_type": "code",
   "execution_count": null,
   "metadata": {},
   "outputs": [
    {
     "name": "stdout",
     "output_type": "stream",
     "text": [
      "epoch: 10, loss: 0.4372\n",
      "epoch: 20, loss: 0.3824\n",
      "epoch: 30, loss: 0.3434\n",
      "epoch: 40, loss: 0.3140\n",
      "epoch: 50, loss: 0.2909\n",
      "epoch: 60, loss: 0.2723\n",
      "epoch: 70, loss: 0.2568\n",
      "epoch: 80, loss: 0.2437\n",
      "epoch: 90, loss: 0.2324\n",
      "epoch: 100, loss: 0.2226\n",
      "accuracty = 0.9123\n"
     ]
    }
   ],
   "source": [
    "# STEPS:\n",
    "# 0) prepare the data\n",
    "bc = datasets.load_breast_cancer()\n",
    "X, y = bc.data, bc.target\n",
    "n_samples, n_features = X.shape\n",
    "X_train, X_test, y_train, y_test = train_test_split(X, y, test_size = .2, random_state=1234)\n",
    "\n",
    "#scaling features\n",
    "scaler = StandardScaler()\n",
    "\n",
    "X_train_std = scaler.fit_transform(X_train)\n",
    "X_test_std = scaler.transform(X_test)\n",
    "\n",
    "# transform to tensor X and y\n",
    "X_train_std = torch.tensor(X_train_std, dtype = torch.float32)\n",
    "X_test_std = torch.tensor(X_test_std, dtype = torch.float32)\n",
    "y_train = torch.tensor(y_train, dtype = torch.float32)\n",
    "y_test = torch.tensor(y_test, dtype = torch.float32)\n",
    "# reshaping our y vector, to be a column vector instead of a row vector\n",
    "y_train = y_train.view(-1, 1)\n",
    "y_test = y_test.view(-1, 1)\n",
    "# 1) model\n",
    "# f = w*x + b, sigmoid function at the end(activation function)\n",
    "class LogisticRegression(nn.Module):\n",
    "    \n",
    "    def __init__(self, n_input_features):\n",
    "        super(LogisticRegression, self).__init__()\n",
    "        self.linear = nn.Linear(n_input_features, 1)\n",
    "    \n",
    "    def forward(self, x):\n",
    "        y_predicted = torch.sigmoid(self.linear(x))\n",
    "        return y_predicted\n",
    "\n",
    "\n",
    "model = LogisticRegression(n_features)\n",
    "\n",
    "# 2) loss and optimizer\n",
    "criteria = nn.BCELoss() # Binary cross entropy loss function\n",
    "optimizer = torch.optim.SGD(model.parameters(), lr = 1e-2)\n",
    "# 3) training loop\n",
    "n_epochs = 100\n",
    "\n",
    "for epoch in range(n_epochs):\n",
    "    # forward pass and loss\n",
    "    y_predicted = model(X_train_std)\n",
    "    loss = criteria(y_predicted, y_train)\n",
    "    \n",
    "    # backward pass\n",
    "    loss.backward()\n",
    "    \n",
    "    # update the weights\n",
    "    optimizer.step()\n",
    "    \n",
    "    # zero gradients\n",
    "    optimizer.zero_grad()\n",
    "    \n",
    "    if (epoch + 1) % 10 == 0:\n",
    "        print(f'epoch: {epoch+1}, loss: {loss:.4f}')\n",
    "    \n",
    "# Evaluation\n",
    "# we dont want to track the graph for this part\n",
    "with torch.no_grad():\n",
    "    y_predicted = model(X_test_std)\n",
    "    #transform the probability results to the two labels (0, 1)\n",
    "    y_predicted_classes = y_predicted.round()\n",
    "    accuracy = (y_predicted_classes == y_test).sum()/y_test.shape[0]\n",
    "    print(f'accuracty = {accuracy:.4f}')"
   ]
  },
  {
   "attachments": {},
   "cell_type": "markdown",
   "metadata": {},
   "source": [
    "<a id=\"12\"></a> \n",
    "### 12)DATASETS AND DATALOADERS CLASSES<br>\n",
    "\n",
    "\n",
    "[Ir a índice](#indice)\n",
    "#### *Vocabulary*\n",
    "* epoch = 1 forward and backward pass of **ALL** training samples\n",
    "\n",
    "* batch_size = number of training samples in one forward & backward pass\n",
    "\n",
    "* number of iterations = number of passes, each pass using 'batch_size' number of samples\n",
    "\n",
    "* e.g. 100 samples, batch_size = 20 --> 100/20 = 5 iterations for 1 epoch"
   ]
  },
  {
   "cell_type": "code",
   "execution_count": null,
   "metadata": {},
   "outputs": [],
   "source": [
    "import torch\n",
    "import torchvision\n",
    "from torch.utils.data import Dataset, DataLoader\n",
    "import numpy as np\n",
    "import math"
   ]
  },
  {
   "cell_type": "code",
   "execution_count": null,
   "metadata": {},
   "outputs": [
    {
     "name": "stdout",
     "output_type": "stream",
     "text": [
      "total_samples: 178, n_iterations: 44\n",
      "epoch : 1/2, step: 5/44, inputs: torch.Size([4, 13])\n",
      "epoch : 1/2, step: 10/44, inputs: torch.Size([4, 13])\n",
      "epoch : 1/2, step: 15/44, inputs: torch.Size([4, 13])\n",
      "epoch : 1/2, step: 20/44, inputs: torch.Size([4, 13])\n",
      "epoch : 1/2, step: 25/44, inputs: torch.Size([4, 13])\n",
      "epoch : 1/2, step: 30/44, inputs: torch.Size([4, 13])\n",
      "epoch : 1/2, step: 35/44, inputs: torch.Size([4, 13])\n",
      "epoch : 1/2, step: 40/44, inputs: torch.Size([4, 13])\n",
      "epoch : 1/2, step: 45/44, inputs: torch.Size([2, 13])\n",
      "epoch : 2/2, step: 5/44, inputs: torch.Size([4, 13])\n",
      "epoch : 2/2, step: 10/44, inputs: torch.Size([4, 13])\n",
      "epoch : 2/2, step: 15/44, inputs: torch.Size([4, 13])\n",
      "epoch : 2/2, step: 20/44, inputs: torch.Size([4, 13])\n",
      "epoch : 2/2, step: 25/44, inputs: torch.Size([4, 13])\n",
      "epoch : 2/2, step: 30/44, inputs: torch.Size([4, 13])\n",
      "epoch : 2/2, step: 35/44, inputs: torch.Size([4, 13])\n",
      "epoch : 2/2, step: 40/44, inputs: torch.Size([4, 13])\n",
      "epoch : 2/2, step: 45/44, inputs: torch.Size([2, 13])\n"
     ]
    }
   ],
   "source": [
    "class Winedataset(Dataset):\n",
    "    \n",
    "    def __init__(self):\n",
    "        # data loading\n",
    "        xy = np.loadtxt('./intro_pytorch_wine.csv', delimiter=',', dtype = np.float32, skiprows=1)\n",
    "        self.x = torch.tensor(xy[:, 1:], dtype = torch.float32)\n",
    "        self.y = torch.tensor(xy[:, [0]], dtype = torch.float32) # n_samples, 1\n",
    "        self.n_samples = xy.shape[0]\n",
    "        \n",
    "    def __getitem__(self, index):\n",
    "        return self.x[index], self.y[index]\n",
    "        \n",
    "    def __len__(self):\n",
    "        return self.n_samples\n",
    "    \n",
    "dataset = Winedataset()\n",
    "\n",
    "#################### DATALOADER ####################\n",
    "\n",
    "dataloader = DataLoader(dataset = dataset, batch_size= 4, shuffle= True)\n",
    "\n",
    "# training loop\n",
    "num_epochs = 2\n",
    "total_samples = len(dataset)\n",
    "n_iterations = round(total_samples/4) # batch_size = 4\n",
    "\n",
    "print(f'total_samples: {total_samples}, n_iterations: {n_iterations}')\n",
    "\n",
    "for epoch in range(num_epochs):\n",
    "    for i, (inputs, labels) in enumerate(dataloader): # i will give us the index\n",
    "        if (i + 1) % 5 == 0:\n",
    "            print(f'epoch : {epoch + 1}/{num_epochs}, step: {i + 1}/{n_iterations}, inputs: {inputs.shape}')\n",
    "            \n"
   ]
  },
  {
   "cell_type": "code",
   "execution_count": null,
   "metadata": {},
   "outputs": [
    {
     "name": "stdout",
     "output_type": "stream",
     "text": [
      "tensor([[1.2340e+01, 2.4500e+00, 2.4600e+00, 2.1000e+01, 9.8000e+01, 2.5600e+00,\n",
      "         2.1100e+00, 3.4000e-01, 1.3100e+00, 2.8000e+00, 8.0000e-01, 3.3800e+00,\n",
      "         4.3800e+02],\n",
      "        [1.2820e+01, 3.3700e+00, 2.3000e+00, 1.9500e+01, 8.8000e+01, 1.4800e+00,\n",
      "         6.6000e-01, 4.0000e-01, 9.7000e-01, 1.0260e+01, 7.2000e-01, 1.7500e+00,\n",
      "         6.8500e+02],\n",
      "        [1.2840e+01, 2.9600e+00, 2.6100e+00, 2.4000e+01, 1.0100e+02, 2.3200e+00,\n",
      "         6.0000e-01, 5.3000e-01, 8.1000e-01, 4.9200e+00, 8.9000e-01, 2.1500e+00,\n",
      "         5.9000e+02],\n",
      "        [1.2210e+01, 1.1900e+00, 1.7500e+00, 1.6800e+01, 1.5100e+02, 1.8500e+00,\n",
      "         1.2800e+00, 1.4000e-01, 2.5000e+00, 2.8500e+00, 1.2800e+00, 3.0700e+00,\n",
      "         7.1800e+02]]) tensor([[2.],\n",
      "        [3.],\n",
      "        [3.],\n",
      "        [2.]])\n",
      "1\n"
     ]
    }
   ],
   "source": [
    "cont = 0\n",
    "for X,y in dataloader:\n",
    "    print(X, y)\n",
    "    cont+=1\n",
    "    print(cont)\n",
    "    break"
   ]
  },
  {
   "attachments": {},
   "cell_type": "markdown",
   "metadata": {},
   "source": [
    "<a id=\"13\"></a> \n",
    "### 13)DATASETS AND DATALOADERS CLASSES<br>\n",
    "\n"
   ]
  },
  {
   "attachments": {},
   "cell_type": "markdown",
   "metadata": {},
   "source": [
    "Pytorch library, has the module `torchvision` with transforms which can be applied to PIL images, tensors, ndarrays, or custom data during creation of the Dataset:    \n",
    "* On Images:\n",
    "        CenterCrop, Greyscale, Pad, RandomAffine, RandomCrop, RandomHorizontalFlip, RandomRotation, Resize, Scale.\n",
    "* On Tensors:\n",
    "        LinearTransformation, Normalize, RandomErasing\n",
    "        \n",
    "* Conversion:\n",
    "        ToPILImage: from tensor or ndarray\n",
    "        ToTensor: from numpy.ndarray or PILImage\n",
    "* Generic:\n",
    "        Use Lambda\n",
    "* Custom:\n",
    "        Write own class\n",
    "* Compose multiple Transforms:\n",
    "\n",
    "        composed = transforms.Compose([Rescale(256), RandomCrop(224)])\n",
    "        torchvision.transforms.ReScale(256)\n",
    "        torchvision.transforms.ToTensor()\n",
    "\n",
    "[Ir a índice](#indice)\n",
    "    "
   ]
  },
  {
   "cell_type": "code",
   "execution_count": null,
   "metadata": {},
   "outputs": [],
   "source": [
    "import torch\n",
    "import torchvision\n",
    "from torch.utils.data import Dataset, DataLoader\n",
    "import numpy as np\n",
    "import math"
   ]
  },
  {
   "cell_type": "code",
   "execution_count": null,
   "metadata": {},
   "outputs": [
    {
     "name": "stdout",
     "output_type": "stream",
     "text": [
      "[1.423e+01 1.710e+00 2.430e+00 1.560e+01 1.270e+02 2.800e+00 3.060e+00\n",
      " 2.800e-01 2.290e+00 5.640e+00 1.040e+00 3.920e+00 1.065e+03]\n",
      "<class 'numpy.ndarray'> <class 'numpy.ndarray'>\n",
      "\n",
      " Here we see how the tensor its multuplicated by the factor : 2\n",
      " tensor([2.8460e+01, 3.4200e+00, 4.8600e+00, 3.1200e+01, 2.5400e+02, 5.6000e+00,\n",
      "        6.1200e+00, 5.6000e-01, 4.5800e+00, 1.1280e+01, 2.0800e+00, 7.8400e+00,\n",
      "        2.1300e+03])\n",
      "<class 'torch.Tensor'> <class 'torch.Tensor'>\n"
     ]
    }
   ],
   "source": [
    "# Doing differents transform from scratch\n",
    "\n",
    "class Winedataset(Dataset):\n",
    "    \n",
    "    def __init__(self, transform = None):\n",
    "        # data loading\n",
    "        xy = np.loadtxt('./intro_pytorch_wine.csv', delimiter=',', dtype = np.float32, skiprows=1)\n",
    "        # Note that we do not convert to tensor here.\n",
    "        self.x = xy[:, 1:]\n",
    "        self.y = xy[:, [0]] # n_samples, 1\n",
    "        self.transform = transform\n",
    "        \n",
    "    def __getitem__(self, index):\n",
    "        sample = self.x[index], self.y[index]\n",
    "        \n",
    "        if self.transform:\n",
    "            sample = self.transform(sample)\n",
    "        return sample\n",
    "        \n",
    "    def __len__(self):\n",
    "        return self.n_samples\n",
    "       \n",
    "######################### Custom Transformation by scratch #########################\n",
    "class ToTensor():\n",
    "    def __call__(self, sample):\n",
    "        inputs, targets = sample\n",
    "        return torch.tensor(inputs), torch.tensor(targets)\n",
    "\n",
    "class MulTransform(): # multiplication transform, recives factor (the number which will use to multiplicate)\n",
    "    def __init__(self, factor):\n",
    "        self.factor = factor\n",
    "    \n",
    "    def __call__(self, sample):\n",
    "        input, target = sample\n",
    "        input *= self.factor\n",
    "        return input, target\n",
    "    \n",
    "    \n",
    "dataset = Winedataset(transform = None)\n",
    "\n",
    "first_data = dataset[0]\n",
    "features, labels = first_data\n",
    "print(features)\n",
    "print(type(features), type(labels))\n",
    "\n",
    "composed = torchvision.transforms.Compose([ToTensor(),\n",
    "                                           MulTransform(factor = 2)])\n",
    "\n",
    "dataset = Winedataset(transform = composed)\n",
    "\n",
    "first_data = dataset[0]\n",
    "features, labels = first_data\n",
    "print(f'\\n Here we see how the tensor its multuplicated by the factor : {2}\\n {features}')\n",
    "print(type(features), type(labels))"
   ]
  },
  {
   "attachments": {},
   "cell_type": "markdown",
   "metadata": {},
   "source": [
    "<a id=\"14\"></a> \n",
    "### 14)SOFTMAX AND CROSS-ENTROPY<br>\n",
    "\n",
    "[Ir a índice](#indice)"
   ]
  },
  {
   "cell_type": "code",
   "execution_count": null,
   "metadata": {},
   "outputs": [
    {
     "name": "stdout",
     "output_type": "stream",
     "text": [
      "softmax numpy: [0.65900114 0.24243297 0.09856589]\n",
      "softmax numpy (with tensors): tensor([0.6590, 0.2424, 0.0986])\n"
     ]
    }
   ],
   "source": [
    "# Softmax function from scratch\n",
    "import torch\n",
    "import torch.nn as nn\n",
    "import numpy as np\n",
    "\n",
    "def softmax(x):\n",
    "    return np.exp(x)/np.sum(np.exp(x), axis = 0)\n",
    "\n",
    "x = np.array([2.0, 1.0, 0.1])\n",
    "outputs = softmax(x)\n",
    "print(f'softmax numpy: {outputs}')\n",
    "\n",
    "\n",
    "x = torch.tensor([2.0, 1.0, 0.1])\n",
    "outputs = torch.softmax(x, dim = -1) # automatically find the correct dimension 'dim = -1'\n",
    "print(f'softmax numpy (with tensors): {outputs}')"
   ]
  },
  {
   "attachments": {},
   "cell_type": "markdown",
   "metadata": {},
   "source": [
    "If we applied a softmax function and after we want to calculate the Cross - Entropy, to find how well our **CLASIFICATION MODEL** performs."
   ]
  },
  {
   "cell_type": "code",
   "execution_count": null,
   "metadata": {},
   "outputs": [
    {
     "name": "stdout",
     "output_type": "stream",
     "text": [
      "Loss1 numpy:0.3567\n",
      "Loss2 numpy:2.3026\n"
     ]
    }
   ],
   "source": [
    "# Cross-entropy from scratch\n",
    "def cross_entropy(actual, predicted):\n",
    "    loss = -np.sum(actual * np.log(predicted))\n",
    "    return loss # if we want to normalice it '/float(predicted.shape[0])'\n",
    "\n",
    "# y must be one hot encoded\n",
    "# if class 0: [1 0 0]\n",
    "# if class 1: [0 1 0]\n",
    "# if class 2: [0 0 1]\n",
    "\n",
    "Y = np.array([1, 0, 0])\n",
    "\n",
    "# y_pred has probabilities\n",
    "Y_pred_good = np.array([0.7, 0.2, 0.1])\n",
    "Y_pred_bad = np.array([0.1, 0.3, 0.6])\n",
    "l1 = cross_entropy(Y, Y_pred_good)\n",
    "l2 = cross_entropy(Y, Y_pred_bad)\n",
    "print(f'Loss1 numpy:{l1:.4f}')\n",
    "print(f'Loss2 numpy:{l2:.4f}')"
   ]
  },
  {
   "attachments": {},
   "cell_type": "markdown",
   "metadata": {},
   "source": [
    "# **nn.CrossEntropyLoss**<br>\n",
    "#### This function applies nn.LogSoftmax + nn.NLLLoss(negative log likelihood loss)\n",
    "\n",
    "## `No need a Softmax in the last layer!`\n",
    "\n",
    "*   Y has class labels, not One-Hot!\n",
    "*   Y_pred has raw scores (logits), no Softmax!\n"
   ]
  },
  {
   "cell_type": "code",
   "execution_count": null,
   "metadata": {},
   "outputs": [
    {
     "name": "stdout",
     "output_type": "stream",
     "text": [
      "Loss1 pred_good: 0.3002\n",
      "Loss2 pred_bad:  1.6242\n",
      "tensor([2, 0, 1])\n",
      "tensor([0, 2, 1])\n"
     ]
    }
   ],
   "source": [
    "import torch\n",
    "import torch.nn as nn\n",
    "import numpy as np\n",
    "\n",
    "loss = nn.CrossEntropyLoss()\n",
    "\n",
    "# 3 samples\n",
    "Y = torch.tensor([2, 0, 1]) #Y_true (not one hot encoded)\n",
    "# nsamples x nclasses = 3x3\n",
    "Y_pred_good = torch.tensor([[0.1, 1.0, 2.1], [2.0, 1.0, 0.1], [0.0, 3.0, 0.1]])\n",
    "Y_pred_bad = torch.tensor([ [2.1, 1.0, 0.1], [0.1, 1.0, 2.1], [0.1, 3.0, 0.1]])\n",
    "\n",
    "l1 = loss(Y_pred_good, Y)\n",
    "l2 = loss(Y_pred_bad, Y)\n",
    "\n",
    "\n",
    "print(f'Loss1 pred_good: {l1.item():.4f}')\n",
    "print(f'Loss2 pred_bad:  {l2.item():.4f}')\n",
    "\n",
    "################### PREDICTIONS ###################\n",
    "\n",
    "_, predictions1 = torch.max(Y_pred_good, dim = 1) #in '_' we save the value of the tensor, which we dont need\n",
    "_, predictions2 = torch.max(Y_pred_bad,  dim = 1)\n",
    "\n",
    "print(predictions1)\n",
    "print(predictions2)\n"
   ]
  },
  {
   "attachments": {},
   "cell_type": "markdown",
   "metadata": {},
   "source": [
    "<a id=\"15\"></a> \n",
    "### BINARY CLASS CLASSIFICATION PROBLEMS\n",
    "\n",
    "Here we have to use `nn.BCELoss()` Sigmoid at the end, where we set a threshold (i.e. 0 = not dog, 1 = dog)\n",
    "\n",
    "[Ir a índice](#indice)"
   ]
  },
  {
   "cell_type": "code",
   "execution_count": null,
   "metadata": {},
   "outputs": [],
   "source": [
    "import torch\n",
    "import torch.nn as nn\n",
    "\n",
    "#Binary classification\n",
    "class NeuralNet1(nn.Module):\n",
    "    def __init__(self, input_size, hidden_size):\n",
    "        super(NeuralNet1, self).__init__()\n",
    "        self.linear1 = nn.Linear(input_size, hidden_size)\n",
    "        self.relu = nn.ReLU()\n",
    "        self.linear2 = nn.Linear(hidden_size, 1) # 1 label of output (dog or not dog), so output_size = 1\n",
    "        \n",
    "    def forward(self, x):\n",
    "        out = self.linear1(x)\n",
    "        out = self.relu(out)\n",
    "        out = self.linear2(out)\n",
    "        \n",
    "        # sigmoid at the end\n",
    "        y_pred = torch.sigmoid(out) # SIGMOID FUNCTION\n",
    "        return y_pred\n",
    "    \n",
    "model = NeuralNet1(input_size = 28*28, hidden_size = 5)\n",
    "criterion = nn.BCELoss()\n"
   ]
  },
  {
   "attachments": {},
   "cell_type": "markdown",
   "metadata": {},
   "source": [
    "<a id=\"16\"></a> \n",
    "### MULTI CLASS CLASSIFICATION PROBLEMS<br>\n",
    "* Neural Net with Softmax (which animal?)\n",
    "\n",
    "Here we have to use `nn.CrossEntropyLoss()` Sigmoid at the end, where we set a threshold (i.e. 0 = not dog, 1 = dog)\n",
    "\n",
    "[Ir a índice](#indice)"
   ]
  },
  {
   "cell_type": "code",
   "execution_count": null,
   "metadata": {},
   "outputs": [],
   "source": [
    "import torch \n",
    "import torch.nn as nn\n",
    "\n",
    "# Multiclass problem\n",
    "class NeuralNet2(nn.Module):\n",
    "    def __init__(self, input_size, hidden_size, num_classes):\n",
    "        super(NeuralNet2, self).__init__()\n",
    "        self.linear1 = nn.Linear(input_size, hidden_size)\n",
    "        self.relu = nn.ReLU()\n",
    "        self.linear2 = nn.Linear(hidden_size, num_classes) # the last layer, the output size is equal to the \n",
    "                                                           # number of classes, each class has it's own output\n",
    "        \n",
    "    def forward(self, x):\n",
    "        out = self.linear1(x)\n",
    "        out = self.relu(out)\n",
    "        out = self.linear2(out)\n",
    "        # no softmax at the end\n",
    "        return out\n",
    "    \n",
    "model = NeuralNet2(input_size=28*28, hidden_size=5, num_classes=3)\n",
    "criterion = nn.CrossEntropyLoss() #(applies Softmax)"
   ]
  },
  {
   "cell_type": "code",
   "execution_count": null,
   "metadata": {},
   "outputs": [],
   "source": [
    "import torch\n",
    "import torch.nn as nn\n",
    "import torch.nn.functional as F\n",
    "# Create our functions from nn modules\n",
    "class NeuralNet(nn.Module):\n",
    "    def __init__(self, input_size, hidden_size):\n",
    "        super(NeuralNet, self).__init__()\n",
    "# FIRST WE DEFINE ALL THE LAYERS THAT WE WANT\n",
    "        self.linear1 = nn.Linear(input_size, hidden_size)\n",
    "        self.relu = nn.ReLU()\n",
    "        self.linear2 = nn.Linear(hidden_size, 1)\n",
    "        self.sigmoid = nn.Sigmoid()\n",
    "    \n",
    "    def forward(self, x):\n",
    "# CALL THE FUCTIONS ONE AFTER ANOTHER\n",
    "        out = F.linear1(x) # out = self.linear1(x)\n",
    "        out = F.relu(out) # self.relu(out)\n",
    "        out = F.linear2(out)# ...\n",
    "        out = F.sigmoid(out)# ...\n",
    "        return out\n",
    "        "
   ]
  },
  {
   "attachments": {},
   "cell_type": "markdown",
   "metadata": {},
   "source": [
    "<a id=\"17\"></a> \n",
    "### FEED FORWARD NETWORKS<br>\n",
    "\n",
    "Using all the previous steps to train a nn<br>\n",
    "[Ir a índice](#indice)"
   ]
  },
  {
   "cell_type": "code",
   "execution_count": null,
   "metadata": {},
   "outputs": [
    {
     "name": "stdout",
     "output_type": "stream",
     "text": [
      "epoch: 1/2, step: 100/600, loss: 0.4575\n",
      "epoch: 1/2, step: 200/600, loss: 0.3064\n",
      "epoch: 1/2, step: 300/600, loss: 0.5675\n",
      "epoch: 1/2, step: 400/600, loss: 0.1916\n",
      "epoch: 1/2, step: 500/600, loss: 0.1967\n",
      "epoch: 1/2, step: 600/600, loss: 0.3065\n",
      "epoch: 2/2, step: 100/600, loss: 0.2409\n",
      "epoch: 2/2, step: 200/600, loss: 0.0832\n",
      "epoch: 2/2, step: 300/600, loss: 0.1951\n",
      "epoch: 2/2, step: 400/600, loss: 0.1976\n",
      "epoch: 2/2, step: 500/600, loss: 0.1945\n",
      "epoch: 2/2, step: 600/600, loss: 0.1917\n",
      "Accuracy: 95.72\n"
     ]
    }
   ],
   "source": [
    "import torch\n",
    "import torch.nn as nn\n",
    "import torch.nn.functional as F\n",
    "import torchvision\n",
    "import torchvision.transforms as transforms\n",
    "import matplotlib.pyplot as plt\n",
    "\n",
    "#device config\n",
    "device = torch.device('cuda' if torch.cuda.is_available() else 'cpu') # if we have GPU we will use it, if not, we use cpu.\n",
    "\n",
    "# hyper parameters\n",
    "input_size = 784 # our inputs from MNIST have a resolution of 28x28=784 if we flatten it.\n",
    "hidden_size = 100 \n",
    "num_classes = 10 # digits from 0-9\n",
    "num_epochs = 2\n",
    "batch_size = 100\n",
    "learning_rate = 1e-3\n",
    "\n",
    "# MNIST\n",
    "train_dataset = torchvision.datasets.MNIST(root = './intro_pytorch_data', train = True, transform = transforms.ToTensor(), download = True)\n",
    "test_dataset = torchvision.datasets.MNIST(root = './intro_pytorch_data', train = False, transform = transforms.ToTensor(), download = False)\n",
    "\n",
    "# DataLoader, Transformation\n",
    "train_dataloader = torch.utils.data.DataLoader(dataset = train_dataset, batch_size = batch_size, shuffle = True)\n",
    "test_dataloader = torch.utils.data.DataLoader(dataset = test_dataset, batch_size = batch_size, shuffle = False)\n",
    "\n",
    "# # testing the first batch of our dataloader 'torch.Size([100, 1, 28, 28])' 100 its the size of the batch, channels, width, height\n",
    "# for i, (samples, labels) in enumerate(train_dataloader):\n",
    "#     if i == 0:\n",
    "#      print(samples.shape, labels.shape)   \n",
    "#      break\n",
    "# ##Plotting the data of training##\n",
    "# for i in range(6):\n",
    "#     plt.subplot(2, 3, i+1)\n",
    "#     plt.imshow(samples[i][0],cmap = 'gray')\n",
    "# plt.show()\n",
    "\n",
    "class NeuralNet(nn.Module):\n",
    "    def __init__(self, input_size, hidden_size, num_classes):\n",
    "        super(NeuralNet, self).__init__()\n",
    "        # now we create our layers\n",
    "        self.l1 = nn.Linear(in_features=input_size, out_features=hidden_size)\n",
    "        # self.relu = nn.ReLU()\n",
    "        self.l2 = nn.Linear(in_features=hidden_size, out_features=num_classes)\n",
    "    \n",
    "    def forward(self, x):\n",
    "        out = self.l1(x)\n",
    "        out = F.relu(out)\n",
    "        out = self.l2(out)\n",
    "        return out\n",
    "        # note: we do not use the softmax activation function at the exit of l2 because \n",
    "        # we use CrossEntropyLoss which already has the softmax applied at the exit.\n",
    "        \n",
    "        \n",
    "model = NeuralNet(input_size, hidden_size, num_classes)\n",
    "\n",
    "# define the loss function and Optimizer\n",
    "criterion = nn.CrossEntropyLoss()\n",
    "optimizer = torch.optim.Adam(model.parameters(), lr = learning_rate)\n",
    "# Training Loop (batch training) \n",
    "number_total_steps = len(train_dataloader)\n",
    "for epoch in range(num_epochs):\n",
    "    for i,(X_train, y_train) in enumerate(train_dataloader):\n",
    "        # we have to reshape the data from 100, 1, 28, 28 to 100, 784(100 = num of batches, 784 = number of inputs)\n",
    "        X_train = X_train.view(-1, 28*28).to(device) # we reshape and then send the data to GPU\n",
    "        y_train = y_train.to(device) # send the data to GPU\n",
    "        \n",
    "        # Forward Pass\n",
    "        outputs = model(X_train)\n",
    "        loss = criterion(outputs, y_train)\n",
    "        \n",
    "        # Clean the gradients\n",
    "        optimizer.zero_grad()\n",
    "        # Backward Pass\n",
    "        loss.backward()\n",
    "        # Update the weights\n",
    "        optimizer.step()\n",
    "\n",
    "        if (i + 1) % 100 == 0:\n",
    "            print(f'epoch: {epoch+1}/{num_epochs}, step: {i+1}/{number_total_steps}, loss: {loss.item():.4f}')\n",
    "\n",
    "# Testing\n",
    "with torch.no_grad():\n",
    "    n_correct_predictions = 0\n",
    "    n_samples = 0\n",
    "    for X_test, y_test in test_dataloader:\n",
    "        # we have to reshape the data from 100, 1, 28, 28 to 100, 784(100 = num of batches, 784 = number of inputs)\n",
    "        X_test = X_test.view(-1, 28*28).to(device) # we reshape and then send the data to GPU\n",
    "        y_test = y_test.to(device) # send the data to GPU    \n",
    "        outputs = model(X_test)\n",
    "        \n",
    "        #return value, index = _, predictions\n",
    "        _, predictions = torch.max(outputs, dim = 1)\n",
    "        n_samples +=y_test.shape[0]\n",
    "        n_correct_predictions += (predictions == y_test).sum()\n",
    "    \n",
    "    accuracy = 100.0 * n_correct_predictions / n_samples\n",
    "    print(f'Accuracy: {accuracy:.2f}')"
   ]
  },
  {
   "attachments": {},
   "cell_type": "markdown",
   "metadata": {},
   "source": [
    "<a id=\"18\"></a> \n",
    "### CONVOLUTIONAL NEURAL NET (CNN)<br>\n",
    "\n",
    "Building a CNN with CIFAR-10<br>\n",
    "[Ir a índice](#indice)"
   ]
  },
  {
   "cell_type": "code",
   "execution_count": null,
   "metadata": {},
   "outputs": [],
   "source": [
    "import torch\n",
    "import torch.nn as nn\n",
    "import torch.functional as F\n",
    "import torchvision\n",
    "import torchvision.transforms as transforms\n",
    "import matplotlib.pyplot as plt\n",
    "import numpy as np"
   ]
  },
  {
   "cell_type": "code",
   "execution_count": null,
   "metadata": {},
   "outputs": [],
   "source": [
    "# Device configuration\n",
    "device = torch.device('cuda' if torch.cuda.is_available else 'cpu')\n",
    "# device = torch.device('mps')\n",
    "# Hyper parameters\n",
    "num_epochs = 10\n",
    "batch_size = 4\n",
    "learning_rate = 1e-3\n",
    "\n",
    "# dataset has PILImage images of range [0. 1]\n",
    "# We transform them to Tensors of normalized range [-1, 1]\n",
    "transform = transforms.Compose(\n",
    "    [transforms.ToTensor(), transforms.Normalize((0.5, 0.5, 0.5), (0.5, 0.5, 0.5))])\n",
    "\n",
    "train_dataset = torchvision.datasets.CIFAR10(root = './intro_pytorch_data', train = True, download= True, transform= transform)\n",
    "test_dataset = torchvision.datasets.CIFAR10(root = './intro_pytorch_data', train = False, download= True, transform= transform)\n",
    "\n",
    "train_dataloader = torch.utils.data.DataLoader(train_dataset, batch_size = batch_size, shuffle = True)\n",
    "test_dataloader = torch.utils.data.DataLoader(test_dataset, batch_size = batch_size, shuffle = False)\n",
    "\n",
    "classes = ('plane', 'car', 'bird', 'cat', 'deer', 'dog', 'frog', 'horse', 'ship', 'truck')\n",
    "\n",
    "# Implement the Conv net\n",
    "class ConvNet(nn.Module):\n",
    "    def __init__(self):\n",
    "        super(ConvNet, self).__init__()\n",
    "        self.conv1 = nn.Conv2d(3, 6, 5)\n",
    "        self.pool = nn.MaxPool2d(2)\n",
    "        self.conv2 = nn.Conv2d(6, 16, 5)\n",
    "        self.fc1 = nn.Linear(16*5*5, 120)\n",
    "        self.fc2 = nn.Linear(120, 84)\n",
    "        self.fc3 = nn.Linear(84, 10)\n",
    "    \n",
    "    def forward(self, x):\n",
    "        out = self.pool(F.relu(self.conv1(x)))\n",
    "        out = self.pool(F.relu(self.conv2(out)))\n",
    "        out = out.view(-1, 16*5*5) #flatten\n",
    "        out = F.relu(self.fc1(out))\n",
    "        out = F.relu(self.fc2(out))\n",
    "        out = self.fc3(out)\n",
    "        \n",
    "        return out\n",
    "    \n",
    "model_cnn = ConvNet().to(device)\n",
    "\n",
    "criterion = nn.CrossEntropyLoss()\n",
    "optimizer = torch.optim.Adam(model_cnn.parameters(), lr = learning_rate)\n",
    "\n",
    "n_total_steps = len(train_dataloader)\n",
    "for epoch in range(num_epochs):\n",
    "    for i,(X_train, y_train) in enumerate(train_dataloader):\n",
    "        # origin shape :[4, 3, 32, 32] = 4, 3, 1024\n",
    "        # input_layer : 3 input channels, 6 output channels, 5 kernel size\n",
    "        X_train = X_train.to(device)\n",
    "        y_train = y_train.to(device)\n",
    "        \n",
    "        # Forward pass and loss\n",
    "        predictions = model_cnn(X_train)\n",
    "        loss = criterion(predictions, y_train)\n",
    "        # Clean gradients\n",
    "        optimizer.zero_grad()\n",
    "        # Backward Pass\n",
    "        loss.backward()\n",
    "        optimizer.step()\n",
    "        \n",
    "        if(i + 1) % 6250 == 0:\n",
    "            print(f'Epoch {epoch+1}/{num_epochs}, Step: {i+1}/{n_total_steps}, Loss: {loss.item():.4f}')\n",
    "print(\"Finished Training\")\n",
    "            \n",
    "            \n",
    "# Testing\n",
    "with torch.no_grad(): # because we dont need the .backward()\n",
    "    n_corrects = 0\n",
    "    n_samples = 0\n",
    "    n_class_correct = [0 for i in range(10)]\n",
    "    n_class_samples = [0 for i in range(10)]\n",
    "    for X_test, y_test in test_dataloader:\n",
    "        y_test = y_test.to(device)\n",
    "        X_test = X_test.to(device)\n",
    "        outputs = model_cnn(X_test)\n",
    "        # max returns (value, index)\n",
    "        _, y_pred = torch.max(model_cnn(X_test), dim = 1)\n",
    "        n_samples += y_test.size(0)\n",
    "        n_corrects += (y_pred == y_test).sum()\n",
    "        \n",
    "        for i in range(batch_size):\n",
    "            label = y_test[i]\n",
    "            y_predicted = y_pred[i]\n",
    "            if(label == y_predicted):\n",
    "                n_class_correct[label]+=1\n",
    "            n_class_samples[label]+=1\n",
    "    accuracy = 100.0 * n_corrects / n_samples\n",
    "    print(f'Accuracy of the cnn: {accuracy}%')\n",
    "    \n",
    "    for i in range(10):\n",
    "        accuracy = 100.0 * n_class_correct[i] / n_class_samples[i]\n",
    "        print(f'Accuracy of {classes[i]}: {accuracy}%')\n",
    "\n"
   ]
  },
  {
   "attachments": {},
   "cell_type": "markdown",
   "metadata": {},
   "source": [
    "<a id=\"19\"></a> \n",
    "### TENSORBOARD WITH PYTORCH<br>\n",
    "\n",
    "Using tensorboard in the FEEDFORWARD NET that we create before<br>\n",
    "[Ir a índice](#indice)"
   ]
  },
  {
   "attachments": {},
   "cell_type": "markdown",
   "metadata": {},
   "source": [
    "To launch tensorboard in our program, we have to execute it first and then open the prompt terminal and go to the directory where our program is, and write.. (2 options):<br>\n",
    "\n",
    "* `tensorboard --logdir=runs`\n",
    "* `tensorboard --logdir=data/ --host localhost --port 8088` and navigated the browser to http://localhost:8088\n",
    "\n",
    "note: we have to had installed tensorboard (pip install tensorboard) in our enviorment\n",
    "\n",
    "To launch tensorboard with pytorch we need to :\n",
    "* from torch.utils.tensorboard import SummaryWriter\n",
    "* writer = SummaryWriter(\"runs/mnist\") [\"runs/mnist\" is the default directory where will save the logfiles] // This will print in the tensorboard"
   ]
  },
  {
   "cell_type": "code",
   "execution_count": 8,
   "metadata": {},
   "outputs": [
    {
     "name": "stdout",
     "output_type": "stream",
     "text": [
      "torch.Size([100, 1, 28, 28]) torch.Size([100])\n",
      "epoch: 1/2, step: 100/600, loss: 0.3541\n",
      "epoch: 1/2, step: 200/600, loss: 0.3507\n",
      "epoch: 1/2, step: 300/600, loss: 0.3879\n",
      "epoch: 1/2, step: 400/600, loss: 0.3483\n",
      "epoch: 1/2, step: 500/600, loss: 0.2650\n",
      "epoch: 1/2, step: 600/600, loss: 0.4211\n",
      "epoch: 2/2, step: 100/600, loss: 0.1659\n",
      "epoch: 2/2, step: 200/600, loss: 0.1031\n",
      "epoch: 2/2, step: 300/600, loss: 0.1983\n",
      "epoch: 2/2, step: 400/600, loss: 0.1841\n",
      "epoch: 2/2, step: 500/600, loss: 0.1412\n",
      "epoch: 2/2, step: 600/600, loss: 0.1790\n",
      "Accuracy: 95.42\n"
     ]
    },
    {
     "data": {
      "image/png": "[encoded data removed]",
      "text/plain": [
       "<Figure size 432x288 with 6 Axes>"
      ]
     },
     "metadata": {
      "needs_background": "light"
     },
     "output_type": "display_data"
    }
   ],
   "source": [
    "import torch\n",
    "import torch.nn as nn\n",
    "import torch.nn.functional as F\n",
    "import torchvision\n",
    "import torchvision.transforms as transforms\n",
    "import matplotlib.pyplot as plt\n",
    "import sys\n",
    "########################LAUNCH TENSORBOARD########################\n",
    "from torch.utils.tensorboard import SummaryWriter\n",
    "writer = SummaryWriter(log_dir='runs/MNIST')\n",
    "########################LAUNCH TENSORBOARD########################\n",
    "\n",
    "#device config\n",
    "device = torch.device('cuda' if torch.cuda.is_available() else 'cpu') # if we have GPU we will use it, if not, we use cpu.\n",
    "\n",
    "# hyper parameters\n",
    "input_size = 784 # our inputs from MNIST have a resolution of 28x28=784 if we flatten it.\n",
    "hidden_size = 100 \n",
    "num_classes = 10 # digits from 0-9\n",
    "num_epochs = 2\n",
    "batch_size = 100\n",
    "learning_rate = 1e-3 # 1e-2\n",
    "\n",
    "# MNIST\n",
    "train_dataset = torchvision.datasets.MNIST(root = './intro_pytorch_data', train = True, transform = transforms.ToTensor(), download = True)\n",
    "test_dataset = torchvision.datasets.MNIST(root = './intro_pytorch_data', train = False, transform = transforms.ToTensor(), download = False)\n",
    "\n",
    "# DataLoader, Transformation\n",
    "train_dataloader = torch.utils.data.DataLoader(dataset = train_dataset, batch_size = batch_size, shuffle = True)\n",
    "test_dataloader = torch.utils.data.DataLoader(dataset = test_dataset, batch_size = batch_size, shuffle = False)\n",
    "\n",
    "# # testing the first batch of our dataloader 'torch.Size([100, 1, 28, 28])' 100 its the size of the batch, channels, width, height\n",
    "for i, (samples, labels) in enumerate(train_dataloader):\n",
    "    if i == 0:\n",
    "     print(samples.shape, labels.shape)   \n",
    "     break\n",
    "##Plotting the data of training##\n",
    "# for i in range(6):\n",
    "    # plt.subplot(2, 3, i+1)\n",
    "    # plt.imshow(samples[i][0],cmap = 'gray')\n",
    "# plt.show()\n",
    "\n",
    "##############################TENSORBOARD##############################\n",
    "img_grid = torchvision.utils.make_grid(samples) # first we want to create a grid with the train data\n",
    "writer.add_image('mnist_images', img_grid)\n",
    "# writer.close()\n",
    "# sys.exit() # to exit from the program\n",
    "##############################TENSORBOARD##############################\n",
    "\n",
    "class NeuralNet(nn.Module):\n",
    "    def __init__(self, input_size, hidden_size, num_classes):\n",
    "        super(NeuralNet, self).__init__()\n",
    "        # now we create our layers\n",
    "        self.l1 = nn.Linear(in_features=input_size, out_features=hidden_size)\n",
    "        # self.relu = nn.ReLU()\n",
    "        self.l2 = nn.Linear(in_features=hidden_size, out_features=num_classes)\n",
    "    \n",
    "    def forward(self, x):\n",
    "        out = self.l1(x)\n",
    "        out = F.relu(out)\n",
    "        out = self.l2(out)\n",
    "        return out\n",
    "        # note: we do not use the softmax activation function at the exit of l2 because \n",
    "        # we use CrossEntropyLoss which already has the softmax applied at the exit.\n",
    "        \n",
    "        \n",
    "model = NeuralNet(input_size, hidden_size, num_classes)\n",
    "\n",
    "# define the loss function and Optimizer\n",
    "criterion = nn.CrossEntropyLoss()\n",
    "optimizer = torch.optim.Adam(model.parameters(), lr = learning_rate)\n",
    "##############################TENSORBOARD##############################\n",
    "writer.add_graph(model, samples.view(-1, 28*28))\n",
    "writer.close()\n",
    "# sys.exit() # to exit from the program\n",
    "##############################TENSORBOARD##############################\n",
    "\n",
    "# Training Loop (batch training) \n",
    "number_total_steps = len(train_dataloader)\n",
    "\n",
    "##############################TENSORBOARD##############################\n",
    "# creating a loss and accuracy graph in Tensorboard\n",
    "running_loss = 0.0\n",
    "running_corrects = 0.0\n",
    "##############################TENSORBOARD##############################\n",
    "for epoch in range(num_epochs):\n",
    "    for i,(X_train, y_train) in enumerate(train_dataloader):\n",
    "        # we have to reshape the data from 100, 1, 28, 28 to 100, 784(100 = num of batches, 784 = number of inputs)\n",
    "        X_train = X_train.view(-1, 28*28).to(device) # we reshape and then send the data to GPU\n",
    "        y_train = y_train.to(device) # send the data to GPU\n",
    "        \n",
    "        # Forward Pass\n",
    "        outputs = model(X_train)\n",
    "        loss = criterion(outputs, y_train)\n",
    "        \n",
    "        # Clean the gradients\n",
    "        optimizer.zero_grad()\n",
    "        # Backward Pass\n",
    "        loss.backward()\n",
    "        # Update the weights\n",
    "        optimizer.step()\n",
    "\n",
    "        ##############################TENSORBOARD##############################\n",
    "        # creating a loss and accuracy graph in Tensorboard\n",
    "        running_loss += loss.item()\n",
    "        _, predictions = torch.max(outputs, dim = 1)\n",
    "        running_corrects += (predictions == y_train).sum().item()\n",
    "        ##############################TENSORBOARD##############################\n",
    "        if (i + 1) % 100 == 0:\n",
    "            print(f'epoch: {epoch+1}/{num_epochs}, step: {i+1}/{number_total_steps}, loss: {loss.item():.4f}')\n",
    "            ##############################TENSORBOARD##############################\n",
    "            # adding accuracy and loss curve stepwise to the TENSORBOARD\n",
    "            writer.add_scalar('training loss', running_loss / 100, epoch * number_total_steps + i)\n",
    "            writer.add_scalar('accuracy', running_corrects / 100, epoch * number_total_steps + i)\n",
    "            running_loss = 0.0\n",
    "            running_corrects = 0.0\n",
    "            ##############################TENSORBOARD##############################\n",
    "# Testing\n",
    "##############################TENSORBOARD##############################\n",
    "# creating a precision recall curve in Tensorboard\n",
    "labels = []\n",
    "preds = []\n",
    "##############################TENSORBOARD##############################\n",
    "with torch.no_grad():\n",
    "    n_correct_predictions = 0\n",
    "    n_samples = 0\n",
    "    for X_test, y_test in test_dataloader:\n",
    "        # we have to reshape the data from 100, 1, 28, 28 to 100, 784(100 = num of batches, 784 = number of inputs)\n",
    "        X_test = X_test.view(-1, 28*28).to(device) # we reshape and then send the data to GPU\n",
    "        y_test = y_test.to(device) # send the data to GPU    \n",
    "        outputs = model(X_test)\n",
    "        \n",
    "        #return value, index = _, predictions\n",
    "        _, predictions = torch.max(outputs, dim = 1)\n",
    "        n_samples +=y_test.shape[0]\n",
    "        n_correct_predictions += (predictions == y_test).sum()\n",
    "        ##############################TENSORBOARD##############################\n",
    "        # we need probabilities, so we will applied a softmax function to the output of the nn\n",
    "        class_predictions = [F.softmax(output, dim = 0) for output in outputs] # we calculate the softmax for each output in ouputs\n",
    "        \n",
    "        preds.append(class_predictions)\n",
    "        labels.append(predictions)\n",
    "    \n",
    "    preds = torch.cat([torch.stack(batch) for batch in preds])\n",
    "    labels = torch.cat(labels) #concatenate all the elements in our list in one dimensional tensor\n",
    "        ##############################TENSORBOARD##############################\n",
    "    \n",
    "    accuracy = 100.0 * n_correct_predictions / n_samples\n",
    "    print(f'Accuracy: {accuracy:.2f}')\n",
    "    \n",
    "    ##############################TENSORBOARD##############################\n",
    "    #we add the precision recall curve to Tensorboar\n",
    "    classes = range(10) # digits from 0-9\n",
    "    for i in classes:\n",
    "        labels_i = labels == i\n",
    "        preds_i = preds[:, i]\n",
    "        writer.add_pr_curve(str(i),labels_i,preds_i, global_step = 0)\n",
    "        writer.close()\n",
    "    ##############################TENSORBOARD##############################"
   ]
  },
  {
   "attachments": {},
   "cell_type": "markdown",
   "metadata": {},
   "source": [
    "#### HYPERPARAMETER SEARCH (BEST LEARNING RATE & BATCH SIZE MATCH TOGETHER) WITH **TENSORBOARD**"
   ]
  },
  {
   "cell_type": "code",
   "execution_count": 14,
   "metadata": {},
   "outputs": [
    {
     "name": "stdout",
     "output_type": "stream",
     "text": [
      "epoch: 1/1, step: 15000/30000, loss: 1.9466\n",
      "epoch: 1/1, step: 30000/30000, loss: 2.5383\n",
      "Accuracy: 9.82, batch_size: 2\n",
      "epoch: 1/1, step: 15000/30000, loss: 0.3414\n",
      "epoch: 1/1, step: 30000/30000, loss: 0.0000\n",
      "Accuracy: 90.37, batch_size: 2\n",
      "epoch: 1/1, step: 15000/30000, loss: 0.0205\n",
      "epoch: 1/1, step: 30000/30000, loss: 0.1926\n",
      "Accuracy: 93.44, batch_size: 2\n",
      "Accuracy: 71.08, batch_size: 64\n",
      "Accuracy: 95.32, batch_size: 64\n",
      "Accuracy: 89.35, batch_size: 64\n",
      "Accuracy: 83.49, batch_size: 1024\n",
      "Accuracy: 93.76, batch_size: 1024\n",
      "Accuracy: 70.62, batch_size: 1024\n"
     ]
    }
   ],
   "source": [
    "import torch\n",
    "import torch.nn as nn\n",
    "import torch.nn.functional as F\n",
    "import torchvision\n",
    "import torchvision.transforms as transforms\n",
    "import matplotlib.pyplot as plt\n",
    "\n",
    "from torch.utils.tensorboard import SummaryWriter\n",
    "writer = SummaryWriter(log_dir='runs/MNIST')\n",
    "\n",
    "#device config\n",
    "# device = torch.device('cuda' if torch.cuda.is_available() else 'cpu') # if we have GPU we will use it, if not, we use cpu.\n",
    "device = torch.device('mps') #mac\n",
    "\n",
    "# hyper parameters\n",
    "input_size = 784 # our inputs from MNIST have a resolution of 28x28=784 if we flatten it.\n",
    "hidden_size = 100 \n",
    "num_classes = 10 # digits from 0-9\n",
    "num_epochs = 1\n",
    "\n",
    "# MNIST\n",
    "train_dataset = torchvision.datasets.MNIST(root = './intro_pytorch_data', train = True, transform = transforms.ToTensor(), download = True)\n",
    "test_dataset = torchvision.datasets.MNIST(root = './intro_pytorch_data', train = False, transform = transforms.ToTensor(), download = False)\n",
    "\n",
    "\n",
    "# # testing the first batch of our dataloader 'torch.Size([100, 1, 28, 28])' 100 its the size of the batch, channels, width, height\n",
    "# for i, (samples, labels) in enumerate(train_dataloader):\n",
    "#     if i == 0:\n",
    "#      print(samples.shape, labels.shape)   \n",
    "#      break\n",
    "# ##Plotting the data of training##\n",
    "# for i in range(6):\n",
    "#     plt.subplot(2, 3, i+1)\n",
    "#     plt.imshow(samples[i][0],cmap = 'gray')\n",
    "# plt.show()\n",
    "\n",
    "class NeuralNet(nn.Module):\n",
    "    def __init__(self, input_size, hidden_size, num_classes):\n",
    "        super(NeuralNet, self).__init__()\n",
    "        # now we create our layers\n",
    "        self.l1 = nn.Linear(in_features=input_size, out_features=hidden_size)\n",
    "        # self.relu = nn.ReLU()\n",
    "        self.l2 = nn.Linear(in_features=hidden_size, out_features=num_classes)\n",
    "    \n",
    "    def forward(self, x):\n",
    "        out = self.l1(x)\n",
    "        out = F.relu(out)\n",
    "        out = self.l2(out)\n",
    "        return out\n",
    "        # note: we do not use the softmax activation function at the exit of l2 because \n",
    "        # we use CrossEntropyLoss which already has the softmax applied at the exit.\n",
    "        \n",
    "        \n",
    "batch_sizes = [2, 64, 1024]\n",
    "learning_rates = [1e-1, 1e-2, 1e-4]\n",
    "\n",
    "for batch_size in batch_sizes:\n",
    "    \n",
    "    for learning_rate in learning_rates:\n",
    "        step_test = 0 #global step for tensorboard(test)    \n",
    "        step = 0 #global step for tensorboard(train)    \n",
    "        model = NeuralNet(input_size, hidden_size, num_classes)\n",
    "        model.to(device)\n",
    "        model.train()\n",
    "        \n",
    "        writer = SummaryWriter(f'runs/MNIST/MiniBatchSize: {batch_size} LR: {learning_rate}')\n",
    "        \n",
    "        # DataLoader, Transformation\n",
    "        train_dataloader = torch.utils.data.DataLoader(dataset = train_dataset, batch_size = batch_size, shuffle = True)\n",
    "        test_dataloader = torch.utils.data.DataLoader(dataset = test_dataset, batch_size = batch_size, shuffle = False)\n",
    "        \n",
    "        # define the loss function and Optimizer\n",
    "        criterion = nn.CrossEntropyLoss()\n",
    "        optimizer = torch.optim.Adam(model.parameters(), lr = learning_rate)\n",
    "        # Training Loop (batch training) \n",
    "        number_total_steps = len(train_dataloader)\n",
    "        \n",
    "        ##############################TENSORBOARD##############################\n",
    "        # creating a loss and accuracy graph in Tensorboard\n",
    "        running_loss = 0.0\n",
    "        running_corrects = 0.0\n",
    "        ##############################TENSORBOARD##############################\n",
    "        for epoch in range(num_epochs):\n",
    "            for i,(X_train, y_train) in enumerate(train_dataloader):\n",
    "                # we have to reshape the data from 100, 1, 28, 28 to 100, 784(100 = num of batches, 784 = number of inputs)\n",
    "                X_train = X_train.view(-1, 28*28).to(device) # we reshape and then send the data to GPU\n",
    "                y_train = y_train.to(device) # send the data to GPU\n",
    "                \n",
    "                # Forward Pass\n",
    "                outputs = model(X_train)\n",
    "                loss = criterion(outputs, y_train)\n",
    "                \n",
    "                # Clean the gradients\n",
    "                optimizer.zero_grad()\n",
    "                # Backward Pass\n",
    "                loss.backward()\n",
    "                # Update the weights\n",
    "                optimizer.step()\n",
    "\n",
    "                ##############################TENSORBOARD##############################\n",
    "                # creating a loss and accuracy graph in Tensorboard\n",
    "                running_loss += loss.item()\n",
    "                _, predictions = torch.max(outputs, dim = 1)\n",
    "                running_corrects += (predictions == y_train).sum().item()\n",
    "                \n",
    "                # adding accuracy and loss curve stepwise to the TENSORBOARD\n",
    "                writer.add_scalar('training loss', loss, global_step = step)\n",
    "                writer.add_scalar('trining accuracy', running_corrects / y_train.size(0), global_step = step) \n",
    "                running_loss = 0.0\n",
    "                running_corrects = 0.0\n",
    "                step+=1 #global step for tensorboard\n",
    "                ##############################TENSORBOARD##############################\n",
    "                if (i + 1) % 15000 == 0:\n",
    "                    print(f'epoch: {epoch+1}/{num_epochs}, step: {i+1}/{number_total_steps}, loss: {loss.item():.4f}')\n",
    "                    \n",
    "        # Testing\n",
    "        with torch.no_grad():\n",
    "            step_test += 1 #global step for tensorboard(test) \n",
    "            n_correct_predictions = 0\n",
    "            n_samples = 0\n",
    "            for X_test, y_test in test_dataloader:\n",
    "                # we have to reshape the data from 100, 1, 28, 28 to 100, 784(100 = num of batches, 784 = number of inputs)\n",
    "                X_test = X_test.view(-1, 28*28).to(device) # we reshape and then send the data to GPU\n",
    "                y_test = y_test.to(device) # send the data to GPU    \n",
    "                model.eval()\n",
    "                outputs = model(X_test)\n",
    "                \n",
    "                #return 'value', 'index' = '_', 'predictions'\n",
    "                _, predictions = torch.max(outputs, dim = 1)\n",
    "                n_samples +=y_test.shape[0]\n",
    "                n_correct_predictions += (predictions == y_test).sum()\n",
    "            \n",
    "            accuracy_test = 100.0 * n_correct_predictions / n_samples\n",
    "            writer.add_scalar('test accuracy', accuracy_test/100, global_step = step_test)\n",
    "            print(f'Accuracy: {accuracy_test:.2f}, batch_size: {batch_size}')"
   ]
  },
  {
   "attachments": {},
   "cell_type": "markdown",
   "metadata": {},
   "source": [
    "**Interpretation for the results in TENSORBOARD:** <BR>\n",
    "* *Smaller batch_sizes seems to correlate with lower learning rates, which can make sense because we are doing a lot of more updates, and when we compute gradients for largers batch_sizes, the gradient is more exact, so we can afford having a larger learning rate.*"
   ]
  },
  {
   "attachments": {},
   "cell_type": "markdown",
   "metadata": {},
   "source": [
    "<a id=\"20\"></a> \n",
    "### SAVING AND LOADING MODELS<br>\n",
    "\n",
    "[Ir a índice](#indice)"
   ]
  },
  {
   "cell_type": "code",
   "execution_count": null,
   "metadata": {},
   "outputs": [],
   "source": [
    "import torch\n",
    "import torch.nn as nn\n",
    "\n",
    "######## SAVING THE COMPLETE MODEL ########\n",
    "torch.save(model, 'model_file_name.pth')\n",
    "\n",
    "# LOADING THE MODEL\n",
    "model_in_gpu = torch.load('model_file_name.pth', map_location= 'cuda:0') # if we want to load the model direct into GPU\n",
    "model_in_gpu.eval() # set the model in evaluation mode\n",
    "\n",
    "################################################################################################\n",
    "################################################################################################\n",
    "\n",
    "######## ANOTHER WAY TO SAVE THE MODEL LIKE STATE DICT ########\n",
    "torch.save.(model.state_dict(), 'model_file_name.pth')\n",
    "\n",
    "# model must be created again with parameters\n",
    "model = Model(*args, **kwargs) \n",
    "model.load_state_dict(torch.load(\"model_file_name.pth\"))\n",
    "model.eval()"
   ]
  }
 ],
 "metadata": {
  "kernelspec": {
   "display_name": "redes",
   "language": "python",
   "name": "python3"
  },
  "language_info": {
   "codemirror_mode": {
    "name": "ipython",
    "version": 3
   },
   "file_extension": ".py",
   "mimetype": "text/x-python",
   "name": "python",
   "nbconvert_exporter": "python",
   "pygments_lexer": "ipython3",
   "version": "3.8.8"
  },
  "orig_nbformat": 4,
  "vscode": {
   "interpreter": {
    "hash": "466813897a52447f1831c184b0700fb7b7f042a70becf90568dd3beaa877b3ca"
   }
  }
 },
 "nbformat": 4,
 "nbformat_minor": 2
}
