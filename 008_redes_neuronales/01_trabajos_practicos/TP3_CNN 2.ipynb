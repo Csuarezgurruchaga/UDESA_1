{
  "nbformat": 4,
  "nbformat_minor": 0,
  "metadata": {
    "colab": {
      "provenance": []
    },
    "kernelspec": {
      "name": "python3",
      "display_name": "Python 3"
    },
    "accelerator": "GPU",
    "widgets": {
      "application/vnd.jupyter.widget-state+json": {
        "23f6065b85844fe9bb8103eca07cfd32": {
          "model_module": "@jupyter-widgets/controls",
          "model_name": "HBoxModel",
          "model_module_version": "1.5.0",
          "state": {
            "_dom_classes": [],
            "_model_module": "@jupyter-widgets/controls",
            "_model_module_version": "1.5.0",
            "_model_name": "HBoxModel",
            "_view_count": null,
            "_view_module": "@jupyter-widgets/controls",
            "_view_module_version": "1.5.0",
            "_view_name": "HBoxView",
            "box_style": "",
            "children": [
              "IPY_MODEL_6ff6330195264eb9a77c6712b6b13e18",
              "IPY_MODEL_85eca80c3e8046438a47db3b821bd840",
              "IPY_MODEL_c816e48715924bb5bfe1c80570df4e85"
            ],
            "layout": "IPY_MODEL_51d3f9ef8d9c482b85e87c29b1660b55"
          }
        },
        "6ff6330195264eb9a77c6712b6b13e18": {
          "model_module": "@jupyter-widgets/controls",
          "model_name": "HTMLModel",
          "model_module_version": "1.5.0",
          "state": {
            "_dom_classes": [],
            "_model_module": "@jupyter-widgets/controls",
            "_model_module_version": "1.5.0",
            "_model_name": "HTMLModel",
            "_view_count": null,
            "_view_module": "@jupyter-widgets/controls",
            "_view_module_version": "1.5.0",
            "_view_name": "HTMLView",
            "description": "",
            "description_tooltip": null,
            "layout": "IPY_MODEL_4bf6f574c02144969e7a02e412e9cda7",
            "placeholder": "​",
            "style": "IPY_MODEL_5d57d0d7c26b49589fd5c9b66a8a3c18",
            "value": "100%"
          }
        },
        "85eca80c3e8046438a47db3b821bd840": {
          "model_module": "@jupyter-widgets/controls",
          "model_name": "FloatProgressModel",
          "model_module_version": "1.5.0",
          "state": {
            "_dom_classes": [],
            "_model_module": "@jupyter-widgets/controls",
            "_model_module_version": "1.5.0",
            "_model_name": "FloatProgressModel",
            "_view_count": null,
            "_view_module": "@jupyter-widgets/controls",
            "_view_module_version": "1.5.0",
            "_view_name": "ProgressView",
            "bar_style": "success",
            "description": "",
            "description_tooltip": null,
            "layout": "IPY_MODEL_00376cd7a5004344a6d443e7fc7895e3",
            "max": 9912422,
            "min": 0,
            "orientation": "horizontal",
            "style": "IPY_MODEL_42afffc0395548bea748b0fb62fff7bf",
            "value": 9912422
          }
        },
        "c816e48715924bb5bfe1c80570df4e85": {
          "model_module": "@jupyter-widgets/controls",
          "model_name": "HTMLModel",
          "model_module_version": "1.5.0",
          "state": {
            "_dom_classes": [],
            "_model_module": "@jupyter-widgets/controls",
            "_model_module_version": "1.5.0",
            "_model_name": "HTMLModel",
            "_view_count": null,
            "_view_module": "@jupyter-widgets/controls",
            "_view_module_version": "1.5.0",
            "_view_name": "HTMLView",
            "description": "",
            "description_tooltip": null,
            "layout": "IPY_MODEL_cf69085670cc424abae66e518ad8bafe",
            "placeholder": "​",
            "style": "IPY_MODEL_36a916a5e83743328a6372406dab3594",
            "value": " 9912422/9912422 [00:00&lt;00:00, 7536305.80it/s]"
          }
        },
        "51d3f9ef8d9c482b85e87c29b1660b55": {
          "model_module": "@jupyter-widgets/base",
          "model_name": "LayoutModel",
          "model_module_version": "1.2.0",
          "state": {
            "_model_module": "@jupyter-widgets/base",
            "_model_module_version": "1.2.0",
            "_model_name": "LayoutModel",
            "_view_count": null,
            "_view_module": "@jupyter-widgets/base",
            "_view_module_version": "1.2.0",
            "_view_name": "LayoutView",
            "align_content": null,
            "align_items": null,
            "align_self": null,
            "border": null,
            "bottom": null,
            "display": null,
            "flex": null,
            "flex_flow": null,
            "grid_area": null,
            "grid_auto_columns": null,
            "grid_auto_flow": null,
            "grid_auto_rows": null,
            "grid_column": null,
            "grid_gap": null,
            "grid_row": null,
            "grid_template_areas": null,
            "grid_template_columns": null,
            "grid_template_rows": null,
            "height": null,
            "justify_content": null,
            "justify_items": null,
            "left": null,
            "margin": null,
            "max_height": null,
            "max_width": null,
            "min_height": null,
            "min_width": null,
            "object_fit": null,
            "object_position": null,
            "order": null,
            "overflow": null,
            "overflow_x": null,
            "overflow_y": null,
            "padding": null,
            "right": null,
            "top": null,
            "visibility": null,
            "width": null
          }
        },
        "4bf6f574c02144969e7a02e412e9cda7": {
          "model_module": "@jupyter-widgets/base",
          "model_name": "LayoutModel",
          "model_module_version": "1.2.0",
          "state": {
            "_model_module": "@jupyter-widgets/base",
            "_model_module_version": "1.2.0",
            "_model_name": "LayoutModel",
            "_view_count": null,
            "_view_module": "@jupyter-widgets/base",
            "_view_module_version": "1.2.0",
            "_view_name": "LayoutView",
            "align_content": null,
            "align_items": null,
            "align_self": null,
            "border": null,
            "bottom": null,
            "display": null,
            "flex": null,
            "flex_flow": null,
            "grid_area": null,
            "grid_auto_columns": null,
            "grid_auto_flow": null,
            "grid_auto_rows": null,
            "grid_column": null,
            "grid_gap": null,
            "grid_row": null,
            "grid_template_areas": null,
            "grid_template_columns": null,
            "grid_template_rows": null,
            "height": null,
            "justify_content": null,
            "justify_items": null,
            "left": null,
            "margin": null,
            "max_height": null,
            "max_width": null,
            "min_height": null,
            "min_width": null,
            "object_fit": null,
            "object_position": null,
            "order": null,
            "overflow": null,
            "overflow_x": null,
            "overflow_y": null,
            "padding": null,
            "right": null,
            "top": null,
            "visibility": null,
            "width": null
          }
        },
        "5d57d0d7c26b49589fd5c9b66a8a3c18": {
          "model_module": "@jupyter-widgets/controls",
          "model_name": "DescriptionStyleModel",
          "model_module_version": "1.5.0",
          "state": {
            "_model_module": "@jupyter-widgets/controls",
            "_model_module_version": "1.5.0",
            "_model_name": "DescriptionStyleModel",
            "_view_count": null,
            "_view_module": "@jupyter-widgets/base",
            "_view_module_version": "1.2.0",
            "_view_name": "StyleView",
            "description_width": ""
          }
        },
        "00376cd7a5004344a6d443e7fc7895e3": {
          "model_module": "@jupyter-widgets/base",
          "model_name": "LayoutModel",
          "model_module_version": "1.2.0",
          "state": {
            "_model_module": "@jupyter-widgets/base",
            "_model_module_version": "1.2.0",
            "_model_name": "LayoutModel",
            "_view_count": null,
            "_view_module": "@jupyter-widgets/base",
            "_view_module_version": "1.2.0",
            "_view_name": "LayoutView",
            "align_content": null,
            "align_items": null,
            "align_self": null,
            "border": null,
            "bottom": null,
            "display": null,
            "flex": null,
            "flex_flow": null,
            "grid_area": null,
            "grid_auto_columns": null,
            "grid_auto_flow": null,
            "grid_auto_rows": null,
            "grid_column": null,
            "grid_gap": null,
            "grid_row": null,
            "grid_template_areas": null,
            "grid_template_columns": null,
            "grid_template_rows": null,
            "height": null,
            "justify_content": null,
            "justify_items": null,
            "left": null,
            "margin": null,
            "max_height": null,
            "max_width": null,
            "min_height": null,
            "min_width": null,
            "object_fit": null,
            "object_position": null,
            "order": null,
            "overflow": null,
            "overflow_x": null,
            "overflow_y": null,
            "padding": null,
            "right": null,
            "top": null,
            "visibility": null,
            "width": null
          }
        },
        "42afffc0395548bea748b0fb62fff7bf": {
          "model_module": "@jupyter-widgets/controls",
          "model_name": "ProgressStyleModel",
          "model_module_version": "1.5.0",
          "state": {
            "_model_module": "@jupyter-widgets/controls",
            "_model_module_version": "1.5.0",
            "_model_name": "ProgressStyleModel",
            "_view_count": null,
            "_view_module": "@jupyter-widgets/base",
            "_view_module_version": "1.2.0",
            "_view_name": "StyleView",
            "bar_color": null,
            "description_width": ""
          }
        },
        "cf69085670cc424abae66e518ad8bafe": {
          "model_module": "@jupyter-widgets/base",
          "model_name": "LayoutModel",
          "model_module_version": "1.2.0",
          "state": {
            "_model_module": "@jupyter-widgets/base",
            "_model_module_version": "1.2.0",
            "_model_name": "LayoutModel",
            "_view_count": null,
            "_view_module": "@jupyter-widgets/base",
            "_view_module_version": "1.2.0",
            "_view_name": "LayoutView",
            "align_content": null,
            "align_items": null,
            "align_self": null,
            "border": null,
            "bottom": null,
            "display": null,
            "flex": null,
            "flex_flow": null,
            "grid_area": null,
            "grid_auto_columns": null,
            "grid_auto_flow": null,
            "grid_auto_rows": null,
            "grid_column": null,
            "grid_gap": null,
            "grid_row": null,
            "grid_template_areas": null,
            "grid_template_columns": null,
            "grid_template_rows": null,
            "height": null,
            "justify_content": null,
            "justify_items": null,
            "left": null,
            "margin": null,
            "max_height": null,
            "max_width": null,
            "min_height": null,
            "min_width": null,
            "object_fit": null,
            "object_position": null,
            "order": null,
            "overflow": null,
            "overflow_x": null,
            "overflow_y": null,
            "padding": null,
            "right": null,
            "top": null,
            "visibility": null,
            "width": null
          }
        },
        "36a916a5e83743328a6372406dab3594": {
          "model_module": "@jupyter-widgets/controls",
          "model_name": "DescriptionStyleModel",
          "model_module_version": "1.5.0",
          "state": {
            "_model_module": "@jupyter-widgets/controls",
            "_model_module_version": "1.5.0",
            "_model_name": "DescriptionStyleModel",
            "_view_count": null,
            "_view_module": "@jupyter-widgets/base",
            "_view_module_version": "1.2.0",
            "_view_name": "StyleView",
            "description_width": ""
          }
        },
        "41cc5689c2a6496e9ebc8bf443ec448c": {
          "model_module": "@jupyter-widgets/controls",
          "model_name": "HBoxModel",
          "model_module_version": "1.5.0",
          "state": {
            "_dom_classes": [],
            "_model_module": "@jupyter-widgets/controls",
            "_model_module_version": "1.5.0",
            "_model_name": "HBoxModel",
            "_view_count": null,
            "_view_module": "@jupyter-widgets/controls",
            "_view_module_version": "1.5.0",
            "_view_name": "HBoxView",
            "box_style": "",
            "children": [
              "IPY_MODEL_00d07aa4709d4b57b9cf527a49fe3f9b",
              "IPY_MODEL_ac615c1949a64ce7aad3e640247b84cf",
              "IPY_MODEL_69a5484207b84706bd54ce2841a7eb67"
            ],
            "layout": "IPY_MODEL_ecee985b536147a8885b15b2139e0983"
          }
        },
        "00d07aa4709d4b57b9cf527a49fe3f9b": {
          "model_module": "@jupyter-widgets/controls",
          "model_name": "HTMLModel",
          "model_module_version": "1.5.0",
          "state": {
            "_dom_classes": [],
            "_model_module": "@jupyter-widgets/controls",
            "_model_module_version": "1.5.0",
            "_model_name": "HTMLModel",
            "_view_count": null,
            "_view_module": "@jupyter-widgets/controls",
            "_view_module_version": "1.5.0",
            "_view_name": "HTMLView",
            "description": "",
            "description_tooltip": null,
            "layout": "IPY_MODEL_b4488621a6374fcd9a3077aa2d804046",
            "placeholder": "​",
            "style": "IPY_MODEL_2983309f5c9741bf9181d132f93fae09",
            "value": "100%"
          }
        },
        "ac615c1949a64ce7aad3e640247b84cf": {
          "model_module": "@jupyter-widgets/controls",
          "model_name": "FloatProgressModel",
          "model_module_version": "1.5.0",
          "state": {
            "_dom_classes": [],
            "_model_module": "@jupyter-widgets/controls",
            "_model_module_version": "1.5.0",
            "_model_name": "FloatProgressModel",
            "_view_count": null,
            "_view_module": "@jupyter-widgets/controls",
            "_view_module_version": "1.5.0",
            "_view_name": "ProgressView",
            "bar_style": "success",
            "description": "",
            "description_tooltip": null,
            "layout": "IPY_MODEL_c786163bab7f40cf898da3155aca2643",
            "max": 28881,
            "min": 0,
            "orientation": "horizontal",
            "style": "IPY_MODEL_96e0793403984aa4bea612bb1facf0e0",
            "value": 28881
          }
        },
        "69a5484207b84706bd54ce2841a7eb67": {
          "model_module": "@jupyter-widgets/controls",
          "model_name": "HTMLModel",
          "model_module_version": "1.5.0",
          "state": {
            "_dom_classes": [],
            "_model_module": "@jupyter-widgets/controls",
            "_model_module_version": "1.5.0",
            "_model_name": "HTMLModel",
            "_view_count": null,
            "_view_module": "@jupyter-widgets/controls",
            "_view_module_version": "1.5.0",
            "_view_name": "HTMLView",
            "description": "",
            "description_tooltip": null,
            "layout": "IPY_MODEL_606d5e3b33af42f788b63aea3434d0b8",
            "placeholder": "​",
            "style": "IPY_MODEL_9874792b654a4c858737af02db8c6505",
            "value": " 28881/28881 [00:00&lt;00:00, 500081.30it/s]"
          }
        },
        "ecee985b536147a8885b15b2139e0983": {
          "model_module": "@jupyter-widgets/base",
          "model_name": "LayoutModel",
          "model_module_version": "1.2.0",
          "state": {
            "_model_module": "@jupyter-widgets/base",
            "_model_module_version": "1.2.0",
            "_model_name": "LayoutModel",
            "_view_count": null,
            "_view_module": "@jupyter-widgets/base",
            "_view_module_version": "1.2.0",
            "_view_name": "LayoutView",
            "align_content": null,
            "align_items": null,
            "align_self": null,
            "border": null,
            "bottom": null,
            "display": null,
            "flex": null,
            "flex_flow": null,
            "grid_area": null,
            "grid_auto_columns": null,
            "grid_auto_flow": null,
            "grid_auto_rows": null,
            "grid_column": null,
            "grid_gap": null,
            "grid_row": null,
            "grid_template_areas": null,
            "grid_template_columns": null,
            "grid_template_rows": null,
            "height": null,
            "justify_content": null,
            "justify_items": null,
            "left": null,
            "margin": null,
            "max_height": null,
            "max_width": null,
            "min_height": null,
            "min_width": null,
            "object_fit": null,
            "object_position": null,
            "order": null,
            "overflow": null,
            "overflow_x": null,
            "overflow_y": null,
            "padding": null,
            "right": null,
            "top": null,
            "visibility": null,
            "width": null
          }
        },
        "b4488621a6374fcd9a3077aa2d804046": {
          "model_module": "@jupyter-widgets/base",
          "model_name": "LayoutModel",
          "model_module_version": "1.2.0",
          "state": {
            "_model_module": "@jupyter-widgets/base",
            "_model_module_version": "1.2.0",
            "_model_name": "LayoutModel",
            "_view_count": null,
            "_view_module": "@jupyter-widgets/base",
            "_view_module_version": "1.2.0",
            "_view_name": "LayoutView",
            "align_content": null,
            "align_items": null,
            "align_self": null,
            "border": null,
            "bottom": null,
            "display": null,
            "flex": null,
            "flex_flow": null,
            "grid_area": null,
            "grid_auto_columns": null,
            "grid_auto_flow": null,
            "grid_auto_rows": null,
            "grid_column": null,
            "grid_gap": null,
            "grid_row": null,
            "grid_template_areas": null,
            "grid_template_columns": null,
            "grid_template_rows": null,
            "height": null,
            "justify_content": null,
            "justify_items": null,
            "left": null,
            "margin": null,
            "max_height": null,
            "max_width": null,
            "min_height": null,
            "min_width": null,
            "object_fit": null,
            "object_position": null,
            "order": null,
            "overflow": null,
            "overflow_x": null,
            "overflow_y": null,
            "padding": null,
            "right": null,
            "top": null,
            "visibility": null,
            "width": null
          }
        },
        "2983309f5c9741bf9181d132f93fae09": {
          "model_module": "@jupyter-widgets/controls",
          "model_name": "DescriptionStyleModel",
          "model_module_version": "1.5.0",
          "state": {
            "_model_module": "@jupyter-widgets/controls",
            "_model_module_version": "1.5.0",
            "_model_name": "DescriptionStyleModel",
            "_view_count": null,
            "_view_module": "@jupyter-widgets/base",
            "_view_module_version": "1.2.0",
            "_view_name": "StyleView",
            "description_width": ""
          }
        },
        "c786163bab7f40cf898da3155aca2643": {
          "model_module": "@jupyter-widgets/base",
          "model_name": "LayoutModel",
          "model_module_version": "1.2.0",
          "state": {
            "_model_module": "@jupyter-widgets/base",
            "_model_module_version": "1.2.0",
            "_model_name": "LayoutModel",
            "_view_count": null,
            "_view_module": "@jupyter-widgets/base",
            "_view_module_version": "1.2.0",
            "_view_name": "LayoutView",
            "align_content": null,
            "align_items": null,
            "align_self": null,
            "border": null,
            "bottom": null,
            "display": null,
            "flex": null,
            "flex_flow": null,
            "grid_area": null,
            "grid_auto_columns": null,
            "grid_auto_flow": null,
            "grid_auto_rows": null,
            "grid_column": null,
            "grid_gap": null,
            "grid_row": null,
            "grid_template_areas": null,
            "grid_template_columns": null,
            "grid_template_rows": null,
            "height": null,
            "justify_content": null,
            "justify_items": null,
            "left": null,
            "margin": null,
            "max_height": null,
            "max_width": null,
            "min_height": null,
            "min_width": null,
            "object_fit": null,
            "object_position": null,
            "order": null,
            "overflow": null,
            "overflow_x": null,
            "overflow_y": null,
            "padding": null,
            "right": null,
            "top": null,
            "visibility": null,
            "width": null
          }
        },
        "96e0793403984aa4bea612bb1facf0e0": {
          "model_module": "@jupyter-widgets/controls",
          "model_name": "ProgressStyleModel",
          "model_module_version": "1.5.0",
          "state": {
            "_model_module": "@jupyter-widgets/controls",
            "_model_module_version": "1.5.0",
            "_model_name": "ProgressStyleModel",
            "_view_count": null,
            "_view_module": "@jupyter-widgets/base",
            "_view_module_version": "1.2.0",
            "_view_name": "StyleView",
            "bar_color": null,
            "description_width": ""
          }
        },
        "606d5e3b33af42f788b63aea3434d0b8": {
          "model_module": "@jupyter-widgets/base",
          "model_name": "LayoutModel",
          "model_module_version": "1.2.0",
          "state": {
            "_model_module": "@jupyter-widgets/base",
            "_model_module_version": "1.2.0",
            "_model_name": "LayoutModel",
            "_view_count": null,
            "_view_module": "@jupyter-widgets/base",
            "_view_module_version": "1.2.0",
            "_view_name": "LayoutView",
            "align_content": null,
            "align_items": null,
            "align_self": null,
            "border": null,
            "bottom": null,
            "display": null,
            "flex": null,
            "flex_flow": null,
            "grid_area": null,
            "grid_auto_columns": null,
            "grid_auto_flow": null,
            "grid_auto_rows": null,
            "grid_column": null,
            "grid_gap": null,
            "grid_row": null,
            "grid_template_areas": null,
            "grid_template_columns": null,
            "grid_template_rows": null,
            "height": null,
            "justify_content": null,
            "justify_items": null,
            "left": null,
            "margin": null,
            "max_height": null,
            "max_width": null,
            "min_height": null,
            "min_width": null,
            "object_fit": null,
            "object_position": null,
            "order": null,
            "overflow": null,
            "overflow_x": null,
            "overflow_y": null,
            "padding": null,
            "right": null,
            "top": null,
            "visibility": null,
            "width": null
          }
        },
        "9874792b654a4c858737af02db8c6505": {
          "model_module": "@jupyter-widgets/controls",
          "model_name": "DescriptionStyleModel",
          "model_module_version": "1.5.0",
          "state": {
            "_model_module": "@jupyter-widgets/controls",
            "_model_module_version": "1.5.0",
            "_model_name": "DescriptionStyleModel",
            "_view_count": null,
            "_view_module": "@jupyter-widgets/base",
            "_view_module_version": "1.2.0",
            "_view_name": "StyleView",
            "description_width": ""
          }
        },
        "ada5de8e85024475844fe8de36a53ab1": {
          "model_module": "@jupyter-widgets/controls",
          "model_name": "HBoxModel",
          "model_module_version": "1.5.0",
          "state": {
            "_dom_classes": [],
            "_model_module": "@jupyter-widgets/controls",
            "_model_module_version": "1.5.0",
            "_model_name": "HBoxModel",
            "_view_count": null,
            "_view_module": "@jupyter-widgets/controls",
            "_view_module_version": "1.5.0",
            "_view_name": "HBoxView",
            "box_style": "",
            "children": [
              "IPY_MODEL_482db77658ca4829bd42f4e623b9c8d9",
              "IPY_MODEL_719ecca30b6b4f45838b0b5c7f192b0e",
              "IPY_MODEL_4884862f73fd42ac9033cbe42237079b"
            ],
            "layout": "IPY_MODEL_d1c2ac4c9ee84ab981239c8c63de77f0"
          }
        },
        "482db77658ca4829bd42f4e623b9c8d9": {
          "model_module": "@jupyter-widgets/controls",
          "model_name": "HTMLModel",
          "model_module_version": "1.5.0",
          "state": {
            "_dom_classes": [],
            "_model_module": "@jupyter-widgets/controls",
            "_model_module_version": "1.5.0",
            "_model_name": "HTMLModel",
            "_view_count": null,
            "_view_module": "@jupyter-widgets/controls",
            "_view_module_version": "1.5.0",
            "_view_name": "HTMLView",
            "description": "",
            "description_tooltip": null,
            "layout": "IPY_MODEL_264901a322174724a9ffe706e4ae36d2",
            "placeholder": "​",
            "style": "IPY_MODEL_3f05a3f793d14745a768b8580610fb8f",
            "value": "100%"
          }
        },
        "719ecca30b6b4f45838b0b5c7f192b0e": {
          "model_module": "@jupyter-widgets/controls",
          "model_name": "FloatProgressModel",
          "model_module_version": "1.5.0",
          "state": {
            "_dom_classes": [],
            "_model_module": "@jupyter-widgets/controls",
            "_model_module_version": "1.5.0",
            "_model_name": "FloatProgressModel",
            "_view_count": null,
            "_view_module": "@jupyter-widgets/controls",
            "_view_module_version": "1.5.0",
            "_view_name": "ProgressView",
            "bar_style": "success",
            "description": "",
            "description_tooltip": null,
            "layout": "IPY_MODEL_54d254dd34634b5cb2fcc8dfa7a9b768",
            "max": 1648877,
            "min": 0,
            "orientation": "horizontal",
            "style": "IPY_MODEL_af02a9847e574836b1fc926fdc04bb25",
            "value": 1648877
          }
        },
        "4884862f73fd42ac9033cbe42237079b": {
          "model_module": "@jupyter-widgets/controls",
          "model_name": "HTMLModel",
          "model_module_version": "1.5.0",
          "state": {
            "_dom_classes": [],
            "_model_module": "@jupyter-widgets/controls",
            "_model_module_version": "1.5.0",
            "_model_name": "HTMLModel",
            "_view_count": null,
            "_view_module": "@jupyter-widgets/controls",
            "_view_module_version": "1.5.0",
            "_view_name": "HTMLView",
            "description": "",
            "description_tooltip": null,
            "layout": "IPY_MODEL_d8e3659d31614a07adf7121474993949",
            "placeholder": "​",
            "style": "IPY_MODEL_1975755a61b840f190a45bfeead3b181",
            "value": " 1648877/1648877 [00:00&lt;00:00, 11789548.45it/s]"
          }
        },
        "d1c2ac4c9ee84ab981239c8c63de77f0": {
          "model_module": "@jupyter-widgets/base",
          "model_name": "LayoutModel",
          "model_module_version": "1.2.0",
          "state": {
            "_model_module": "@jupyter-widgets/base",
            "_model_module_version": "1.2.0",
            "_model_name": "LayoutModel",
            "_view_count": null,
            "_view_module": "@jupyter-widgets/base",
            "_view_module_version": "1.2.0",
            "_view_name": "LayoutView",
            "align_content": null,
            "align_items": null,
            "align_self": null,
            "border": null,
            "bottom": null,
            "display": null,
            "flex": null,
            "flex_flow": null,
            "grid_area": null,
            "grid_auto_columns": null,
            "grid_auto_flow": null,
            "grid_auto_rows": null,
            "grid_column": null,
            "grid_gap": null,
            "grid_row": null,
            "grid_template_areas": null,
            "grid_template_columns": null,
            "grid_template_rows": null,
            "height": null,
            "justify_content": null,
            "justify_items": null,
            "left": null,
            "margin": null,
            "max_height": null,
            "max_width": null,
            "min_height": null,
            "min_width": null,
            "object_fit": null,
            "object_position": null,
            "order": null,
            "overflow": null,
            "overflow_x": null,
            "overflow_y": null,
            "padding": null,
            "right": null,
            "top": null,
            "visibility": null,
            "width": null
          }
        },
        "264901a322174724a9ffe706e4ae36d2": {
          "model_module": "@jupyter-widgets/base",
          "model_name": "LayoutModel",
          "model_module_version": "1.2.0",
          "state": {
            "_model_module": "@jupyter-widgets/base",
            "_model_module_version": "1.2.0",
            "_model_name": "LayoutModel",
            "_view_count": null,
            "_view_module": "@jupyter-widgets/base",
            "_view_module_version": "1.2.0",
            "_view_name": "LayoutView",
            "align_content": null,
            "align_items": null,
            "align_self": null,
            "border": null,
            "bottom": null,
            "display": null,
            "flex": null,
            "flex_flow": null,
            "grid_area": null,
            "grid_auto_columns": null,
            "grid_auto_flow": null,
            "grid_auto_rows": null,
            "grid_column": null,
            "grid_gap": null,
            "grid_row": null,
            "grid_template_areas": null,
            "grid_template_columns": null,
            "grid_template_rows": null,
            "height": null,
            "justify_content": null,
            "justify_items": null,
            "left": null,
            "margin": null,
            "max_height": null,
            "max_width": null,
            "min_height": null,
            "min_width": null,
            "object_fit": null,
            "object_position": null,
            "order": null,
            "overflow": null,
            "overflow_x": null,
            "overflow_y": null,
            "padding": null,
            "right": null,
            "top": null,
            "visibility": null,
            "width": null
          }
        },
        "3f05a3f793d14745a768b8580610fb8f": {
          "model_module": "@jupyter-widgets/controls",
          "model_name": "DescriptionStyleModel",
          "model_module_version": "1.5.0",
          "state": {
            "_model_module": "@jupyter-widgets/controls",
            "_model_module_version": "1.5.0",
            "_model_name": "DescriptionStyleModel",
            "_view_count": null,
            "_view_module": "@jupyter-widgets/base",
            "_view_module_version": "1.2.0",
            "_view_name": "StyleView",
            "description_width": ""
          }
        },
        "54d254dd34634b5cb2fcc8dfa7a9b768": {
          "model_module": "@jupyter-widgets/base",
          "model_name": "LayoutModel",
          "model_module_version": "1.2.0",
          "state": {
            "_model_module": "@jupyter-widgets/base",
            "_model_module_version": "1.2.0",
            "_model_name": "LayoutModel",
            "_view_count": null,
            "_view_module": "@jupyter-widgets/base",
            "_view_module_version": "1.2.0",
            "_view_name": "LayoutView",
            "align_content": null,
            "align_items": null,
            "align_self": null,
            "border": null,
            "bottom": null,
            "display": null,
            "flex": null,
            "flex_flow": null,
            "grid_area": null,
            "grid_auto_columns": null,
            "grid_auto_flow": null,
            "grid_auto_rows": null,
            "grid_column": null,
            "grid_gap": null,
            "grid_row": null,
            "grid_template_areas": null,
            "grid_template_columns": null,
            "grid_template_rows": null,
            "height": null,
            "justify_content": null,
            "justify_items": null,
            "left": null,
            "margin": null,
            "max_height": null,
            "max_width": null,
            "min_height": null,
            "min_width": null,
            "object_fit": null,
            "object_position": null,
            "order": null,
            "overflow": null,
            "overflow_x": null,
            "overflow_y": null,
            "padding": null,
            "right": null,
            "top": null,
            "visibility": null,
            "width": null
          }
        },
        "af02a9847e574836b1fc926fdc04bb25": {
          "model_module": "@jupyter-widgets/controls",
          "model_name": "ProgressStyleModel",
          "model_module_version": "1.5.0",
          "state": {
            "_model_module": "@jupyter-widgets/controls",
            "_model_module_version": "1.5.0",
            "_model_name": "ProgressStyleModel",
            "_view_count": null,
            "_view_module": "@jupyter-widgets/base",
            "_view_module_version": "1.2.0",
            "_view_name": "StyleView",
            "bar_color": null,
            "description_width": ""
          }
        },
        "d8e3659d31614a07adf7121474993949": {
          "model_module": "@jupyter-widgets/base",
          "model_name": "LayoutModel",
          "model_module_version": "1.2.0",
          "state": {
            "_model_module": "@jupyter-widgets/base",
            "_model_module_version": "1.2.0",
            "_model_name": "LayoutModel",
            "_view_count": null,
            "_view_module": "@jupyter-widgets/base",
            "_view_module_version": "1.2.0",
            "_view_name": "LayoutView",
            "align_content": null,
            "align_items": null,
            "align_self": null,
            "border": null,
            "bottom": null,
            "display": null,
            "flex": null,
            "flex_flow": null,
            "grid_area": null,
            "grid_auto_columns": null,
            "grid_auto_flow": null,
            "grid_auto_rows": null,
            "grid_column": null,
            "grid_gap": null,
            "grid_row": null,
            "grid_template_areas": null,
            "grid_template_columns": null,
            "grid_template_rows": null,
            "height": null,
            "justify_content": null,
            "justify_items": null,
            "left": null,
            "margin": null,
            "max_height": null,
            "max_width": null,
            "min_height": null,
            "min_width": null,
            "object_fit": null,
            "object_position": null,
            "order": null,
            "overflow": null,
            "overflow_x": null,
            "overflow_y": null,
            "padding": null,
            "right": null,
            "top": null,
            "visibility": null,
            "width": null
          }
        },
        "1975755a61b840f190a45bfeead3b181": {
          "model_module": "@jupyter-widgets/controls",
          "model_name": "DescriptionStyleModel",
          "model_module_version": "1.5.0",
          "state": {
            "_model_module": "@jupyter-widgets/controls",
            "_model_module_version": "1.5.0",
            "_model_name": "DescriptionStyleModel",
            "_view_count": null,
            "_view_module": "@jupyter-widgets/base",
            "_view_module_version": "1.2.0",
            "_view_name": "StyleView",
            "description_width": ""
          }
        },
        "bfb3ccc1d48f4cb09c277a6248cde10d": {
          "model_module": "@jupyter-widgets/controls",
          "model_name": "HBoxModel",
          "model_module_version": "1.5.0",
          "state": {
            "_dom_classes": [],
            "_model_module": "@jupyter-widgets/controls",
            "_model_module_version": "1.5.0",
            "_model_name": "HBoxModel",
            "_view_count": null,
            "_view_module": "@jupyter-widgets/controls",
            "_view_module_version": "1.5.0",
            "_view_name": "HBoxView",
            "box_style": "",
            "children": [
              "IPY_MODEL_0f4c8a5e55d941f883201c3dfcffbcf3",
              "IPY_MODEL_87a2b36922e04898a6c2b1292e72aad0",
              "IPY_MODEL_b1e2bb9e86c54c8e867134a20c9132ca"
            ],
            "layout": "IPY_MODEL_4229a935fafb4bc58e444d14c7a6e8e7"
          }
        },
        "0f4c8a5e55d941f883201c3dfcffbcf3": {
          "model_module": "@jupyter-widgets/controls",
          "model_name": "HTMLModel",
          "model_module_version": "1.5.0",
          "state": {
            "_dom_classes": [],
            "_model_module": "@jupyter-widgets/controls",
            "_model_module_version": "1.5.0",
            "_model_name": "HTMLModel",
            "_view_count": null,
            "_view_module": "@jupyter-widgets/controls",
            "_view_module_version": "1.5.0",
            "_view_name": "HTMLView",
            "description": "",
            "description_tooltip": null,
            "layout": "IPY_MODEL_dfe5de23b6b5400d95b3be3858432ae8",
            "placeholder": "​",
            "style": "IPY_MODEL_b480452c0c1a43e6bbda67d684d07cdf",
            "value": "100%"
          }
        },
        "87a2b36922e04898a6c2b1292e72aad0": {
          "model_module": "@jupyter-widgets/controls",
          "model_name": "FloatProgressModel",
          "model_module_version": "1.5.0",
          "state": {
            "_dom_classes": [],
            "_model_module": "@jupyter-widgets/controls",
            "_model_module_version": "1.5.0",
            "_model_name": "FloatProgressModel",
            "_view_count": null,
            "_view_module": "@jupyter-widgets/controls",
            "_view_module_version": "1.5.0",
            "_view_name": "ProgressView",
            "bar_style": "success",
            "description": "",
            "description_tooltip": null,
            "layout": "IPY_MODEL_e1130a6873cd4bcfaea16fc6c723e3ce",
            "max": 4542,
            "min": 0,
            "orientation": "horizontal",
            "style": "IPY_MODEL_af3c4811b7044e1197d90f5d8afe061a",
            "value": 4542
          }
        },
        "b1e2bb9e86c54c8e867134a20c9132ca": {
          "model_module": "@jupyter-widgets/controls",
          "model_name": "HTMLModel",
          "model_module_version": "1.5.0",
          "state": {
            "_dom_classes": [],
            "_model_module": "@jupyter-widgets/controls",
            "_model_module_version": "1.5.0",
            "_model_name": "HTMLModel",
            "_view_count": null,
            "_view_module": "@jupyter-widgets/controls",
            "_view_module_version": "1.5.0",
            "_view_name": "HTMLView",
            "description": "",
            "description_tooltip": null,
            "layout": "IPY_MODEL_1836143db00c4939ac60c45f75a39f18",
            "placeholder": "​",
            "style": "IPY_MODEL_a0408b88fbcc4b1aa5334a06837fcd91",
            "value": " 4542/4542 [00:00&lt;00:00, 254084.97it/s]"
          }
        },
        "4229a935fafb4bc58e444d14c7a6e8e7": {
          "model_module": "@jupyter-widgets/base",
          "model_name": "LayoutModel",
          "model_module_version": "1.2.0",
          "state": {
            "_model_module": "@jupyter-widgets/base",
            "_model_module_version": "1.2.0",
            "_model_name": "LayoutModel",
            "_view_count": null,
            "_view_module": "@jupyter-widgets/base",
            "_view_module_version": "1.2.0",
            "_view_name": "LayoutView",
            "align_content": null,
            "align_items": null,
            "align_self": null,
            "border": null,
            "bottom": null,
            "display": null,
            "flex": null,
            "flex_flow": null,
            "grid_area": null,
            "grid_auto_columns": null,
            "grid_auto_flow": null,
            "grid_auto_rows": null,
            "grid_column": null,
            "grid_gap": null,
            "grid_row": null,
            "grid_template_areas": null,
            "grid_template_columns": null,
            "grid_template_rows": null,
            "height": null,
            "justify_content": null,
            "justify_items": null,
            "left": null,
            "margin": null,
            "max_height": null,
            "max_width": null,
            "min_height": null,
            "min_width": null,
            "object_fit": null,
            "object_position": null,
            "order": null,
            "overflow": null,
            "overflow_x": null,
            "overflow_y": null,
            "padding": null,
            "right": null,
            "top": null,
            "visibility": null,
            "width": null
          }
        },
        "dfe5de23b6b5400d95b3be3858432ae8": {
          "model_module": "@jupyter-widgets/base",
          "model_name": "LayoutModel",
          "model_module_version": "1.2.0",
          "state": {
            "_model_module": "@jupyter-widgets/base",
            "_model_module_version": "1.2.0",
            "_model_name": "LayoutModel",
            "_view_count": null,
            "_view_module": "@jupyter-widgets/base",
            "_view_module_version": "1.2.0",
            "_view_name": "LayoutView",
            "align_content": null,
            "align_items": null,
            "align_self": null,
            "border": null,
            "bottom": null,
            "display": null,
            "flex": null,
            "flex_flow": null,
            "grid_area": null,
            "grid_auto_columns": null,
            "grid_auto_flow": null,
            "grid_auto_rows": null,
            "grid_column": null,
            "grid_gap": null,
            "grid_row": null,
            "grid_template_areas": null,
            "grid_template_columns": null,
            "grid_template_rows": null,
            "height": null,
            "justify_content": null,
            "justify_items": null,
            "left": null,
            "margin": null,
            "max_height": null,
            "max_width": null,
            "min_height": null,
            "min_width": null,
            "object_fit": null,
            "object_position": null,
            "order": null,
            "overflow": null,
            "overflow_x": null,
            "overflow_y": null,
            "padding": null,
            "right": null,
            "top": null,
            "visibility": null,
            "width": null
          }
        },
        "b480452c0c1a43e6bbda67d684d07cdf": {
          "model_module": "@jupyter-widgets/controls",
          "model_name": "DescriptionStyleModel",
          "model_module_version": "1.5.0",
          "state": {
            "_model_module": "@jupyter-widgets/controls",
            "_model_module_version": "1.5.0",
            "_model_name": "DescriptionStyleModel",
            "_view_count": null,
            "_view_module": "@jupyter-widgets/base",
            "_view_module_version": "1.2.0",
            "_view_name": "StyleView",
            "description_width": ""
          }
        },
        "e1130a6873cd4bcfaea16fc6c723e3ce": {
          "model_module": "@jupyter-widgets/base",
          "model_name": "LayoutModel",
          "model_module_version": "1.2.0",
          "state": {
            "_model_module": "@jupyter-widgets/base",
            "_model_module_version": "1.2.0",
            "_model_name": "LayoutModel",
            "_view_count": null,
            "_view_module": "@jupyter-widgets/base",
            "_view_module_version": "1.2.0",
            "_view_name": "LayoutView",
            "align_content": null,
            "align_items": null,
            "align_self": null,
            "border": null,
            "bottom": null,
            "display": null,
            "flex": null,
            "flex_flow": null,
            "grid_area": null,
            "grid_auto_columns": null,
            "grid_auto_flow": null,
            "grid_auto_rows": null,
            "grid_column": null,
            "grid_gap": null,
            "grid_row": null,
            "grid_template_areas": null,
            "grid_template_columns": null,
            "grid_template_rows": null,
            "height": null,
            "justify_content": null,
            "justify_items": null,
            "left": null,
            "margin": null,
            "max_height": null,
            "max_width": null,
            "min_height": null,
            "min_width": null,
            "object_fit": null,
            "object_position": null,
            "order": null,
            "overflow": null,
            "overflow_x": null,
            "overflow_y": null,
            "padding": null,
            "right": null,
            "top": null,
            "visibility": null,
            "width": null
          }
        },
        "af3c4811b7044e1197d90f5d8afe061a": {
          "model_module": "@jupyter-widgets/controls",
          "model_name": "ProgressStyleModel",
          "model_module_version": "1.5.0",
          "state": {
            "_model_module": "@jupyter-widgets/controls",
            "_model_module_version": "1.5.0",
            "_model_name": "ProgressStyleModel",
            "_view_count": null,
            "_view_module": "@jupyter-widgets/base",
            "_view_module_version": "1.2.0",
            "_view_name": "StyleView",
            "bar_color": null,
            "description_width": ""
          }
        },
        "1836143db00c4939ac60c45f75a39f18": {
          "model_module": "@jupyter-widgets/base",
          "model_name": "LayoutModel",
          "model_module_version": "1.2.0",
          "state": {
            "_model_module": "@jupyter-widgets/base",
            "_model_module_version": "1.2.0",
            "_model_name": "LayoutModel",
            "_view_count": null,
            "_view_module": "@jupyter-widgets/base",
            "_view_module_version": "1.2.0",
            "_view_name": "LayoutView",
            "align_content": null,
            "align_items": null,
            "align_self": null,
            "border": null,
            "bottom": null,
            "display": null,
            "flex": null,
            "flex_flow": null,
            "grid_area": null,
            "grid_auto_columns": null,
            "grid_auto_flow": null,
            "grid_auto_rows": null,
            "grid_column": null,
            "grid_gap": null,
            "grid_row": null,
            "grid_template_areas": null,
            "grid_template_columns": null,
            "grid_template_rows": null,
            "height": null,
            "justify_content": null,
            "justify_items": null,
            "left": null,
            "margin": null,
            "max_height": null,
            "max_width": null,
            "min_height": null,
            "min_width": null,
            "object_fit": null,
            "object_position": null,
            "order": null,
            "overflow": null,
            "overflow_x": null,
            "overflow_y": null,
            "padding": null,
            "right": null,
            "top": null,
            "visibility": null,
            "width": null
          }
        },
        "a0408b88fbcc4b1aa5334a06837fcd91": {
          "model_module": "@jupyter-widgets/controls",
          "model_name": "DescriptionStyleModel",
          "model_module_version": "1.5.0",
          "state": {
            "_model_module": "@jupyter-widgets/controls",
            "_model_module_version": "1.5.0",
            "_model_name": "DescriptionStyleModel",
            "_view_count": null,
            "_view_module": "@jupyter-widgets/base",
            "_view_module_version": "1.2.0",
            "_view_name": "StyleView",
            "description_width": ""
          }
        }
      }
    }
  },
  "cells": [
    {
      "cell_type": "markdown",
      "metadata": {
        "id": "3J9nZra6t-A4"
      },
      "source": [
        "# Práctica 3: Redes neuronales convolucionales para clasificación de imágenes\n",
        "\n",
        "En esta práctica, vamos a utilizar modelos profundos para clasificar dígitos manuscritos, de forma similar al práctico 0. En este caso, utilizaremos el dataset MNIST donde los dígitos poseen un tamaño de 28x28 (en lugar de 8x8 como en el práctico 1). \n",
        "\n",
        "Para eso, comenzamos por cargar y visualizar el dataset:"
      ]
    },
    {
      "cell_type": "code",
      "metadata": {
        "id": "q3RwCD8My3Fr",
        "colab": {
          "base_uri": "https://localhost:8080/",
          "height": 1000,
          "referenced_widgets": [
            "23f6065b85844fe9bb8103eca07cfd32",
            "6ff6330195264eb9a77c6712b6b13e18",
            "85eca80c3e8046438a47db3b821bd840",
            "c816e48715924bb5bfe1c80570df4e85",
            "51d3f9ef8d9c482b85e87c29b1660b55",
            "4bf6f574c02144969e7a02e412e9cda7",
            "5d57d0d7c26b49589fd5c9b66a8a3c18",
            "00376cd7a5004344a6d443e7fc7895e3",
            "42afffc0395548bea748b0fb62fff7bf",
            "cf69085670cc424abae66e518ad8bafe",
            "36a916a5e83743328a6372406dab3594",
            "41cc5689c2a6496e9ebc8bf443ec448c",
            "00d07aa4709d4b57b9cf527a49fe3f9b",
            "ac615c1949a64ce7aad3e640247b84cf",
            "69a5484207b84706bd54ce2841a7eb67",
            "ecee985b536147a8885b15b2139e0983",
            "b4488621a6374fcd9a3077aa2d804046",
            "2983309f5c9741bf9181d132f93fae09",
            "c786163bab7f40cf898da3155aca2643",
            "96e0793403984aa4bea612bb1facf0e0",
            "606d5e3b33af42f788b63aea3434d0b8",
            "9874792b654a4c858737af02db8c6505",
            "ada5de8e85024475844fe8de36a53ab1",
            "482db77658ca4829bd42f4e623b9c8d9",
            "719ecca30b6b4f45838b0b5c7f192b0e",
            "4884862f73fd42ac9033cbe42237079b",
            "d1c2ac4c9ee84ab981239c8c63de77f0",
            "264901a322174724a9ffe706e4ae36d2",
            "3f05a3f793d14745a768b8580610fb8f",
            "54d254dd34634b5cb2fcc8dfa7a9b768",
            "af02a9847e574836b1fc926fdc04bb25",
            "d8e3659d31614a07adf7121474993949",
            "1975755a61b840f190a45bfeead3b181",
            "bfb3ccc1d48f4cb09c277a6248cde10d",
            "0f4c8a5e55d941f883201c3dfcffbcf3",
            "87a2b36922e04898a6c2b1292e72aad0",
            "b1e2bb9e86c54c8e867134a20c9132ca",
            "4229a935fafb4bc58e444d14c7a6e8e7",
            "dfe5de23b6b5400d95b3be3858432ae8",
            "b480452c0c1a43e6bbda67d684d07cdf",
            "e1130a6873cd4bcfaea16fc6c723e3ce",
            "af3c4811b7044e1197d90f5d8afe061a",
            "1836143db00c4939ac60c45f75a39f18",
            "a0408b88fbcc4b1aa5334a06837fcd91"
          ]
        },
        "outputId": "25ad4525-456f-4848-c330-6b03ab52083a"
      },
      "source": [
        "import torchvision\n",
        "import torchvision.datasets as datasets\n",
        "\n",
        "import matplotlib.pyplot as plt\n",
        "import numpy as np\n",
        "\n",
        "plt.rcParams['figure.figsize'] = [12, 10]\n",
        "\n",
        "mnist_train = datasets.MNIST(root='./data', train=True, download=True, transform=torchvision.transforms.ToTensor())\n",
        "mnist_test = datasets.MNIST(root='./data', train=False, download=True, transform=torchvision.transforms.ToTensor())\n",
        "\n",
        "\n",
        "for i in range(1,17):\n",
        "    plt.subplot(4,4,i)\n",
        "    plt.imshow(mnist_train.train_data[i,:,:], cmap=plt.get_cmap('gray_r'))\n",
        "    "
      ],
      "execution_count": 1,
      "outputs": [
        {
          "output_type": "stream",
          "name": "stdout",
          "text": [
            "Downloading http://yann.lecun.com/exdb/mnist/train-images-idx3-ubyte.gz\n",
            "Downloading http://yann.lecun.com/exdb/mnist/train-images-idx3-ubyte.gz to ./data/MNIST/raw/train-images-idx3-ubyte.gz\n"
          ]
        },
        {
          "output_type": "display_data",
          "data": {
            "text/plain": [
              "  0%|          | 0/9912422 [00:00<?, ?it/s]"
            ],
            "application/vnd.jupyter.widget-view+json": {
              "version_major": 2,
              "version_minor": 0,
              "model_id": "23f6065b85844fe9bb8103eca07cfd32"
            }
          },
          "metadata": {}
        },
        {
          "output_type": "stream",
          "name": "stdout",
          "text": [
            "Extracting ./data/MNIST/raw/train-images-idx3-ubyte.gz to ./data/MNIST/raw\n",
            "\n",
            "Downloading http://yann.lecun.com/exdb/mnist/train-labels-idx1-ubyte.gz\n",
            "Downloading http://yann.lecun.com/exdb/mnist/train-labels-idx1-ubyte.gz to ./data/MNIST/raw/train-labels-idx1-ubyte.gz\n"
          ]
        },
        {
          "output_type": "display_data",
          "data": {
            "text/plain": [
              "  0%|          | 0/28881 [00:00<?, ?it/s]"
            ],
            "application/vnd.jupyter.widget-view+json": {
              "version_major": 2,
              "version_minor": 0,
              "model_id": "41cc5689c2a6496e9ebc8bf443ec448c"
            }
          },
          "metadata": {}
        },
        {
          "output_type": "stream",
          "name": "stdout",
          "text": [
            "Extracting ./data/MNIST/raw/train-labels-idx1-ubyte.gz to ./data/MNIST/raw\n",
            "\n",
            "Downloading http://yann.lecun.com/exdb/mnist/t10k-images-idx3-ubyte.gz\n",
            "Downloading http://yann.lecun.com/exdb/mnist/t10k-images-idx3-ubyte.gz to ./data/MNIST/raw/t10k-images-idx3-ubyte.gz\n"
          ]
        },
        {
          "output_type": "display_data",
          "data": {
            "text/plain": [
              "  0%|          | 0/1648877 [00:00<?, ?it/s]"
            ],
            "application/vnd.jupyter.widget-view+json": {
              "version_major": 2,
              "version_minor": 0,
              "model_id": "ada5de8e85024475844fe8de36a53ab1"
            }
          },
          "metadata": {}
        },
        {
          "output_type": "stream",
          "name": "stdout",
          "text": [
            "Extracting ./data/MNIST/raw/t10k-images-idx3-ubyte.gz to ./data/MNIST/raw\n",
            "\n",
            "Downloading http://yann.lecun.com/exdb/mnist/t10k-labels-idx1-ubyte.gz\n",
            "Downloading http://yann.lecun.com/exdb/mnist/t10k-labels-idx1-ubyte.gz to ./data/MNIST/raw/t10k-labels-idx1-ubyte.gz\n"
          ]
        },
        {
          "output_type": "display_data",
          "data": {
            "text/plain": [
              "  0%|          | 0/4542 [00:00<?, ?it/s]"
            ],
            "application/vnd.jupyter.widget-view+json": {
              "version_major": 2,
              "version_minor": 0,
              "model_id": "bfb3ccc1d48f4cb09c277a6248cde10d"
            }
          },
          "metadata": {}
        },
        {
          "output_type": "stream",
          "name": "stdout",
          "text": [
            "Extracting ./data/MNIST/raw/t10k-labels-idx1-ubyte.gz to ./data/MNIST/raw\n",
            "\n"
          ]
        },
        {
          "output_type": "stream",
          "name": "stderr",
          "text": [
            "/usr/local/lib/python3.8/dist-packages/torchvision/datasets/mnist.py:75: UserWarning: train_data has been renamed data\n",
            "  warnings.warn(\"train_data has been renamed data\")\n"
          ]
        },
        {
          "output_type": "display_data",
          "data": {
            "text/plain": [
              "<Figure size 864x720 with 16 Axes>"
            ],
            "image/png": "[encoded data removed]"
          },
          "metadata": {
            "needs_background": "light"
          }
        }
      ]
    },
    {
      "cell_type": "markdown",
      "metadata": {
        "id": "CZC9uQ-ivsmz"
      },
      "source": [
        "# Perceptrón multicapa\n",
        "\n",
        "Primero, vamos a adaptar el perceptrón mutlicapa implementado en la práctica anterior, para que pueda clasificar imágenes de 28 x 28 en 10 categorías diferentes. Para ello, deberemos realizar algunos cambios:\n",
        "\n",
        "* Antes de procesar la imagen, deberemos reformatearla para que pase de ser una imagen de 28 x 28, a un vector de 784 componetes. Para ello, utilziaremos el método `view` de los tensores de Pytorch.\n",
        "\n",
        "* Utilizaremos un perceptrón con 15 neuronas en las capas intermedias.\n",
        "\n",
        "* La última capa deberá tener 10 neuronas (en lugar de 1 sola como tenia el perceptrón multicapa que utilizamos para hacer regresión).\n",
        "\n",
        "* Deberemos cambiar la función de pérdida. En este caso, utilizaremos Entropía Cruzada (`torch.nn.CrossEntropyLoss`)"
      ]
    },
    {
      "cell_type": "code",
      "metadata": {
        "id": "vSHUXi5u7QmP"
      },
      "source": [
        "import torch\n",
        "import torch.nn as nn\n",
        "import torch.nn.functional as F\n",
        "from torch.utils.data import TensorDataset, DataLoader\n",
        "\n",
        "class NetMLP(torch.nn.Module):\n",
        "    def __init__(self, input_features, size_hidden, n_output):\n",
        "        super(NetMLP, self).__init__()\n",
        "        # Inicializo los tamaños de las matrices W del MLP\n",
        "        self.hidden1 = nn.Linear(input_features, size_hidden, bias = True)\n",
        "        self.hidden2 = nn.Linear(size_hidden, size_hidden, bias = True)\n",
        "        self.out =     nn.Linear(size_hidden, n_output,    bias = True)\n",
        "\n",
        "    def forward(self, x):\n",
        "        x = x.view(-1, 28*28) # Flatteneo la imagen, para poder meterla en las dense layers\n",
        "        x = F.relu(self.hidden1(x))\n",
        "        x = F.relu(self.hidden2(x))\n",
        "        x = self.out(x)        # linear output\n",
        "        return x"
      ],
      "execution_count": 2,
      "outputs": []
    },
    {
      "cell_type": "markdown",
      "metadata": {
        "id": "KB-i7lAl7Wzc"
      },
      "source": []
    },
    {
      "cell_type": "code",
      "metadata": {
        "id": "O2LMyqdgTN_l",
        "colab": {
          "base_uri": "https://localhost:8080/",
          "height": 717
        },
        "outputId": "a4e3148f-b789-462b-a87f-e683e169d470"
      },
      "source": [
        "# Definimos el modelo del perceptrón\n",
        "input_features = 28*28\n",
        "hidden_neurons = 15\n",
        "num_outputs = 10\n",
        "\n",
        "# Tamaño del batch de entrenamiento\n",
        "batch_size = 50\n",
        "\n",
        "# Tasa de aprendizaje inicial para el gradiente descendente\n",
        "learning_rate = 0.0001\n",
        "\n",
        "# Dispositivo en que se ejecturá el modelo: 'cuda:0' para GPU y 'cpu' para CPU\n",
        "device = torch.device('cuda:0')\n",
        "\n",
        "net = NetMLP(input_features, hidden_neurons, num_outputs)\n",
        "net.to(device)\n",
        "\n",
        "# Construimos el optimizador, y le indicamos que los parámetros a optimizar \n",
        "# son los del modelo definido: net.parameters()\n",
        "\n",
        "optimizer = torch.optim.Adam(net.parameters(), lr=learning_rate)\n",
        "\n",
        "# Definimos también la función de pérdida a utilizar\n",
        "criterion = torch.nn.CrossEntropyLoss()\n",
        "\n",
        "# Creamos un loader iterable indicandole que debe leer los datos a partir de\n",
        "# del dataset creado en el paso anterior. Este objeto puede ser iterado\n",
        "# y nos devuelve de a un batch (x, y).\n",
        "loader = DataLoader(dataset=mnist_train, batch_size=32, shuffle=True)\n",
        "\n",
        "# Número de épocas\n",
        "num_epochs = 5\n",
        "\n",
        "# Lista en la que iremos guardando el valor de la función de pérdida en cada \n",
        "# etapa de entrenamiento\n",
        "loss_list = []\n",
        "\n",
        "# Bucle de entrenamiento\n",
        "for i in range(num_epochs):\n",
        "\n",
        "    # Itero sobre todos los batches del dataset\n",
        "    for x, y in loader:\n",
        "        # Seteo en cero los gradientes de los parámetros a optimizar\n",
        "        optimizer.zero_grad()\n",
        "\n",
        "        # Movemos los tensores a memoria de GPU\n",
        "        x = x.to(device)\n",
        "        y = y.to(device)\n",
        "\n",
        "        # Realizo la pasada forward por la red\n",
        "        loss = criterion(net(x), y)\n",
        "        \n",
        "        # Realizo la pasada backward por la red        \n",
        "        loss.backward()\n",
        "        \n",
        "        # Actualizo los pesos de la red con el optimizador\n",
        "        optimizer.step()\n",
        "\n",
        "        # Me guardo el valor actual de la función de pérdida para luego graficarlo\n",
        "        loss_list.append(loss.data.item())\n",
        "\n",
        "    # Muestro el valor de la función de pérdida cada 100 iteraciones        \n",
        "    #if i > 0 and i % 100 == 0:\n",
        "    print('Epoch %d, loss = %g' % (i, loss))\n",
        "\n",
        "# Muestro la lista que contiene los valores de la función de pérdida\n",
        "# y una versión suavizada (rojo) para observar la tendencia\n",
        "plt.figure()\n",
        "loss_np_array = np.array(loss_list)\n",
        "plt.plot(loss_np_array, alpha = 0.3)\n",
        "N = 60\n",
        "running_avg_loss = np.convolve(loss_np_array, np.ones((N,))/N, mode='valid')\n",
        "plt.plot(running_avg_loss, color='red')\n",
        "plt.title(\"Función de pérdida durante el entrenamiento\")\n"
      ],
      "execution_count": 3,
      "outputs": [
        {
          "output_type": "stream",
          "name": "stdout",
          "text": [
            "Epoch 0, loss = 0.730178\n",
            "Epoch 1, loss = 0.651251\n",
            "Epoch 2, loss = 0.412929\n",
            "Epoch 3, loss = 0.518328\n",
            "Epoch 4, loss = 0.18898\n"
          ]
        },
        {
          "output_type": "execute_result",
          "data": {
            "text/plain": [
              "Text(0.5, 1.0, 'Función de pérdida durante el entrenamiento')"
            ]
          },
          "metadata": {},
          "execution_count": 3
        },
        {
          "output_type": "display_data",
          "data": {
            "text/plain": [
              "<Figure size 864x720 with 1 Axes>"
            ],
            "image/png": "[encoded data removed]"
          },
          "metadata": {
            "needs_background": "light"
          }
        }
      ]
    },
    {
      "cell_type": "markdown",
      "metadata": {
        "id": "-vW_xZCKvmbB"
      },
      "source": [
        "### Guardamos el modelo para poder reutilizarlo"
      ]
    },
    {
      "cell_type": "code",
      "metadata": {
        "id": "cEfrOuBieXSQ"
      },
      "source": [
        "torch.save(net.state_dict(), \"./mlp20.pth\") # me guardo los pesos"
      ],
      "execution_count": 4,
      "outputs": []
    },
    {
      "cell_type": "markdown",
      "metadata": {
        "id": "DSwSfhyRwiPD"
      },
      "source": [
        "#### Cargamos el modelo y visualizamos los resultados en los datos de test\n",
        "\n",
        "Para ello, utilizaremos los métodos `classification_report` y `confusion_matrix` de scikitlearn."
      ]
    },
    {
      "cell_type": "code",
      "metadata": {
        "id": "KTtl8sCWZQzm",
        "colab": {
          "base_uri": "https://localhost:8080/"
        },
        "outputId": "aa281170-f4d3-4d83-f0fe-8e336ed54849"
      },
      "source": [
        "# Cargo el modelo guardado (si el modelo se encuentra en memoria, este paso no es necesario)\n",
        "input_features = 28*28\n",
        "hidden_neurons = 15\n",
        "num_outputs = 10\n",
        "net = NetMLP(input_features,hidden_neurons,num_outputs)\n",
        "net.load_state_dict(torch.load(\"./mlp20.pth\"))\n",
        "net.to(device)"
      ],
      "execution_count": 5,
      "outputs": [
        {
          "output_type": "execute_result",
          "data": {
            "text/plain": [
              "NetMLP(\n",
              "  (hidden1): Linear(in_features=784, out_features=15, bias=True)\n",
              "  (hidden2): Linear(in_features=15, out_features=15, bias=True)\n",
              "  (out): Linear(in_features=15, out_features=10, bias=True)\n",
              ")"
            ]
          },
          "metadata": {},
          "execution_count": 5
        }
      ]
    },
    {
      "cell_type": "code",
      "metadata": {
        "id": "uoQZGXDb-ETT",
        "colab": {
          "base_uri": "https://localhost:8080/",
          "height": 907
        },
        "outputId": "7bbea8ab-d97f-49e5-ecf6-a61efc2036ef"
      },
      "source": [
        "def showTestResults(model):\n",
        "  model.eval() # Desactiva las capas de dropout en test time y tmb se utiliza para batch norm, para el calculo de parametros en test time.\n",
        "  plt.rcParams['figure.figsize'] = [12, 10]\n",
        "  from sklearn.metrics import classification_report, confusion_matrix,ConfusionMatrixDisplay\n",
        "\n",
        "  # Genero un data loader para leer los datos de test \n",
        "  loader_test = DataLoader(dataset=mnist_test, batch_size=10000, shuffle=False)\n",
        "  x_test = list(loader_test)[0][0]\n",
        "  y_test = list(loader_test)[0][1]\n",
        "\n",
        "  # Muevo los tensores a la GPU\n",
        "  x_test = x_test.to(device)\n",
        "\n",
        "  # Realizo las predicciones del modelo\n",
        "  pred = model(x_test)\n",
        "\n",
        "  # Extraigo el índice de la predicción con mayor valor para decidir la clase asignada\n",
        "  pred_y = torch.max(pred.to(\"cpu\"), 1)[1].data.numpy()\n",
        "\n",
        "  # Imprimo el reporte de clasificación (accuracy, etc)\n",
        "  print(classification_report(y_test, pred_y))\n",
        "\n",
        "  # Computo la matriz de confusión y la muestro\n",
        "  conf_mat = confusion_matrix(y_test, pred_y)\n",
        "  plt.matshow(conf_mat, cmap='jet')\n",
        "\n",
        "  for (i, j), z in np.ndenumerate(conf_mat):\n",
        "      plt.text(j, i, '{:0.1f}'.format(z), ha='center', va='center')\n",
        "      \n",
        "  plt.title(\"Confusion matrix\")\n",
        "  plt.colorbar()\n",
        "\n",
        "showTestResults(net)"
      ],
      "execution_count": 6,
      "outputs": [
        {
          "output_type": "stream",
          "name": "stdout",
          "text": [
            "              precision    recall  f1-score   support\n",
            "\n",
            "           0       0.92      0.98      0.95       980\n",
            "           1       0.96      0.97      0.97      1135\n",
            "           2       0.91      0.88      0.90      1032\n",
            "           3       0.90      0.87      0.89      1010\n",
            "           4       0.92      0.92      0.92       982\n",
            "           5       0.87      0.84      0.85       892\n",
            "           6       0.92      0.94      0.93       958\n",
            "           7       0.89      0.89      0.89      1028\n",
            "           8       0.85      0.84      0.84       974\n",
            "           9       0.86      0.88      0.87      1009\n",
            "\n",
            "    accuracy                           0.90     10000\n",
            "   macro avg       0.90      0.90      0.90     10000\n",
            "weighted avg       0.90      0.90      0.90     10000\n",
            "\n"
          ]
        },
        {
          "output_type": "display_data",
          "data": {
            "text/plain": [
              "<Figure size 720x720 with 2 Axes>"
            ],
            "image/png": "[encoded data removed]"
          },
          "metadata": {
            "needs_background": "light"
          }
        }
      ]
    },
    {
      "cell_type": "markdown",
      "metadata": {
        "id": "4qQYQziCx5fz"
      },
      "source": [
        "# Red Neuronal Convolucional\n",
        "\n",
        "También definiremos un modelo NetCNN que implemente una red neuronal convolucional, el cual seguirá la siguiente estructura:\n",
        "* Capa convolucional (`nn.Conv2D`) (6 feature maps de salida) + ReLU\n",
        "* Max pooling 2 x 2 (`F.max_pool2d`)\n",
        "* Capa convolucional (`nn.Conv2D`) (16 feature maps de salida) + ReLU\n",
        "* Max pooling 2 x 2 (`F.max_pool2d`)\n",
        "* Capa totalmente conectada (`nn.Linear`) (120 neuronas) + ReLU\n",
        "* Capa totalmente conectada (`nn.Linear`) (84 neuronas) + ReLU\n",
        "* Capa de salida (`nn.Linear`) (10 neuronas)\n",
        "\n",
        "Notar que utilizaremos la función `CrossEntropyLoss` para entrenar el modelo. Recordar que dados:\n",
        "* F: tamaño del filtro\n",
        "* W: Tamaño del feature map de entrada\n",
        "* P: Padding\n",
        "* S: Stride\n",
        "\n",
        "El tamaño de la salida es $O = \\frac{(W - F + 2P)}{S} + 1$\n"
      ]
    },
    {
      "cell_type": "code",
      "metadata": {
        "id": "CASJs6F-81-D"
      },
      "source": [
        "class NetCNN(nn.Module):\n",
        "\n",
        "    def __init__(self):\n",
        "        super(NetCNN, self).__init__()\n",
        "        self.conv1 = nn.Conv2d(in_channels = 1, out_channels = 6, kernel_size = 3)\n",
        "        self.conv2 = nn.Conv2d(in_channels = 6, out_channels = 16, kernel_size = 3)\n",
        "        self.fc1 = nn.Linear(400, 120, bias = True)\n",
        "        self.fc2 = nn.Linear(120, 84, bias = True)\n",
        "        self.fc3 = nn.Linear(84, 10, bias = True)\n",
        "\n",
        "    def forward(self, x):\n",
        "        x = F.max_pool2d(F.relu(self.conv1(x)), 2)\n",
        "        x = F.max_pool2d(F.relu(self.conv2(x)), 2)\n",
        "        # Al pasar de capa convolucional a capa totalmente conectada, tenemos\n",
        "        # que reformatear la salida para que se transforme en un vector unidimensional\n",
        "        x = x.view(-1, 5*5*16)\n",
        "        x = F.relu(self.fc1(x))\n",
        "        x = F.relu(self.fc2(x))\n",
        "        x = self.fc3(x)\n",
        "        return x\n",
        "\n",
        "          "
      ],
      "execution_count": 7,
      "outputs": []
    },
    {
      "cell_type": "code",
      "metadata": {
        "id": "3OPpxicsy824",
        "colab": {
          "base_uri": "https://localhost:8080/",
          "height": 717
        },
        "outputId": "47a240aa-71d9-4f76-c338-c4db0ff32387"
      },
      "source": [
        "# Tamaño del batch de entrenamiento\n",
        "batch_size = 50\n",
        "\n",
        "# Tasa de aprendizaje inicial para el gradiente descendente\n",
        "learning_rate = 0.0001\n",
        "\n",
        "# Dispositivo en que se ejecturá el modelo: 'cuda:0' para GPU y 'cpu' para CPU\n",
        "device = torch.device('cuda:0')\n",
        "\n",
        "net = NetCNN()\n",
        "net.to(device)\n",
        "\n",
        "# Construimos el optimizador, y le indicamos que los parámetros a optimizar \n",
        "# son los del modelo definido: net.parameters()\n",
        "\n",
        "optimizer = torch.optim.Adam(net.parameters(), lr=learning_rate)\n",
        "\n",
        "# Definimos también la función de pérdida a utilizar\n",
        "criterion = torch.nn.CrossEntropyLoss() \n",
        "\n",
        "# Creamos un loader iterable indicandole que debe leer los datos a partir de\n",
        "# del dataset creado en el paso anterior. Este objeto puede ser iterado\n",
        "# y nos devuelve de a un batch (x, y).\n",
        "loader = DataLoader(dataset=mnist_train, batch_size=32, shuffle=True)\n",
        "\n",
        "# Número de épocas\n",
        "num_epochs = 5\n",
        "\n",
        "# Lista en la que iremos guardando el valor de la función de pérdida en cada \n",
        "# etapa de entrenamiento\n",
        "loss_list = []\n",
        "\n",
        "# Bucle de entrenamiento\n",
        "for i in range(num_epochs):\n",
        "\n",
        "    # Itero sobre todos los batches del dataset\n",
        "    for x, y in loader:\n",
        "        # Seteo en cero los gradientes de los parámetros a optimizar\n",
        "        optimizer.zero_grad()\n",
        "\n",
        "        # Movemos los tensores a memoria de GPU\n",
        "        x = x.to(device)\n",
        "        y = y.to(device)\n",
        "\n",
        "        # Realizo la pasada forward por la red\n",
        "        loss = criterion(net(x), y)\n",
        "        \n",
        "        # Realizo la pasada backward por la red        \n",
        "        loss.backward()\n",
        "        \n",
        "        # Actualizo los pesos de la red con el optimizador\n",
        "        optimizer.step()\n",
        "\n",
        "        # Me guardo el valor actual de la función de pérdida para luego graficarlo\n",
        "        loss_list.append(loss.data.item())\n",
        "\n",
        "    # Muestro el valor de la función de pérdida cada 100 iteraciones        \n",
        "    #if i > 0 and i % 100 == 0:\n",
        "    print('Epoch %d, loss = %g' % (i, loss))\n",
        "\n",
        "# Muestro la lista que contiene los valores de la función de pérdida\n",
        "# y una versión suavizada (rojo) para observar la tendencia\n",
        "plt.figure()\n",
        "loss_np_array = np.array(loss_list)\n",
        "plt.plot(loss_np_array, alpha = 0.3)\n",
        "N = 60\n",
        "running_avg_loss = np.convolve(loss_np_array, np.ones((N,))/N, mode='valid')\n",
        "plt.plot(running_avg_loss, color='red')\n",
        "plt.title(\"Función de pérdida durante el entrenamiento\")\n"
      ],
      "execution_count": 8,
      "outputs": [
        {
          "output_type": "stream",
          "name": "stdout",
          "text": [
            "Epoch 0, loss = 0.218563\n",
            "Epoch 1, loss = 0.124569\n",
            "Epoch 2, loss = 0.057686\n",
            "Epoch 3, loss = 0.0955943\n",
            "Epoch 4, loss = 0.169786\n"
          ]
        },
        {
          "output_type": "execute_result",
          "data": {
            "text/plain": [
              "Text(0.5, 1.0, 'Función de pérdida durante el entrenamiento')"
            ]
          },
          "metadata": {},
          "execution_count": 8
        },
        {
          "output_type": "display_data",
          "data": {
            "text/plain": [
              "<Figure size 864x720 with 1 Axes>"
            ],
            "image/png": "[encoded data removed]"
          },
          "metadata": {
            "needs_background": "light"
          }
        }
      ]
    },
    {
      "cell_type": "markdown",
      "metadata": {
        "id": "mtrwJZ68-rrm"
      },
      "source": [
        "### Guardo el modelo"
      ]
    },
    {
      "cell_type": "code",
      "metadata": {
        "id": "myleQmjIzhz3"
      },
      "source": [
        "torch.save(net.state_dict(), \"./cnn20.pth\")"
      ],
      "execution_count": 9,
      "outputs": []
    },
    {
      "cell_type": "markdown",
      "metadata": {
        "id": "oDC2H8Cr-7kB"
      },
      "source": [
        "#### Cargamos el modelo y visualizamos los resultados en los datos de test\n",
        "\n",
        "Para ello, utilizaremos los métodos `classification_report` y `confusion_matrix` de scikit-learn."
      ]
    },
    {
      "cell_type": "code",
      "metadata": {
        "id": "m6ItAZr0_PhD",
        "colab": {
          "base_uri": "https://localhost:8080/"
        },
        "outputId": "ae9bd39d-b5a3-4003-91c9-c449e51f9238"
      },
      "source": [
        "# Cargamos el modelo (no es necesario si el modelo se encuentra en memoria)\n",
        "net = NetCNN()\n",
        "net.load_state_dict(torch.load(\"./cnn20.pth\"))\n",
        "net.to(device)"
      ],
      "execution_count": 10,
      "outputs": [
        {
          "output_type": "execute_result",
          "data": {
            "text/plain": [
              "NetCNN(\n",
              "  (conv1): Conv2d(1, 6, kernel_size=(3, 3), stride=(1, 1))\n",
              "  (conv2): Conv2d(6, 16, kernel_size=(3, 3), stride=(1, 1))\n",
              "  (fc1): Linear(in_features=400, out_features=120, bias=True)\n",
              "  (fc2): Linear(in_features=120, out_features=84, bias=True)\n",
              "  (fc3): Linear(in_features=84, out_features=10, bias=True)\n",
              ")"
            ]
          },
          "metadata": {},
          "execution_count": 10
        }
      ]
    },
    {
      "cell_type": "code",
      "metadata": {
        "id": "6U3hYiiA4fOb",
        "colab": {
          "base_uri": "https://localhost:8080/",
          "height": 907
        },
        "outputId": "ca886d0f-ea33-4819-db95-c5f00ea93b8f"
      },
      "source": [
        "# Mostramos los resultados\n",
        "showTestResults(net)"
      ],
      "execution_count": 11,
      "outputs": [
        {
          "output_type": "stream",
          "name": "stdout",
          "text": [
            "              precision    recall  f1-score   support\n",
            "\n",
            "           0       0.96      0.99      0.98       980\n",
            "           1       0.98      0.98      0.98      1135\n",
            "           2       0.97      0.97      0.97      1032\n",
            "           3       0.95      0.98      0.96      1010\n",
            "           4       0.99      0.96      0.97       982\n",
            "           5       0.98      0.96      0.97       892\n",
            "           6       0.98      0.98      0.98       958\n",
            "           7       0.98      0.96      0.97      1028\n",
            "           8       0.96      0.94      0.95       974\n",
            "           9       0.94      0.97      0.95      1009\n",
            "\n",
            "    accuracy                           0.97     10000\n",
            "   macro avg       0.97      0.97      0.97     10000\n",
            "weighted avg       0.97      0.97      0.97     10000\n",
            "\n"
          ]
        },
        {
          "output_type": "display_data",
          "data": {
            "text/plain": [
              "<Figure size 720x720 with 2 Axes>"
            ],
            "image/png": "[encoded data removed]"
          },
          "metadata": {
            "needs_background": "light"
          }
        }
      ]
    },
    {
      "cell_type": "code",
      "metadata": {
        "id": "BO3nKIzT4nYV"
      },
      "source": [],
      "execution_count": 11,
      "outputs": []
    },
    {
      "cell_type": "markdown",
      "metadata": {
        "id": "0ee9CYVb9B22"
      },
      "source": [
        "# Entregable\n",
        "\n",
        "1. Implementar el perceptrón multicapa y la red neuronal convolucional solicitadas.\n",
        "\n",
        "2. Para el caso de la red neuronal convolucional, realizar el cálculo del tamaño de la entrada y salida en cada capa convolucional en función de los parámetros de cada capa (tamaño del kernel, padding, stride, etc) para garantizar que los tensores que fluyen por la red sean del tamaño adecuado. Indicar el tamaño de los feature maps a medida que fluyen por la red.\n",
        "\n",
        "3. Comparar la accuracy obtenida por el perceptrón muticapa y la red neuronal convolucional. "
      ]
    },
    {
      "cell_type": "code",
      "metadata": {
        "id": "B-dVul2q2Zxq"
      },
      "source": [],
      "execution_count": 11,
      "outputs": []
    },
    {
      "cell_type": "markdown",
      "source": [
        "# UTILIZANDO DROP-OUT"
      ],
      "metadata": {
        "id": "I4KUL6qxBeZ-"
      }
    },
    {
      "cell_type": "code",
      "source": [
        "class NetCNN(nn.Module):\n",
        "\n",
        "    def __init__(self):\n",
        "        super(NetCNN, self).__init__()\n",
        "        self.conv1 = nn.Conv2d(in_channels = 1, out_channels = 6, kernel_size = 3)\n",
        "        self.conv2 = nn.Conv2d(in_channels = 6, out_channels = 16, kernel_size = 3)\n",
        "        self.fc1 = nn.Linear(400, 120, bias = True)\n",
        "        self.fc2 = nn.Linear(120, 84, bias = True)\n",
        "        self.fc3 = nn.Linear(84, 10, bias = True)\n",
        "        self.dropout = nn.Dropout(p=0.5, inplace=False)\n",
        "\n",
        "    def forward(self, x):\n",
        "        x = F.max_pool2d(F.relu(self.conv1(x)), 2)\n",
        "        x = F.max_pool2d(F.relu(self.conv2(x)), 2)\n",
        "        # Al pasar de capa convolucional a capa totalmente conectada, tenemos\n",
        "        # que reformatear la salida para que se transforme en un vector unidimensional\n",
        "        x = x.view(-1, 5*5*16)\n",
        "        x = F.relu(self.fc1(x))\n",
        "        x = F.relu(self.fc2(x))\n",
        "        x = self.dropout(self.fc3(x))\n",
        "        return x\n",
        "\n"
      ],
      "metadata": {
        "id": "c48SzuG0BxXg"
      },
      "execution_count": 12,
      "outputs": []
    },
    {
      "cell_type": "code",
      "source": [
        "# Tamaño del batch de entrenamiento\n",
        "batch_size = 50\n",
        "\n",
        "# Tasa de aprendizaje inicial para el gradiente descendente\n",
        "learning_rate = 0.0001\n",
        "\n",
        "# Dispositivo en que se ejecturá el modelo: 'cuda:0' para GPU y 'cpu' para CPU\n",
        "device = torch.device('cuda:0')\n",
        "\n",
        "net = NetCNN()\n",
        "net.to(device)\n",
        "\n",
        "# Construimos el optimizador, y le indicamos que los parámetros a optimizar \n",
        "# son los del modelo definido: net.parameters()\n",
        "\n",
        "optimizer = torch.optim.Adam(net.parameters(), lr=learning_rate)\n",
        "\n",
        "# Definimos también la función de pérdida a utilizar\n",
        "criterion = torch.nn.CrossEntropyLoss() \n",
        "\n",
        "# Creamos un loader iterable indicandole que debe leer los datos a partir de\n",
        "# del dataset creado en el paso anterior. Este objeto puede ser iterado\n",
        "# y nos devuelve de a un batch (x, y).\n",
        "loader = DataLoader(dataset=mnist_train, batch_size=32, shuffle=True)\n",
        "\n",
        "# Número de épocas\n",
        "num_epochs = 5\n",
        "\n",
        "# Lista en la que iremos guardando el valor de la función de pérdida en cada \n",
        "# etapa de entrenamiento\n",
        "loss_list = []\n",
        "\n",
        "# Bucle de entrenamiento\n",
        "for i in range(num_epochs):\n",
        "\n",
        "    # Itero sobre todos los batches del dataset\n",
        "    for x, y in loader:\n",
        "        # Seteo en cero los gradientes de los parámetros a optimizar\n",
        "        optimizer.zero_grad()\n",
        "\n",
        "        # Movemos los tensores a memoria de GPU\n",
        "        x = x.to(device)\n",
        "        y = y.to(device)\n",
        "\n",
        "        # Realizo la pasada forward por la red\n",
        "        loss = criterion(net(x), y)\n",
        "        \n",
        "        # Realizo la pasada backward por la red        \n",
        "        loss.backward()\n",
        "        \n",
        "        # Actualizo los pesos de la red con el optimizador\n",
        "        optimizer.step()\n",
        "\n",
        "        # Me guardo el valor actual de la función de pérdida para luego graficarlo\n",
        "        loss_list.append(loss.data.item())\n",
        "\n",
        "    # Muestro el valor de la función de pérdida cada 100 iteraciones        \n",
        "    #if i > 0 and i % 100 == 0:\n",
        "    print('Epoch %d, loss = %g' % (i, loss))\n",
        "\n",
        "# Muestro la lista que contiene los valores de la función de pérdida\n",
        "# y una versión suavizada (rojo) para observar la tendencia\n",
        "plt.figure()\n",
        "loss_np_array = np.array(loss_list)\n",
        "plt.plot(loss_np_array, alpha = 0.3)\n",
        "N = 60\n",
        "running_avg_loss = np.convolve(loss_np_array, np.ones((N,))/N, mode='valid')\n",
        "plt.plot(running_avg_loss, color='red')\n",
        "plt.title(\"Función de pérdida durante el entrenamiento\")\n"
      ],
      "metadata": {
        "colab": {
          "base_uri": "https://localhost:8080/",
          "height": 717
        },
        "id": "Lw4Zb6ziBx-W",
        "outputId": "0ab7d7cd-ade5-4379-b084-4a6543b7c3c1"
      },
      "execution_count": 13,
      "outputs": [
        {
          "output_type": "stream",
          "name": "stdout",
          "text": [
            "Epoch 0, loss = 0.982162\n",
            "Epoch 1, loss = 1.28959\n",
            "Epoch 2, loss = 0.940806\n",
            "Epoch 3, loss = 0.89584\n",
            "Epoch 4, loss = 0.550765\n"
          ]
        },
        {
          "output_type": "execute_result",
          "data": {
            "text/plain": [
              "Text(0.5, 1.0, 'Función de pérdida durante el entrenamiento')"
            ]
          },
          "metadata": {},
          "execution_count": 13
        },
        {
          "output_type": "display_data",
          "data": {
            "text/plain": [
              "<Figure size 864x720 with 1 Axes>"
            ],
            "image/png": "[encoded data removed]"
          },
          "metadata": {
            "needs_background": "light"
          }
        }
      ]
    },
    {
      "cell_type": "code",
      "source": [
        "torch.save(net.state_dict(), \"./mlp20_dropout.pth\") # me guardo los pesos (usando drop out)\n"
      ],
      "metadata": {
        "id": "HA44oonL9DjK"
      },
      "execution_count": 14,
      "outputs": []
    },
    {
      "cell_type": "code",
      "source": [
        "# Cargamos el modelo (no es necesario si el modelo se encuentra en memoria)\n",
        "net = NetCNN()\n",
        "net.load_state_dict(torch.load(\"./mlp20_dropout.pth\"))\n",
        "net.to(device)"
      ],
      "metadata": {
        "colab": {
          "base_uri": "https://localhost:8080/"
        },
        "id": "0rynr6eG9bmT",
        "outputId": "19dac5fa-12cc-46bd-b76e-7a27c74775a1"
      },
      "execution_count": 15,
      "outputs": [
        {
          "output_type": "execute_result",
          "data": {
            "text/plain": [
              "NetCNN(\n",
              "  (conv1): Conv2d(1, 6, kernel_size=(3, 3), stride=(1, 1))\n",
              "  (conv2): Conv2d(6, 16, kernel_size=(3, 3), stride=(1, 1))\n",
              "  (fc1): Linear(in_features=400, out_features=120, bias=True)\n",
              "  (fc2): Linear(in_features=120, out_features=84, bias=True)\n",
              "  (fc3): Linear(in_features=84, out_features=10, bias=True)\n",
              "  (dropout): Dropout(p=0.5, inplace=False)\n",
              ")"
            ]
          },
          "metadata": {},
          "execution_count": 15
        }
      ]
    },
    {
      "cell_type": "code",
      "source": [
        "# Mostramos los resultados\n",
        "showTestResults(net)# Mostramos los resultados"
      ],
      "metadata": {
        "colab": {
          "base_uri": "https://localhost:8080/",
          "height": 907
        },
        "id": "vWTv68me6mQg",
        "outputId": "ed7f3c45-70e2-403b-afb9-5c8722aa85e6"
      },
      "execution_count": 16,
      "outputs": [
        {
          "output_type": "stream",
          "name": "stdout",
          "text": [
            "              precision    recall  f1-score   support\n",
            "\n",
            "           0       0.95      0.99      0.97       980\n",
            "           1       0.99      0.99      0.99      1135\n",
            "           2       0.95      0.96      0.96      1032\n",
            "           3       0.98      0.95      0.97      1010\n",
            "           4       0.98      0.96      0.97       982\n",
            "           5       0.98      0.95      0.97       892\n",
            "           6       0.98      0.97      0.97       958\n",
            "           7       0.94      0.97      0.96      1028\n",
            "           8       0.95      0.95      0.95       974\n",
            "           9       0.95      0.95      0.95      1009\n",
            "\n",
            "    accuracy                           0.97     10000\n",
            "   macro avg       0.97      0.97      0.97     10000\n",
            "weighted avg       0.97      0.97      0.97     10000\n",
            "\n"
          ]
        },
        {
          "output_type": "display_data",
          "data": {
            "text/plain": [
              "<Figure size 720x720 with 2 Axes>"
            ],
            "image/png": "[encoded data removed]"
          },
          "metadata": {
            "needs_background": "light"
          }
        }
      ]
    },
    {
      "cell_type": "markdown",
      "source": [
        "*Al utilizar el metodo de regularizacion DROP-OUT, no vemos una mejoria muy significativa en test time.*"
      ],
      "metadata": {
        "id": "X0mo76GS7oC5"
      }
    },
    {
      "cell_type": "markdown",
      "source": [
        "# **APLICANDO BATCH NORMALIZATION**"
      ],
      "metadata": {
        "id": "pDKV7-6P7tw1"
      }
    },
    {
      "cell_type": "code",
      "source": [
        "class NetCNN(nn.Module):\n",
        "\n",
        "    def __init__(self):\n",
        "        super(NetCNN, self).__init__()\n",
        "        self.conv1 = nn.Conv2d(in_channels = 1, out_channels = 6, kernel_size = 3)\n",
        "        self.conv1_bn = nn.BatchNorm2d(6)\n",
        "        self.conv2 = nn.Conv2d(in_channels = 6, out_channels = 16, kernel_size = 3)\n",
        "        self.conv2_bn = nn.BatchNorm2d(16)\n",
        "        self.fc1 = nn.Linear(400, 120, bias = True)\n",
        "        self.fc1_bn = nn.BatchNorm1d(120)\n",
        "        self.fc2 = nn.Linear(120, 84, bias = True)\n",
        "        self.fc2_bn = nn.BatchNorm1d(84)\n",
        "        self.fc3 = nn.Linear(84, 10, bias = True)\n",
        "        self.fc3_bn = nn.BatchNorm1d(10)\n",
        "\n",
        "    def forward(self, x):\n",
        "        x = F.max_pool2d(F.relu(self.conv1_bn(self.conv1(x))), 2)\n",
        "        x = F.max_pool2d(F.relu(self.conv2_bn(self.conv2(x))), 2)\n",
        "        # Al pasar de capa convolucional a capa totalmente conectada, tenemos\n",
        "        # que reformatear la salida para que se transforme en un vector unidimensional\n",
        "        x = x.view(-1, 5*5*16)\n",
        "        x = F.relu(self.fc1_bn(self.fc1(x)))\n",
        "        x = F.relu(self.fc2_bn(self.fc2(x)))\n",
        "        x = self.fc3_bn(self.fc3(x))\n",
        "        return x"
      ],
      "metadata": {
        "id": "KPVsSmMxByYF"
      },
      "execution_count": 27,
      "outputs": []
    },
    {
      "cell_type": "code",
      "source": [
        "# Tamaño del batch de entrenamiento\n",
        "batch_size = 50\n",
        "\n",
        "# Tasa de aprendizaje inicial para el gradiente descendente\n",
        "learning_rate = 0.0001\n",
        "\n",
        "# Dispositivo en que se ejecturá el modelo: 'cuda:0' para GPU y 'cpu' para CPU\n",
        "device = torch.device('cuda:0')\n",
        "\n",
        "net = NetCNN()\n",
        "net.to(device)\n",
        "\n",
        "# Construimos el optimizador, y le indicamos que los parámetros a optimizar \n",
        "# son los del modelo definido: net.parameters()\n",
        "\n",
        "optimizer = torch.optim.Adam(net.parameters(), lr=learning_rate)\n",
        "\n",
        "# Definimos también la función de pérdida a utilizar\n",
        "criterion = torch.nn.CrossEntropyLoss() \n",
        "\n",
        "# Creamos un loader iterable indicandole que debe leer los datos a partir de\n",
        "# del dataset creado en el paso anterior. Este objeto puede ser iterado\n",
        "# y nos devuelve de a un batch (x, y).\n",
        "loader = DataLoader(dataset=mnist_train, batch_size=32, shuffle=True)\n",
        "\n",
        "# Número de épocas\n",
        "num_epochs = 5\n",
        "\n",
        "# Lista en la que iremos guardando el valor de la función de pérdida en cada \n",
        "# etapa de entrenamiento\n",
        "loss_list = []\n",
        "\n",
        "# Bucle de entrenamiento\n",
        "for i in range(num_epochs):\n",
        "\n",
        "    # Itero sobre todos los batches del dataset\n",
        "    for x, y in loader:\n",
        "        # Seteo en cero los gradientes de los parámetros a optimizar\n",
        "        optimizer.zero_grad()\n",
        "\n",
        "        # Movemos los tensores a memoria de GPU\n",
        "        x = x.to(device)\n",
        "        y = y.to(device)\n",
        "\n",
        "        # Realizo la pasada forward por la red\n",
        "        loss = criterion(net(x), y)\n",
        "        \n",
        "        # Realizo la pasada backward por la red        \n",
        "        loss.backward()\n",
        "        \n",
        "        # Actualizo los pesos de la red con el optimizador\n",
        "        optimizer.step()\n",
        "\n",
        "        # Me guardo el valor actual de la función de pérdida para luego graficarlo\n",
        "        loss_list.append(loss.data.item())\n",
        "\n",
        "    # Muestro el valor de la función de pérdida cada 100 iteraciones        \n",
        "    #if i > 0 and i % 100 == 0:\n",
        "    print('Epoch %d, loss = %g' % (i, loss))\n",
        "\n",
        "# Muestro la lista que contiene los valores de la función de pérdida\n",
        "# y una versión suavizada (rojo) para observar la tendencia\n",
        "plt.figure()\n",
        "loss_np_array = np.array(loss_list)\n",
        "plt.plot(loss_np_array, alpha = 0.3)\n",
        "N = 60\n",
        "running_avg_loss = np.convolve(loss_np_array, np.ones((N,))/N, mode='valid')\n",
        "plt.plot(running_avg_loss, color='red')\n",
        "plt.title(\"Función de pérdida durante el entrenamiento\")\n"
      ],
      "metadata": {
        "colab": {
          "base_uri": "https://localhost:8080/",
          "height": 717
        },
        "id": "pMla_tO5BzBB",
        "outputId": "03b8d088-490f-4171-bc26-53a087ddecce"
      },
      "execution_count": 28,
      "outputs": [
        {
          "output_type": "stream",
          "name": "stdout",
          "text": [
            "Epoch 0, loss = 0.559509\n",
            "Epoch 1, loss = 0.509576\n",
            "Epoch 2, loss = 0.238985\n",
            "Epoch 3, loss = 0.24159\n",
            "Epoch 4, loss = 0.190199\n"
          ]
        },
        {
          "output_type": "execute_result",
          "data": {
            "text/plain": [
              "Text(0.5, 1.0, 'Función de pérdida durante el entrenamiento')"
            ]
          },
          "metadata": {},
          "execution_count": 28
        },
        {
          "output_type": "display_data",
          "data": {
            "text/plain": [
              "<Figure size 864x720 with 1 Axes>"
            ],
            "image/png": "[encoded data removed]"
          },
          "metadata": {
            "needs_background": "light"
          }
        }
      ]
    },
    {
      "cell_type": "code",
      "source": [
        "torch.save(net.state_dict(), \"./mlp20_batchnorm.pth\") # me guardo los pesos (usando batchnorm)\n",
        "\n",
        "# Cargamos el modelo (no es necesario si el modelo se encuentra en memoria)\n",
        "net = NetCNN()\n",
        "net.load_state_dict(torch.load(\"./mlp20_batchnorm.pth\"))\n",
        "net.to(device)\n",
        "\n",
        "# Mostramos los resultados\n",
        "showTestResults(net)# Mostramos los resultados"
      ],
      "metadata": {
        "colab": {
          "base_uri": "https://localhost:8080/",
          "height": 907
        },
        "id": "krKwGNEmAmcm",
        "outputId": "a2516937-7826-41c4-bb80-b9c92d2e5860"
      },
      "execution_count": 29,
      "outputs": [
        {
          "output_type": "stream",
          "name": "stdout",
          "text": [
            "              precision    recall  f1-score   support\n",
            "\n",
            "           0       0.98      0.99      0.99       980\n",
            "           1       0.99      0.99      0.99      1135\n",
            "           2       0.98      0.99      0.99      1032\n",
            "           3       0.99      0.99      0.99      1010\n",
            "           4       0.99      0.98      0.99       982\n",
            "           5       0.99      0.99      0.99       892\n",
            "           6       0.99      0.98      0.99       958\n",
            "           7       0.99      0.99      0.99      1028\n",
            "           8       0.99      0.98      0.98       974\n",
            "           9       0.98      0.98      0.98      1009\n",
            "\n",
            "    accuracy                           0.99     10000\n",
            "   macro avg       0.99      0.99      0.99     10000\n",
            "weighted avg       0.99      0.99      0.99     10000\n",
            "\n"
          ]
        },
        {
          "output_type": "display_data",
          "data": {
            "text/plain": [
              "<Figure size 720x720 with 2 Axes>"
            ],
            "image/png": "[encoded data removed]"
          },
          "metadata": {
            "needs_background": "light"
          }
        }
      ]
    },
    {
      "cell_type": "markdown",
      "source": [
        "Vemos una buena mejoria al aplicar la regularizacion por batch normalization en la red."
      ],
      "metadata": {
        "id": "Rqz66tpfIP8R"
      }
    },
    {
      "cell_type": "code",
      "source": [],
      "metadata": {
        "id": "ZVAw9e4nIIQX"
      },
      "execution_count": null,
      "outputs": []
    }
  ]
}